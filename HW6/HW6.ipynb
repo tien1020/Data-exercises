{
 "cells": [
  {
   "cell_type": "code",
   "execution_count": 1,
   "id": "78992f68-b829-4a31-b408-9f34b9186d72",
   "metadata": {},
   "outputs": [],
   "source": [
    "# Load the data\n",
    "data <- read.table(\"./data 9.1/uscrime.txt\", header = TRUE)"
   ]
  },
  {
   "cell_type": "code",
   "execution_count": 2,
   "id": "c739b65d-9b81-44e4-b248-9405bb94d160",
   "metadata": {},
   "outputs": [
    {
     "data": {
      "text/html": [
       "<table>\n",
       "<thead><tr><th scope=col>M</th><th scope=col>So</th><th scope=col>Ed</th><th scope=col>Po1</th><th scope=col>Po2</th><th scope=col>LF</th><th scope=col>M.F</th><th scope=col>Pop</th><th scope=col>NW</th><th scope=col>U1</th><th scope=col>U2</th><th scope=col>Wealth</th><th scope=col>Ineq</th><th scope=col>Prob</th><th scope=col>Time</th><th scope=col>Crime</th></tr></thead>\n",
       "<tbody>\n",
       "\t<tr><td>15.1    </td><td>1       </td><td> 9.1    </td><td> 5.8    </td><td> 5.6    </td><td>0.510   </td><td> 95.0   </td><td> 33     </td><td>30.1    </td><td>0.108   </td><td>4.1     </td><td>3940    </td><td>26.1    </td><td>0.084602</td><td>26.2011 </td><td> 791    </td></tr>\n",
       "\t<tr><td>14.3    </td><td>0       </td><td>11.3    </td><td>10.3    </td><td> 9.5    </td><td>0.583   </td><td>101.2   </td><td> 13     </td><td>10.2    </td><td>0.096   </td><td>3.6     </td><td>5570    </td><td>19.4    </td><td>0.029599</td><td>25.2999 </td><td>1635    </td></tr>\n",
       "\t<tr><td>14.2    </td><td>1       </td><td> 8.9    </td><td> 4.5    </td><td> 4.4    </td><td>0.533   </td><td> 96.9   </td><td> 18     </td><td>21.9    </td><td>0.094   </td><td>3.3     </td><td>3180    </td><td>25.0    </td><td>0.083401</td><td>24.3006 </td><td> 578    </td></tr>\n",
       "\t<tr><td>13.6    </td><td>0       </td><td>12.1    </td><td>14.9    </td><td>14.1    </td><td>0.577   </td><td> 99.4   </td><td>157     </td><td> 8.0    </td><td>0.102   </td><td>3.9     </td><td>6730    </td><td>16.7    </td><td>0.015801</td><td>29.9012 </td><td>1969    </td></tr>\n",
       "\t<tr><td>14.1    </td><td>0       </td><td>12.1    </td><td>10.9    </td><td>10.1    </td><td>0.591   </td><td> 98.5   </td><td> 18     </td><td> 3.0    </td><td>0.091   </td><td>2.0     </td><td>5780    </td><td>17.4    </td><td>0.041399</td><td>21.2998 </td><td>1234    </td></tr>\n",
       "\t<tr><td>12.1    </td><td>0       </td><td>11.0    </td><td>11.8    </td><td>11.5    </td><td>0.547   </td><td> 96.4   </td><td> 25     </td><td> 4.4    </td><td>0.084   </td><td>2.9     </td><td>6890    </td><td>12.6    </td><td>0.034201</td><td>20.9995 </td><td> 682    </td></tr>\n",
       "</tbody>\n",
       "</table>\n"
      ],
      "text/latex": [
       "\\begin{tabular}{r|llllllllllllllll}\n",
       " M & So & Ed & Po1 & Po2 & LF & M.F & Pop & NW & U1 & U2 & Wealth & Ineq & Prob & Time & Crime\\\\\n",
       "\\hline\n",
       "\t 15.1     & 1        &  9.1     &  5.8     &  5.6     & 0.510    &  95.0    &  33      & 30.1     & 0.108    & 4.1      & 3940     & 26.1     & 0.084602 & 26.2011  &  791    \\\\\n",
       "\t 14.3     & 0        & 11.3     & 10.3     &  9.5     & 0.583    & 101.2    &  13      & 10.2     & 0.096    & 3.6      & 5570     & 19.4     & 0.029599 & 25.2999  & 1635    \\\\\n",
       "\t 14.2     & 1        &  8.9     &  4.5     &  4.4     & 0.533    &  96.9    &  18      & 21.9     & 0.094    & 3.3      & 3180     & 25.0     & 0.083401 & 24.3006  &  578    \\\\\n",
       "\t 13.6     & 0        & 12.1     & 14.9     & 14.1     & 0.577    &  99.4    & 157      &  8.0     & 0.102    & 3.9      & 6730     & 16.7     & 0.015801 & 29.9012  & 1969    \\\\\n",
       "\t 14.1     & 0        & 12.1     & 10.9     & 10.1     & 0.591    &  98.5    &  18      &  3.0     & 0.091    & 2.0      & 5780     & 17.4     & 0.041399 & 21.2998  & 1234    \\\\\n",
       "\t 12.1     & 0        & 11.0     & 11.8     & 11.5     & 0.547    &  96.4    &  25      &  4.4     & 0.084    & 2.9      & 6890     & 12.6     & 0.034201 & 20.9995  &  682    \\\\\n",
       "\\end{tabular}\n"
      ],
      "text/markdown": [
       "\n",
       "| M | So | Ed | Po1 | Po2 | LF | M.F | Pop | NW | U1 | U2 | Wealth | Ineq | Prob | Time | Crime |\n",
       "|---|---|---|---|---|---|---|---|---|---|---|---|---|---|---|---|\n",
       "| 15.1     | 1        |  9.1     |  5.8     |  5.6     | 0.510    |  95.0    |  33      | 30.1     | 0.108    | 4.1      | 3940     | 26.1     | 0.084602 | 26.2011  |  791     |\n",
       "| 14.3     | 0        | 11.3     | 10.3     |  9.5     | 0.583    | 101.2    |  13      | 10.2     | 0.096    | 3.6      | 5570     | 19.4     | 0.029599 | 25.2999  | 1635     |\n",
       "| 14.2     | 1        |  8.9     |  4.5     |  4.4     | 0.533    |  96.9    |  18      | 21.9     | 0.094    | 3.3      | 3180     | 25.0     | 0.083401 | 24.3006  |  578     |\n",
       "| 13.6     | 0        | 12.1     | 14.9     | 14.1     | 0.577    |  99.4    | 157      |  8.0     | 0.102    | 3.9      | 6730     | 16.7     | 0.015801 | 29.9012  | 1969     |\n",
       "| 14.1     | 0        | 12.1     | 10.9     | 10.1     | 0.591    |  98.5    |  18      |  3.0     | 0.091    | 2.0      | 5780     | 17.4     | 0.041399 | 21.2998  | 1234     |\n",
       "| 12.1     | 0        | 11.0     | 11.8     | 11.5     | 0.547    |  96.4    |  25      |  4.4     | 0.084    | 2.9      | 6890     | 12.6     | 0.034201 | 20.9995  |  682     |\n",
       "\n"
      ],
      "text/plain": [
       "  M    So Ed   Po1  Po2  LF    M.F   Pop NW   U1    U2  Wealth Ineq Prob    \n",
       "1 15.1 1   9.1  5.8  5.6 0.510  95.0  33 30.1 0.108 4.1 3940   26.1 0.084602\n",
       "2 14.3 0  11.3 10.3  9.5 0.583 101.2  13 10.2 0.096 3.6 5570   19.4 0.029599\n",
       "3 14.2 1   8.9  4.5  4.4 0.533  96.9  18 21.9 0.094 3.3 3180   25.0 0.083401\n",
       "4 13.6 0  12.1 14.9 14.1 0.577  99.4 157  8.0 0.102 3.9 6730   16.7 0.015801\n",
       "5 14.1 0  12.1 10.9 10.1 0.591  98.5  18  3.0 0.091 2.0 5780   17.4 0.041399\n",
       "6 12.1 0  11.0 11.8 11.5 0.547  96.4  25  4.4 0.084 2.9 6890   12.6 0.034201\n",
       "  Time    Crime\n",
       "1 26.2011  791 \n",
       "2 25.2999 1635 \n",
       "3 24.3006  578 \n",
       "4 29.9012 1969 \n",
       "5 21.2998 1234 \n",
       "6 20.9995  682 "
      ]
     },
     "metadata": {},
     "output_type": "display_data"
    }
   ],
   "source": [
    "head(data)"
   ]
  },
  {
   "cell_type": "code",
   "execution_count": 3,
   "id": "11c4f2fe-74b6-418a-844f-3c2f81d6361a",
   "metadata": {},
   "outputs": [
    {
     "data": {
      "text/plain": [
       "Importance of components:\n",
       "                          PC1    PC2    PC3     PC4     PC5     PC6     PC7\n",
       "Standard deviation     2.4534 1.6739 1.4160 1.07806 0.97893 0.74377 0.56729\n",
       "Proportion of Variance 0.4013 0.1868 0.1337 0.07748 0.06389 0.03688 0.02145\n",
       "Cumulative Proportion  0.4013 0.5880 0.7217 0.79920 0.86308 0.89996 0.92142\n",
       "                           PC8     PC9    PC10    PC11    PC12    PC13   PC14\n",
       "Standard deviation     0.55444 0.48493 0.44708 0.41915 0.35804 0.26333 0.2418\n",
       "Proportion of Variance 0.02049 0.01568 0.01333 0.01171 0.00855 0.00462 0.0039\n",
       "Cumulative Proportion  0.94191 0.95759 0.97091 0.98263 0.99117 0.99579 0.9997\n",
       "                          PC15\n",
       "Standard deviation     0.06793\n",
       "Proportion of Variance 0.00031\n",
       "Cumulative Proportion  1.00000"
      ]
     },
     "metadata": {},
     "output_type": "display_data"
    }
   ],
   "source": [
    "uscrime_prc <- prcomp(data[,-16], center=TRUE, scale=TRUE)\n",
    "\n",
    "summary(uscrime_prc)"
   ]
  },
  {
   "cell_type": "code",
   "execution_count": 4,
   "id": "95c0778c-06d3-419e-91ea-48cc2174c45d",
   "metadata": {},
   "outputs": [
    {
     "data": {
      "image/png": "[encoded data removed]",
      "text/plain": [
       "Plot with title \"Scree Plot\""
      ]
     },
     "metadata": {},
     "output_type": "display_data"
    }
   ],
   "source": [
    "screeplot(uscrime_prc, main = \"Scree Plot\", type = \"line\")"
   ]
  },
  {
   "cell_type": "markdown",
   "id": "00cf1aba-c1b8-4dce-8108-9592487dd9ef",
   "metadata": {},
   "source": [
    "#### Based on the scree plot, we can choose the first five Pc’s in our model because they’re all above the STD"
   ]
  },
  {
   "cell_type": "code",
   "execution_count": 5,
   "id": "fa7d4ad3-17a0-4a39-8b1c-182278d5c3f0",
   "metadata": {},
   "outputs": [
    {
     "data": {
      "text/plain": [
       "\n",
       "Call:\n",
       "lm(formula = V6 ~ ., data = as.data.frame(uscrime_matrix))\n",
       "\n",
       "Residuals:\n",
       "    Min      1Q  Median      3Q     Max \n",
       "-420.79 -185.01   12.21  146.24  447.86 \n",
       "\n",
       "Coefficients:\n",
       "            Estimate Std. Error t value Pr(>|t|)    \n",
       "(Intercept)   905.09      35.59  25.428  < 2e-16 ***\n",
       "PC1            65.22      14.67   4.447 6.51e-05 ***\n",
       "PC2           -70.08      21.49  -3.261  0.00224 ** \n",
       "PC3            25.19      25.41   0.992  0.32725    \n",
       "PC4            69.45      33.37   2.081  0.04374 *  \n",
       "PC5          -229.04      36.75  -6.232 2.02e-07 ***\n",
       "---\n",
       "Signif. codes:  0 '***' 0.001 '**' 0.01 '*' 0.05 '.' 0.1 ' ' 1\n",
       "\n",
       "Residual standard error: 244 on 41 degrees of freedom\n",
       "Multiple R-squared:  0.6452,\tAdjusted R-squared:  0.6019 \n",
       "F-statistic: 14.91 on 5 and 41 DF,  p-value: 2.446e-08\n"
      ]
     },
     "metadata": {},
     "output_type": "display_data"
    }
   ],
   "source": [
    "#Test PC = 5 \n",
    "pc=5\n",
    "uscrime_matrix <- cbind(uscrime_prc$x[,1:pc],data[,16])\n",
    "#LR model\n",
    "uscrime_model <- lm(V6~., data = as.data.frame(uscrime_matrix))\n",
    "\n",
    "summary(uscrime_model)"
   ]
  },
  {
   "cell_type": "markdown",
   "id": "75c15758-b085-4449-a478-fa7cd383fb2a",
   "metadata": {},
   "source": [
    "#### Based on the summary R-squared = 0.6452 and Adjusted R-squared = 0.6019 \n"
   ]
  },
  {
   "cell_type": "code",
   "execution_count": 6,
   "id": "41c67ed0-f281-4ca0-a639-7f020a3a5e39",
   "metadata": {},
   "outputs": [
    {
     "data": {
      "text/html": [
       "<strong>1:</strong> 1388.92569475604"
      ],
      "text/latex": [
       "\\textbf{1:} 1388.92569475604"
      ],
      "text/markdown": [
       "**1:** 1388.92569475604"
      ],
      "text/plain": [
       "       1 \n",
       "1388.926 "
      ]
     },
     "metadata": {},
     "output_type": "display_data"
    }
   ],
   "source": [
    "new_city <- data.frame(M= 14.0, So = 0, Ed = 10.0, Po1 = 12.0, Po2 = 15.5,\n",
    "                    LF = 0.640, M.F = 94.0, Pop = 150, NW = 1.1, U1 = 0.120, \n",
    "                    U2 = 3.6, Wealth = 3200, Ineq = 20.1, Prob = 0.040, \n",
    "                    Time = 39.0)\n",
    "\n",
    "pred_newcity <- data.frame(predict(uscrime_prc, new_city)) \n",
    "\n",
    "pred_newcity_model <- predict(uscrime_model, pred_newcity)\n",
    "\n",
    "pred_newcity_model"
   ]
  },
  {
   "cell_type": "markdown",
   "id": "2a4fc124-9f66-43cf-aacf-79450658ea1d",
   "metadata": {},
   "source": [
    "#### Comparison\n",
    "#### This R square value is slightly lower than the previous one, suggesting that the model might not explain as much of the variance in the response variable as the previous model. Additionally, the interpretation of the coefficients may be more complex due to the inclusion of principal components. Overall we’ve shown that a PCA model can give just about the same accuracy when observing less predictors."
   ]
  }
 ],
 "metadata": {
  "kernelspec": {
   "display_name": "R",
   "language": "R",
   "name": "ir"
  },
  "language_info": {
   "codemirror_mode": "r",
   "file_extension": ".r",
   "mimetype": "text/x-r-source",
   "name": "R",
   "pygments_lexer": "r",
   "version": "3.6.1"
  }
 },
 "nbformat": 4,
 "nbformat_minor": 5
}
