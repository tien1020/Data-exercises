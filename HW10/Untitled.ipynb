{
 "cells": [
  {
   "cell_type": "code",
   "execution_count": 1,
   "id": "0825331d-6bf0-4fe9-af67-c572b4a40ece",
   "metadata": {},
   "outputs": [],
   "source": [
    "data <- read.table(\"./data 14.1/breast-cancer-wisconsin.data.txt\", header = FALSE, stringsAsFactors =FALSE,sep =\",\")"
   ]
  },
  {
   "cell_type": "code",
   "execution_count": 2,
   "id": "a17e09cf-6ca5-4578-b33d-181874172d66",
   "metadata": {},
   "outputs": [],
   "source": [
    "library(kernlab)"
   ]
  },
  {
   "cell_type": "code",
   "execution_count": 3,
   "id": "ef8473a4-8224-4e91-bc98-e8d2e3673432",
   "metadata": {},
   "outputs": [
    {
     "data": {
      "text/html": [
       "<table>\n",
       "<thead><tr><th scope=col>V1</th><th scope=col>V2</th><th scope=col>V3</th><th scope=col>V4</th><th scope=col>V5</th><th scope=col>V6</th><th scope=col>V7</th><th scope=col>V8</th><th scope=col>V9</th><th scope=col>V10</th><th scope=col>V11</th></tr></thead>\n",
       "<tbody>\n",
       "\t<tr><td>1000025</td><td>5      </td><td> 1     </td><td> 1     </td><td>1      </td><td>2      </td><td>1      </td><td>3      </td><td>1      </td><td>1      </td><td>2      </td></tr>\n",
       "\t<tr><td>1002945</td><td>5      </td><td> 4     </td><td> 4     </td><td>5      </td><td>7      </td><td>10     </td><td>3      </td><td>2      </td><td>1      </td><td>2      </td></tr>\n",
       "\t<tr><td>1015425</td><td>3      </td><td> 1     </td><td> 1     </td><td>1      </td><td>2      </td><td>2      </td><td>3      </td><td>1      </td><td>1      </td><td>2      </td></tr>\n",
       "\t<tr><td>1016277</td><td>6      </td><td> 8     </td><td> 8     </td><td>1      </td><td>3      </td><td>4      </td><td>3      </td><td>7      </td><td>1      </td><td>2      </td></tr>\n",
       "\t<tr><td>1017023</td><td>4      </td><td> 1     </td><td> 1     </td><td>3      </td><td>2      </td><td>1      </td><td>3      </td><td>1      </td><td>1      </td><td>2      </td></tr>\n",
       "\t<tr><td>1017122</td><td>8      </td><td>10     </td><td>10     </td><td>8      </td><td>7      </td><td>10     </td><td>9      </td><td>7      </td><td>1      </td><td>4      </td></tr>\n",
       "</tbody>\n",
       "</table>\n"
      ],
      "text/latex": [
       "\\begin{tabular}{r|lllllllllll}\n",
       " V1 & V2 & V3 & V4 & V5 & V6 & V7 & V8 & V9 & V10 & V11\\\\\n",
       "\\hline\n",
       "\t 1000025 & 5       &  1      &  1      & 1       & 2       & 1       & 3       & 1       & 1       & 2      \\\\\n",
       "\t 1002945 & 5       &  4      &  4      & 5       & 7       & 10      & 3       & 2       & 1       & 2      \\\\\n",
       "\t 1015425 & 3       &  1      &  1      & 1       & 2       & 2       & 3       & 1       & 1       & 2      \\\\\n",
       "\t 1016277 & 6       &  8      &  8      & 1       & 3       & 4       & 3       & 7       & 1       & 2      \\\\\n",
       "\t 1017023 & 4       &  1      &  1      & 3       & 2       & 1       & 3       & 1       & 1       & 2      \\\\\n",
       "\t 1017122 & 8       & 10      & 10      & 8       & 7       & 10      & 9       & 7       & 1       & 4      \\\\\n",
       "\\end{tabular}\n"
      ],
      "text/markdown": [
       "\n",
       "| V1 | V2 | V3 | V4 | V5 | V6 | V7 | V8 | V9 | V10 | V11 |\n",
       "|---|---|---|---|---|---|---|---|---|---|---|\n",
       "| 1000025 | 5       |  1      |  1      | 1       | 2       | 1       | 3       | 1       | 1       | 2       |\n",
       "| 1002945 | 5       |  4      |  4      | 5       | 7       | 10      | 3       | 2       | 1       | 2       |\n",
       "| 1015425 | 3       |  1      |  1      | 1       | 2       | 2       | 3       | 1       | 1       | 2       |\n",
       "| 1016277 | 6       |  8      |  8      | 1       | 3       | 4       | 3       | 7       | 1       | 2       |\n",
       "| 1017023 | 4       |  1      |  1      | 3       | 2       | 1       | 3       | 1       | 1       | 2       |\n",
       "| 1017122 | 8       | 10      | 10      | 8       | 7       | 10      | 9       | 7       | 1       | 4       |\n",
       "\n"
      ],
      "text/plain": [
       "  V1      V2 V3 V4 V5 V6 V7 V8 V9 V10 V11\n",
       "1 1000025 5   1  1 1  2  1  3  1  1   2  \n",
       "2 1002945 5   4  4 5  7  10 3  2  1   2  \n",
       "3 1015425 3   1  1 1  2  2  3  1  1   2  \n",
       "4 1016277 6   8  8 1  3  4  3  7  1   2  \n",
       "5 1017023 4   1  1 3  2  1  3  1  1   2  \n",
       "6 1017122 8  10 10 8  7  10 9  7  1   4  "
      ]
     },
     "metadata": {},
     "output_type": "display_data"
    }
   ],
   "source": [
    "head(data)"
   ]
  },
  {
   "cell_type": "code",
   "execution_count": 4,
   "id": "a90e099f-a5b1-488c-a350-cb484702c075",
   "metadata": {},
   "outputs": [
    {
     "name": "stdout",
     "output_type": "stream",
     "text": [
      "[1] \"V2\"\n",
      "\n",
      "  1   2   3   4   5   6   7   8   9  10 \n",
      "145  50 108  80 130  34  23  46  14  69 \n",
      "[1] \"V3\"\n",
      "\n",
      "  1   2   3   4   5   6   7   8   9  10 \n",
      "384  45  52  40  30  27  19  29   6  67 \n",
      "[1] \"V4\"\n",
      "\n",
      "  1   2   3   4   5   6   7   8   9  10 \n",
      "353  59  56  44  34  30  30  28   7  58 \n",
      "[1] \"V5\"\n",
      "\n",
      "  1   2   3   4   5   6   7   8   9  10 \n",
      "407  58  58  33  23  22  13  25   5  55 \n",
      "[1] \"V6\"\n",
      "\n",
      "  1   2   3   4   5   6   7   8   9  10 \n",
      " 47 386  72  48  39  41  12  21   2  31 \n",
      "[1] \"V7\"\n",
      "\n",
      "  ?   1  10   2   3   4   5   6   7   8   9 \n",
      " 16 402 132  30  28  19  30   4   8  21   9 \n",
      "[1] \"V8\"\n",
      "\n",
      "  1   2   3   4   5   6   7   8   9  10 \n",
      "152 166 165  40  34  10  73  28  11  20 \n",
      "[1] \"V9\"\n",
      "\n",
      "  1   2   3   4   5   6   7   8   9  10 \n",
      "443  36  44  18  19  22  16  24  16  61 \n",
      "[1] \"V10\"\n",
      "\n",
      "  1   2   3   4   5   6   7   8  10 \n",
      "579  35  33  12   6   3   9   8  14 \n",
      "[1] \"V11\"\n",
      "\n",
      "  2   4 \n",
      "458 241 \n"
     ]
    }
   ],
   "source": [
    "# Locate the missing value\n",
    "for (i in 2:11){\n",
    "    print(paste0(\"V\", i))\n",
    "    print(table(data[,i]))\n",
    "    }"
   ]
  },
  {
   "cell_type": "markdown",
   "id": "82ece412-c0fa-4bf0-87e3-2951650d505a",
   "metadata": {},
   "source": [
    "#### We can see V7 has 16 missing value"
   ]
  },
  {
   "cell_type": "code",
   "execution_count": 5,
   "id": "d63da996-cd27-413b-8cce-22a7858b83d3",
   "metadata": {},
   "outputs": [
    {
     "data": {
      "text/plain": [
       "       V1                 V2               V3               V4        \n",
       " Min.   :   61634   Min.   : 1.000   Min.   : 1.000   Min.   : 1.000  \n",
       " 1st Qu.:  870688   1st Qu.: 2.000   1st Qu.: 1.000   1st Qu.: 1.000  \n",
       " Median : 1171710   Median : 4.000   Median : 1.000   Median : 1.000  \n",
       " Mean   : 1071704   Mean   : 4.418   Mean   : 3.134   Mean   : 3.207  \n",
       " 3rd Qu.: 1238298   3rd Qu.: 6.000   3rd Qu.: 5.000   3rd Qu.: 5.000  \n",
       " Max.   :13454352   Max.   :10.000   Max.   :10.000   Max.   :10.000  \n",
       "       V5               V6              V7                  V8        \n",
       " Min.   : 1.000   Min.   : 1.000   Length:699         Min.   : 1.000  \n",
       " 1st Qu.: 1.000   1st Qu.: 2.000   Class :character   1st Qu.: 2.000  \n",
       " Median : 1.000   Median : 2.000   Mode  :character   Median : 3.000  \n",
       " Mean   : 2.807   Mean   : 3.216                      Mean   : 3.438  \n",
       " 3rd Qu.: 4.000   3rd Qu.: 4.000                      3rd Qu.: 5.000  \n",
       " Max.   :10.000   Max.   :10.000                      Max.   :10.000  \n",
       "       V9              V10              V11      \n",
       " Min.   : 1.000   Min.   : 1.000   Min.   :2.00  \n",
       " 1st Qu.: 1.000   1st Qu.: 1.000   1st Qu.:2.00  \n",
       " Median : 1.000   Median : 1.000   Median :2.00  \n",
       " Mean   : 2.867   Mean   : 1.589   Mean   :2.69  \n",
       " 3rd Qu.: 4.000   3rd Qu.: 1.000   3rd Qu.:4.00  \n",
       " Max.   :10.000   Max.   :10.000   Max.   :4.00  "
      ]
     },
     "metadata": {},
     "output_type": "display_data"
    }
   ],
   "source": [
    "summary(data)"
   ]
  },
  {
   "cell_type": "markdown",
   "id": "37aca28f-0ebc-4101-9bae-e39ef31aa6b3",
   "metadata": {},
   "source": [
    "#### In this dataset, the attribute V7 has missing data which is denoted by ‘?’ in the rows where it ismissing. We can find the indices of these rows using the which( )function:"
   ]
  },
  {
   "cell_type": "code",
   "execution_count": 6,
   "id": "ef6cbf4e-20e6-426b-809d-d5abf8244b42",
   "metadata": {},
   "outputs": [
    {
     "data": {
      "text/html": [
       "<table>\n",
       "<thead><tr><th></th><th scope=col>V1</th><th scope=col>V2</th><th scope=col>V3</th><th scope=col>V4</th><th scope=col>V5</th><th scope=col>V6</th><th scope=col>V7</th><th scope=col>V8</th><th scope=col>V9</th><th scope=col>V10</th><th scope=col>V11</th></tr></thead>\n",
       "<tbody>\n",
       "\t<tr><th scope=row>24</th><td>1057013</td><td>8      </td><td>4      </td><td>5      </td><td>1      </td><td>2      </td><td>?      </td><td>7      </td><td> 3     </td><td>1      </td><td>4      </td></tr>\n",
       "\t<tr><th scope=row>41</th><td>1096800</td><td>6      </td><td>6      </td><td>6      </td><td>9      </td><td>6      </td><td>?      </td><td>7      </td><td> 8     </td><td>1      </td><td>2      </td></tr>\n",
       "\t<tr><th scope=row>140</th><td>1183246</td><td>1      </td><td>1      </td><td>1      </td><td>1      </td><td>1      </td><td>?      </td><td>2      </td><td> 1     </td><td>1      </td><td>2      </td></tr>\n",
       "\t<tr><th scope=row>146</th><td>1184840</td><td>1      </td><td>1      </td><td>3      </td><td>1      </td><td>2      </td><td>?      </td><td>2      </td><td> 1     </td><td>1      </td><td>2      </td></tr>\n",
       "\t<tr><th scope=row>159</th><td>1193683</td><td>1      </td><td>1      </td><td>2      </td><td>1      </td><td>3      </td><td>?      </td><td>1      </td><td> 1     </td><td>1      </td><td>2      </td></tr>\n",
       "\t<tr><th scope=row>165</th><td>1197510</td><td>5      </td><td>1      </td><td>1      </td><td>1      </td><td>2      </td><td>?      </td><td>3      </td><td> 1     </td><td>1      </td><td>2      </td></tr>\n",
       "\t<tr><th scope=row>236</th><td>1241232</td><td>3      </td><td>1      </td><td>4      </td><td>1      </td><td>2      </td><td>?      </td><td>3      </td><td> 1     </td><td>1      </td><td>2      </td></tr>\n",
       "\t<tr><th scope=row>250</th><td> 169356</td><td>3      </td><td>1      </td><td>1      </td><td>1      </td><td>2      </td><td>?      </td><td>3      </td><td> 1     </td><td>1      </td><td>2      </td></tr>\n",
       "\t<tr><th scope=row>276</th><td> 432809</td><td>3      </td><td>1      </td><td>3      </td><td>1      </td><td>2      </td><td>?      </td><td>2      </td><td> 1     </td><td>1      </td><td>2      </td></tr>\n",
       "\t<tr><th scope=row>293</th><td> 563649</td><td>8      </td><td>8      </td><td>8      </td><td>1      </td><td>2      </td><td>?      </td><td>6      </td><td>10     </td><td>1      </td><td>4      </td></tr>\n",
       "\t<tr><th scope=row>295</th><td> 606140</td><td>1      </td><td>1      </td><td>1      </td><td>1      </td><td>2      </td><td>?      </td><td>2      </td><td> 1     </td><td>1      </td><td>2      </td></tr>\n",
       "\t<tr><th scope=row>298</th><td>  61634</td><td>5      </td><td>4      </td><td>3      </td><td>1      </td><td>2      </td><td>?      </td><td>2      </td><td> 3     </td><td>1      </td><td>2      </td></tr>\n",
       "\t<tr><th scope=row>316</th><td> 704168</td><td>4      </td><td>6      </td><td>5      </td><td>6      </td><td>7      </td><td>?      </td><td>4      </td><td> 9     </td><td>1      </td><td>2      </td></tr>\n",
       "\t<tr><th scope=row>322</th><td> 733639</td><td>3      </td><td>1      </td><td>1      </td><td>1      </td><td>2      </td><td>?      </td><td>3      </td><td> 1     </td><td>1      </td><td>2      </td></tr>\n",
       "\t<tr><th scope=row>412</th><td>1238464</td><td>1      </td><td>1      </td><td>1      </td><td>1      </td><td>1      </td><td>?      </td><td>2      </td><td> 1     </td><td>1      </td><td>2      </td></tr>\n",
       "\t<tr><th scope=row>618</th><td>1057067</td><td>1      </td><td>1      </td><td>1      </td><td>1      </td><td>1      </td><td>?      </td><td>1      </td><td> 1     </td><td>1      </td><td>2      </td></tr>\n",
       "</tbody>\n",
       "</table>\n"
      ],
      "text/latex": [
       "\\begin{tabular}{r|lllllllllll}\n",
       "  & V1 & V2 & V3 & V4 & V5 & V6 & V7 & V8 & V9 & V10 & V11\\\\\n",
       "\\hline\n",
       "\t24 & 1057013 & 8       & 4       & 5       & 1       & 2       & ?       & 7       &  3      & 1       & 4      \\\\\n",
       "\t41 & 1096800 & 6       & 6       & 6       & 9       & 6       & ?       & 7       &  8      & 1       & 2      \\\\\n",
       "\t140 & 1183246 & 1       & 1       & 1       & 1       & 1       & ?       & 2       &  1      & 1       & 2      \\\\\n",
       "\t146 & 1184840 & 1       & 1       & 3       & 1       & 2       & ?       & 2       &  1      & 1       & 2      \\\\\n",
       "\t159 & 1193683 & 1       & 1       & 2       & 1       & 3       & ?       & 1       &  1      & 1       & 2      \\\\\n",
       "\t165 & 1197510 & 5       & 1       & 1       & 1       & 2       & ?       & 3       &  1      & 1       & 2      \\\\\n",
       "\t236 & 1241232 & 3       & 1       & 4       & 1       & 2       & ?       & 3       &  1      & 1       & 2      \\\\\n",
       "\t250 &  169356 & 3       & 1       & 1       & 1       & 2       & ?       & 3       &  1      & 1       & 2      \\\\\n",
       "\t276 &  432809 & 3       & 1       & 3       & 1       & 2       & ?       & 2       &  1      & 1       & 2      \\\\\n",
       "\t293 &  563649 & 8       & 8       & 8       & 1       & 2       & ?       & 6       & 10      & 1       & 4      \\\\\n",
       "\t295 &  606140 & 1       & 1       & 1       & 1       & 2       & ?       & 2       &  1      & 1       & 2      \\\\\n",
       "\t298 &   61634 & 5       & 4       & 3       & 1       & 2       & ?       & 2       &  3      & 1       & 2      \\\\\n",
       "\t316 &  704168 & 4       & 6       & 5       & 6       & 7       & ?       & 4       &  9      & 1       & 2      \\\\\n",
       "\t322 &  733639 & 3       & 1       & 1       & 1       & 2       & ?       & 3       &  1      & 1       & 2      \\\\\n",
       "\t412 & 1238464 & 1       & 1       & 1       & 1       & 1       & ?       & 2       &  1      & 1       & 2      \\\\\n",
       "\t618 & 1057067 & 1       & 1       & 1       & 1       & 1       & ?       & 1       &  1      & 1       & 2      \\\\\n",
       "\\end{tabular}\n"
      ],
      "text/markdown": [
       "\n",
       "| <!--/--> | V1 | V2 | V3 | V4 | V5 | V6 | V7 | V8 | V9 | V10 | V11 |\n",
       "|---|---|---|---|---|---|---|---|---|---|---|---|\n",
       "| 24 | 1057013 | 8       | 4       | 5       | 1       | 2       | ?       | 7       |  3      | 1       | 4       |\n",
       "| 41 | 1096800 | 6       | 6       | 6       | 9       | 6       | ?       | 7       |  8      | 1       | 2       |\n",
       "| 140 | 1183246 | 1       | 1       | 1       | 1       | 1       | ?       | 2       |  1      | 1       | 2       |\n",
       "| 146 | 1184840 | 1       | 1       | 3       | 1       | 2       | ?       | 2       |  1      | 1       | 2       |\n",
       "| 159 | 1193683 | 1       | 1       | 2       | 1       | 3       | ?       | 1       |  1      | 1       | 2       |\n",
       "| 165 | 1197510 | 5       | 1       | 1       | 1       | 2       | ?       | 3       |  1      | 1       | 2       |\n",
       "| 236 | 1241232 | 3       | 1       | 4       | 1       | 2       | ?       | 3       |  1      | 1       | 2       |\n",
       "| 250 |  169356 | 3       | 1       | 1       | 1       | 2       | ?       | 3       |  1      | 1       | 2       |\n",
       "| 276 |  432809 | 3       | 1       | 3       | 1       | 2       | ?       | 2       |  1      | 1       | 2       |\n",
       "| 293 |  563649 | 8       | 8       | 8       | 1       | 2       | ?       | 6       | 10      | 1       | 4       |\n",
       "| 295 |  606140 | 1       | 1       | 1       | 1       | 2       | ?       | 2       |  1      | 1       | 2       |\n",
       "| 298 |   61634 | 5       | 4       | 3       | 1       | 2       | ?       | 2       |  3      | 1       | 2       |\n",
       "| 316 |  704168 | 4       | 6       | 5       | 6       | 7       | ?       | 4       |  9      | 1       | 2       |\n",
       "| 322 |  733639 | 3       | 1       | 1       | 1       | 2       | ?       | 3       |  1      | 1       | 2       |\n",
       "| 412 | 1238464 | 1       | 1       | 1       | 1       | 1       | ?       | 2       |  1      | 1       | 2       |\n",
       "| 618 | 1057067 | 1       | 1       | 1       | 1       | 1       | ?       | 1       |  1      | 1       | 2       |\n",
       "\n"
      ],
      "text/plain": [
       "    V1      V2 V3 V4 V5 V6 V7 V8 V9 V10 V11\n",
       "24  1057013 8  4  5  1  2  ?  7   3 1   4  \n",
       "41  1096800 6  6  6  9  6  ?  7   8 1   2  \n",
       "140 1183246 1  1  1  1  1  ?  2   1 1   2  \n",
       "146 1184840 1  1  3  1  2  ?  2   1 1   2  \n",
       "159 1193683 1  1  2  1  3  ?  1   1 1   2  \n",
       "165 1197510 5  1  1  1  2  ?  3   1 1   2  \n",
       "236 1241232 3  1  4  1  2  ?  3   1 1   2  \n",
       "250  169356 3  1  1  1  2  ?  3   1 1   2  \n",
       "276  432809 3  1  3  1  2  ?  2   1 1   2  \n",
       "293  563649 8  8  8  1  2  ?  6  10 1   4  \n",
       "295  606140 1  1  1  1  2  ?  2   1 1   2  \n",
       "298   61634 5  4  3  1  2  ?  2   3 1   2  \n",
       "316  704168 4  6  5  6  7  ?  4   9 1   2  \n",
       "322  733639 3  1  1  1  2  ?  3   1 1   2  \n",
       "412 1238464 1  1  1  1  1  ?  2   1 1   2  \n",
       "618 1057067 1  1  1  1  1  ?  1   1 1   2  "
      ]
     },
     "metadata": {},
     "output_type": "display_data"
    }
   ],
   "source": [
    "# V7 missing data\n",
    "data[which(data$V7 == \"?\"),]"
   ]
  },
  {
   "cell_type": "code",
   "execution_count": 7,
   "id": "a4420d66-1d5e-45c1-963f-819c4e980dcf",
   "metadata": {},
   "outputs": [
    {
     "data": {
      "text/html": [
       "0.0228898426323319"
      ],
      "text/latex": [
       "0.0228898426323319"
      ],
      "text/markdown": [
       "0.0228898426323319"
      ],
      "text/plain": [
       "[1] 0.02288984"
      ]
     },
     "metadata": {},
     "output_type": "display_data"
    }
   ],
   "source": [
    "# Calculate the missing %\n",
    "nrow(data[which(data$V7 == \"?\"),])/nrow(data)"
   ]
  },
  {
   "cell_type": "code",
   "execution_count": null,
   "id": "85a00829-4356-4e07-9d7a-5023bdabb664",
   "metadata": {},
   "outputs": [],
   "source": []
  },
  {
   "cell_type": "markdown",
   "id": "01c27bd9-7806-4214-8f9e-2cf51734f1c0",
   "metadata": {},
   "source": [
    "#### Therefore, about 2.28% of the rows are missing V7 "
   ]
  },
  {
   "cell_type": "markdown",
   "id": "bceac925-c092-4b7c-a14f-0e027745be75",
   "metadata": {},
   "source": [
    "#### mean/mode imputation method"
   ]
  },
  {
   "cell_type": "code",
   "execution_count": 8,
   "id": "1572b089-2edc-4b04-b285-5b50bc460240",
   "metadata": {},
   "outputs": [
    {
     "data": {
      "text/html": [
       "<ol class=list-inline>\n",
       "\t<li>24</li>\n",
       "\t<li>41</li>\n",
       "\t<li>140</li>\n",
       "\t<li>146</li>\n",
       "\t<li>159</li>\n",
       "\t<li>165</li>\n",
       "\t<li>236</li>\n",
       "\t<li>250</li>\n",
       "\t<li>276</li>\n",
       "\t<li>293</li>\n",
       "\t<li>295</li>\n",
       "\t<li>298</li>\n",
       "\t<li>316</li>\n",
       "\t<li>322</li>\n",
       "\t<li>412</li>\n",
       "\t<li>618</li>\n",
       "</ol>\n"
      ],
      "text/latex": [
       "\\begin{enumerate*}\n",
       "\\item 24\n",
       "\\item 41\n",
       "\\item 140\n",
       "\\item 146\n",
       "\\item 159\n",
       "\\item 165\n",
       "\\item 236\n",
       "\\item 250\n",
       "\\item 276\n",
       "\\item 293\n",
       "\\item 295\n",
       "\\item 298\n",
       "\\item 316\n",
       "\\item 322\n",
       "\\item 412\n",
       "\\item 618\n",
       "\\end{enumerate*}\n"
      ],
      "text/markdown": [
       "1. 24\n",
       "2. 41\n",
       "3. 140\n",
       "4. 146\n",
       "5. 159\n",
       "6. 165\n",
       "7. 236\n",
       "8. 250\n",
       "9. 276\n",
       "10. 293\n",
       "11. 295\n",
       "12. 298\n",
       "13. 316\n",
       "14. 322\n",
       "15. 412\n",
       "16. 618\n",
       "\n",
       "\n"
      ],
      "text/plain": [
       " [1]  24  41 140 146 159 165 236 250 276 293 295 298 316 322 412 618"
      ]
     },
     "metadata": {},
     "output_type": "display_data"
    }
   ],
   "source": [
    "impdata <- which(data$V7 ==\"?\")\n",
    "impdata"
   ]
  },
  {
   "cell_type": "code",
   "execution_count": 9,
   "id": "e3fdb70d-c7ef-4e4f-98f7-16f256a206d4",
   "metadata": {},
   "outputs": [
    {
     "data": {
      "text/html": [
       "3.54465592972182"
      ],
      "text/latex": [
       "3.54465592972182"
      ],
      "text/markdown": [
       "3.54465592972182"
      ],
      "text/plain": [
       "[1] 3.544656"
      ]
     },
     "metadata": {},
     "output_type": "display_data"
    }
   ],
   "source": [
    "# Mean method\n",
    "dataMeanV7 <- mean(as.numeric(data[-impdata,\"V7\"]))\n",
    "dataMeanV7"
   ]
  },
  {
   "cell_type": "markdown",
   "id": "4f89098f-75b7-4407-9795-50a8ae016f81",
   "metadata": {},
   "source": [
    "#### The mean value impute is 3.5446559"
   ]
  },
  {
   "cell_type": "code",
   "execution_count": 10,
   "id": "5d08ecf9-6e19-49a8-b8e7-3df5164014fc",
   "metadata": {},
   "outputs": [
    {
     "data": {
      "text/html": [
       "1"
      ],
      "text/latex": [
       "1"
      ],
      "text/markdown": [
       "1"
      ],
      "text/plain": [
       "[1] 1"
      ]
     },
     "metadata": {},
     "output_type": "display_data"
    }
   ],
   "source": [
    "# Mode method\n",
    "Mode <- function(x) {\n",
    "  ux <- unique(x)\n",
    "  ux[which.max(tabulate(match(x, ux)))]\n",
    "}\n",
    "\n",
    "mode_v7 <- as.numeric(Mode(data[!is.na(data$V7), 'V7']))\n",
    "mode_v7"
   ]
  },
  {
   "cell_type": "markdown",
   "id": "73c818df-3871-4daa-81ca-7d262be3c461",
   "metadata": {},
   "source": [
    "#### The Mode value is 1"
   ]
  },
  {
   "cell_type": "code",
   "execution_count": 11,
   "id": "d3b95810-fd30-4170-9e34-a076f4f21e35",
   "metadata": {},
   "outputs": [],
   "source": [
    "data_modified <- data[-impdata, 2:10]"
   ]
  },
  {
   "cell_type": "code",
   "execution_count": 12,
   "id": "c2aa2545-9385-4c15-b4e5-e5025e53f4f9",
   "metadata": {},
   "outputs": [
    {
     "data": {
      "text/plain": [
       "\n",
       "Call:\n",
       "lm(formula = V7 ~ V2 + V3 + V4 + V5 + V6 + V8 + V9 + V10, data = data_modified)\n",
       "\n",
       "Residuals:\n",
       "    Min      1Q  Median      3Q     Max \n",
       "-9.7316 -0.9426 -0.3002  0.6725  8.6998 \n",
       "\n",
       "Coefficients:\n",
       "             Estimate Std. Error t value Pr(>|t|)    \n",
       "(Intercept) -0.616652   0.194975  -3.163  0.00163 ** \n",
       "V2           0.230156   0.041691   5.521 4.83e-08 ***\n",
       "V3          -0.067980   0.076170  -0.892  0.37246    \n",
       "V4           0.340442   0.073420   4.637 4.25e-06 ***\n",
       "V5           0.339705   0.045919   7.398 4.13e-13 ***\n",
       "V6           0.090392   0.062541   1.445  0.14883    \n",
       "V8           0.320577   0.059047   5.429 7.91e-08 ***\n",
       "V9           0.007293   0.044486   0.164  0.86983    \n",
       "V10         -0.075230   0.059331  -1.268  0.20524    \n",
       "---\n",
       "Signif. codes:  0 '***' 0.001 '**' 0.01 '*' 0.05 '.' 0.1 ' ' 1\n",
       "\n",
       "Residual standard error: 2.274 on 674 degrees of freedom\n",
       "Multiple R-squared:  0.615,\tAdjusted R-squared:  0.6104 \n",
       "F-statistic: 134.6 on 8 and 674 DF,  p-value: < 2.2e-16\n"
      ]
     },
     "metadata": {},
     "output_type": "display_data"
    }
   ],
   "source": [
    "model <- lm(formula = V7 ~ V2 + V3 + V4+V5+V6+V8+V9+V10, data= data_modified)\n",
    "summary(model)"
   ]
  },
  {
   "cell_type": "markdown",
   "id": "6e8893f5-a691-495a-8761-28393671549f",
   "metadata": {},
   "source": [
    "#### V2, V4, V5, and V8 are significant, so I’ll rerun the model"
   ]
  },
  {
   "cell_type": "code",
   "execution_count": 13,
   "id": "317b6e00-18df-44cb-9587-56fa050bf035",
   "metadata": {},
   "outputs": [
    {
     "data": {
      "text/plain": [
       "\n",
       "Call:\n",
       "lm(formula = V7 ~ V2 + V4 + V5 + V8, data = data_modified)\n",
       "\n",
       "Residuals:\n",
       "    Min      1Q  Median      3Q     Max \n",
       "-9.8115 -0.9531 -0.3111  0.6678  8.6889 \n",
       "\n",
       "Coefficients:\n",
       "            Estimate Std. Error t value Pr(>|t|)    \n",
       "(Intercept) -0.53601    0.17514  -3.060   0.0023 ** \n",
       "V2           0.22617    0.04121   5.488 5.75e-08 ***\n",
       "V4           0.31729    0.05086   6.239 7.76e-10 ***\n",
       "V5           0.33227    0.04431   7.499 2.03e-13 ***\n",
       "V8           0.32378    0.05606   5.775 1.17e-08 ***\n",
       "---\n",
       "Signif. codes:  0 '***' 0.001 '**' 0.01 '*' 0.05 '.' 0.1 ' ' 1\n",
       "\n",
       "Residual standard error: 2.274 on 678 degrees of freedom\n",
       "Multiple R-squared:  0.6129,\tAdjusted R-squared:  0.6107 \n",
       "F-statistic: 268.4 on 4 and 678 DF,  p-value: < 2.2e-16\n"
      ]
     },
     "metadata": {},
     "output_type": "display_data"
    }
   ],
   "source": [
    "model2 <- lm(V7~V2+V4+V5+V8, data = data_modified)\n",
    "summary(model2)"
   ]
  },
  {
   "cell_type": "code",
   "execution_count": 14,
   "id": "1122c6a1-f5dc-479f-8f1f-67fab608211b",
   "metadata": {},
   "outputs": [],
   "source": [
    "V7_pred <- predict(model2, data = impdata)"
   ]
  },
  {
   "cell_type": "markdown",
   "id": "beaa99ae-36cb-4ffa-b6f0-094ec2b12568",
   "metadata": {},
   "source": [
    "### Regression imputation model for V7 show"
   ]
  },
  {
   "cell_type": "code",
   "execution_count": 15,
   "id": "391d1cbf-92b4-4681-b758-fa217b3bbca7",
   "metadata": {},
   "outputs": [
    {
     "data": {
      "text/html": [
       "<ol class=list-inline>\n",
       "\t<li>-0.702918043167183</li>\n",
       "\t<li>-0.337814199688856</li>\n",
       "\t<li>0.673853322217014</li>\n",
       "\t<li>-1.27025334456317</li>\n",
       "\t<li>1.13122571505061</li>\n",
       "\t<li>-1.02573335461491</li>\n",
       "\t<li>1.59333310297543</li>\n",
       "\t<li>0.854822010732002</li>\n",
       "\t<li>-1.83615986198427</li>\n",
       "\t<li>0.812499173262651</li>\n",
       "\t<li>-0.88608168811233</li>\n",
       "\t<li>-0.827955094298934</li>\n",
       "\t<li>-1.77636296456027</li>\n",
       "\t<li>0.736742674231666</li>\n",
       "\t<li>-0.125535718599883</li>\n",
       "\t<li>0.0290834304640693</li>\n",
       "</ol>\n"
      ],
      "text/latex": [
       "\\begin{enumerate*}\n",
       "\\item -0.702918043167183\n",
       "\\item -0.337814199688856\n",
       "\\item 0.673853322217014\n",
       "\\item -1.27025334456317\n",
       "\\item 1.13122571505061\n",
       "\\item -1.02573335461491\n",
       "\\item 1.59333310297543\n",
       "\\item 0.854822010732002\n",
       "\\item -1.83615986198427\n",
       "\\item 0.812499173262651\n",
       "\\item -0.88608168811233\n",
       "\\item -0.827955094298934\n",
       "\\item -1.77636296456027\n",
       "\\item 0.736742674231666\n",
       "\\item -0.125535718599883\n",
       "\\item 0.0290834304640693\n",
       "\\end{enumerate*}\n"
      ],
      "text/markdown": [
       "1. -0.702918043167183\n",
       "2. -0.337814199688856\n",
       "3. 0.673853322217014\n",
       "4. -1.27025334456317\n",
       "5. 1.13122571505061\n",
       "6. -1.02573335461491\n",
       "7. 1.59333310297543\n",
       "8. 0.854822010732002\n",
       "9. -1.83615986198427\n",
       "10. 0.812499173262651\n",
       "11. -0.88608168811233\n",
       "12. -0.827955094298934\n",
       "13. -1.77636296456027\n",
       "14. 0.736742674231666\n",
       "15. -0.125535718599883\n",
       "16. 0.0290834304640693\n",
       "\n",
       "\n"
      ],
      "text/plain": [
       " [1] -0.70291804 -0.33781420  0.67385332 -1.27025334  1.13122572 -1.02573335\n",
       " [7]  1.59333310  0.85482201 -1.83615986  0.81249917 -0.88608169 -0.82795509\n",
       "[13] -1.77636296  0.73674267 -0.12553572  0.02908343"
      ]
     },
     "metadata": {},
     "output_type": "display_data"
    }
   ],
   "source": [
    "pert <- rnorm(length(impdata), 0,1)\n",
    "pert"
   ]
  },
  {
   "cell_type": "markdown",
   "id": "ac67cb33-5156-4021-a927-9caf15dbe8d2",
   "metadata": {},
   "source": [
    "# Question 15.1"
   ]
  },
  {
   "cell_type": "markdown",
   "id": "d2d7b442-3236-4329-9ddc-5dada6b48287",
   "metadata": {},
   "source": [
    "#### Inventory Management:\n",
    "#### Optimizing inventory management involves ensuring that the store has the right amount of each product at the right time to meet customer demand while minimizing overstock and stockouts. This requires analyzing historical sales data, seasonality trends, and factors like promotions or marketing campaigns.\n",
    "\n",
    "#### Data needed for inventory management optimization includes:\n",
    "\n",
    "#### Historical sales data: To understand past demand patterns for each product.\n",
    "#### Seasonality data: To account for fluctuations in demand due to seasons or holidays.\n",
    "#### Lead time data: The time it takes for a product to be restocked once an order is placed.\n",
    "#### Supplier information: Lead times, costs, and minimum order quantities from suppliers.\n",
    "#### Sales forecasts: Predictions of future demand for each product.\n",
    "#### Product Recommendation:\n",
    "#### Optimizing product recommendations aims to personalize the shopping experience for each customer, increasing the likelihood of conversion and enhancing customer satisfaction. This involves recommending products that are relevant and appealing to each individual based on their preferences and behavior.\n",
    "\n",
    "#### Data needed for product recommendation optimization includes:\n",
    "\n",
    "#### Customer behavior data: Purchase history, browsing history, items added to cart, wishlists, etc.\n",
    "#### Product attributes: Categories, sizes, colors, brands, etc.\n",
    "#### Customer demographics: Age, gender, location, etc.\n",
    "#### Seasonal trends and preferences: Trending styles, seasonal colors, etc.\n",
    "#### Customer feedback: Reviews, ratings, and feedback on past purchases.\n",
    "#### By analyzing and leveraging these datasets effectively, an online clothing store can optimize its inventory management to minimize costs and maximize sales, while also providing personalized product recommendations to enhance the shopping experience and increase customer loyalty.\n",
    "\n",
    "\n",
    "\n",
    "\n",
    "\n"
   ]
  },
  {
   "cell_type": "code",
   "execution_count": null,
   "id": "53b97dca-8093-4a1b-b266-6fe80f3b6c15",
   "metadata": {},
   "outputs": [],
   "source": []
  }
 ],
 "metadata": {
  "kernelspec": {
   "display_name": "R",
   "language": "R",
   "name": "ir"
  },
  "language_info": {
   "codemirror_mode": "r",
   "file_extension": ".r",
   "mimetype": "text/x-r-source",
   "name": "R",
   "pygments_lexer": "r",
   "version": "3.6.1"
  }
 },
 "nbformat": 4,
 "nbformat_minor": 5
}
