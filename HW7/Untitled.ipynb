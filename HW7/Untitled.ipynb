{
 "cells": [
  {
   "cell_type": "markdown",
   "id": "19335d98-3964-4392-8997-f15114952af4",
   "metadata": {},
   "source": [
    "# Question 10.1\n",
    "## (a) Regression tree model"
   ]
  },
  {
   "cell_type": "code",
   "execution_count": 1,
   "id": "301b34e5-6a85-4a18-8b51-ba43f5131aaa",
   "metadata": {},
   "outputs": [],
   "source": [
    "# Load the data\n",
    "data <- read.table(\"./data 10.1/uscrime.txt\", header = TRUE)"
   ]
  },
  {
   "cell_type": "code",
   "execution_count": 2,
   "id": "34023a27-045c-4c7b-99b9-1ddb90c4afeb",
   "metadata": {},
   "outputs": [
    {
     "data": {
      "text/html": [
       "<table>\n",
       "<thead><tr><th scope=col>M</th><th scope=col>So</th><th scope=col>Ed</th><th scope=col>Po1</th><th scope=col>Po2</th><th scope=col>LF</th><th scope=col>M.F</th><th scope=col>Pop</th><th scope=col>NW</th><th scope=col>U1</th><th scope=col>U2</th><th scope=col>Wealth</th><th scope=col>Ineq</th><th scope=col>Prob</th><th scope=col>Time</th><th scope=col>Crime</th></tr></thead>\n",
       "<tbody>\n",
       "\t<tr><td>15.1    </td><td>1       </td><td> 9.1    </td><td> 5.8    </td><td> 5.6    </td><td>0.510   </td><td> 95.0   </td><td> 33     </td><td>30.1    </td><td>0.108   </td><td>4.1     </td><td>3940    </td><td>26.1    </td><td>0.084602</td><td>26.2011 </td><td> 791    </td></tr>\n",
       "\t<tr><td>14.3    </td><td>0       </td><td>11.3    </td><td>10.3    </td><td> 9.5    </td><td>0.583   </td><td>101.2   </td><td> 13     </td><td>10.2    </td><td>0.096   </td><td>3.6     </td><td>5570    </td><td>19.4    </td><td>0.029599</td><td>25.2999 </td><td>1635    </td></tr>\n",
       "\t<tr><td>14.2    </td><td>1       </td><td> 8.9    </td><td> 4.5    </td><td> 4.4    </td><td>0.533   </td><td> 96.9   </td><td> 18     </td><td>21.9    </td><td>0.094   </td><td>3.3     </td><td>3180    </td><td>25.0    </td><td>0.083401</td><td>24.3006 </td><td> 578    </td></tr>\n",
       "\t<tr><td>13.6    </td><td>0       </td><td>12.1    </td><td>14.9    </td><td>14.1    </td><td>0.577   </td><td> 99.4   </td><td>157     </td><td> 8.0    </td><td>0.102   </td><td>3.9     </td><td>6730    </td><td>16.7    </td><td>0.015801</td><td>29.9012 </td><td>1969    </td></tr>\n",
       "\t<tr><td>14.1    </td><td>0       </td><td>12.1    </td><td>10.9    </td><td>10.1    </td><td>0.591   </td><td> 98.5   </td><td> 18     </td><td> 3.0    </td><td>0.091   </td><td>2.0     </td><td>5780    </td><td>17.4    </td><td>0.041399</td><td>21.2998 </td><td>1234    </td></tr>\n",
       "\t<tr><td>12.1    </td><td>0       </td><td>11.0    </td><td>11.8    </td><td>11.5    </td><td>0.547   </td><td> 96.4   </td><td> 25     </td><td> 4.4    </td><td>0.084   </td><td>2.9     </td><td>6890    </td><td>12.6    </td><td>0.034201</td><td>20.9995 </td><td> 682    </td></tr>\n",
       "</tbody>\n",
       "</table>\n"
      ],
      "text/latex": [
       "\\begin{tabular}{r|llllllllllllllll}\n",
       " M & So & Ed & Po1 & Po2 & LF & M.F & Pop & NW & U1 & U2 & Wealth & Ineq & Prob & Time & Crime\\\\\n",
       "\\hline\n",
       "\t 15.1     & 1        &  9.1     &  5.8     &  5.6     & 0.510    &  95.0    &  33      & 30.1     & 0.108    & 4.1      & 3940     & 26.1     & 0.084602 & 26.2011  &  791    \\\\\n",
       "\t 14.3     & 0        & 11.3     & 10.3     &  9.5     & 0.583    & 101.2    &  13      & 10.2     & 0.096    & 3.6      & 5570     & 19.4     & 0.029599 & 25.2999  & 1635    \\\\\n",
       "\t 14.2     & 1        &  8.9     &  4.5     &  4.4     & 0.533    &  96.9    &  18      & 21.9     & 0.094    & 3.3      & 3180     & 25.0     & 0.083401 & 24.3006  &  578    \\\\\n",
       "\t 13.6     & 0        & 12.1     & 14.9     & 14.1     & 0.577    &  99.4    & 157      &  8.0     & 0.102    & 3.9      & 6730     & 16.7     & 0.015801 & 29.9012  & 1969    \\\\\n",
       "\t 14.1     & 0        & 12.1     & 10.9     & 10.1     & 0.591    &  98.5    &  18      &  3.0     & 0.091    & 2.0      & 5780     & 17.4     & 0.041399 & 21.2998  & 1234    \\\\\n",
       "\t 12.1     & 0        & 11.0     & 11.8     & 11.5     & 0.547    &  96.4    &  25      &  4.4     & 0.084    & 2.9      & 6890     & 12.6     & 0.034201 & 20.9995  &  682    \\\\\n",
       "\\end{tabular}\n"
      ],
      "text/markdown": [
       "\n",
       "| M | So | Ed | Po1 | Po2 | LF | M.F | Pop | NW | U1 | U2 | Wealth | Ineq | Prob | Time | Crime |\n",
       "|---|---|---|---|---|---|---|---|---|---|---|---|---|---|---|---|\n",
       "| 15.1     | 1        |  9.1     |  5.8     |  5.6     | 0.510    |  95.0    |  33      | 30.1     | 0.108    | 4.1      | 3940     | 26.1     | 0.084602 | 26.2011  |  791     |\n",
       "| 14.3     | 0        | 11.3     | 10.3     |  9.5     | 0.583    | 101.2    |  13      | 10.2     | 0.096    | 3.6      | 5570     | 19.4     | 0.029599 | 25.2999  | 1635     |\n",
       "| 14.2     | 1        |  8.9     |  4.5     |  4.4     | 0.533    |  96.9    |  18      | 21.9     | 0.094    | 3.3      | 3180     | 25.0     | 0.083401 | 24.3006  |  578     |\n",
       "| 13.6     | 0        | 12.1     | 14.9     | 14.1     | 0.577    |  99.4    | 157      |  8.0     | 0.102    | 3.9      | 6730     | 16.7     | 0.015801 | 29.9012  | 1969     |\n",
       "| 14.1     | 0        | 12.1     | 10.9     | 10.1     | 0.591    |  98.5    |  18      |  3.0     | 0.091    | 2.0      | 5780     | 17.4     | 0.041399 | 21.2998  | 1234     |\n",
       "| 12.1     | 0        | 11.0     | 11.8     | 11.5     | 0.547    |  96.4    |  25      |  4.4     | 0.084    | 2.9      | 6890     | 12.6     | 0.034201 | 20.9995  |  682     |\n",
       "\n"
      ],
      "text/plain": [
       "  M    So Ed   Po1  Po2  LF    M.F   Pop NW   U1    U2  Wealth Ineq Prob    \n",
       "1 15.1 1   9.1  5.8  5.6 0.510  95.0  33 30.1 0.108 4.1 3940   26.1 0.084602\n",
       "2 14.3 0  11.3 10.3  9.5 0.583 101.2  13 10.2 0.096 3.6 5570   19.4 0.029599\n",
       "3 14.2 1   8.9  4.5  4.4 0.533  96.9  18 21.9 0.094 3.3 3180   25.0 0.083401\n",
       "4 13.6 0  12.1 14.9 14.1 0.577  99.4 157  8.0 0.102 3.9 6730   16.7 0.015801\n",
       "5 14.1 0  12.1 10.9 10.1 0.591  98.5  18  3.0 0.091 2.0 5780   17.4 0.041399\n",
       "6 12.1 0  11.0 11.8 11.5 0.547  96.4  25  4.4 0.084 2.9 6890   12.6 0.034201\n",
       "  Time    Crime\n",
       "1 26.2011  791 \n",
       "2 25.2999 1635 \n",
       "3 24.3006  578 \n",
       "4 29.9012 1969 \n",
       "5 21.2998 1234 \n",
       "6 20.9995  682 "
      ]
     },
     "metadata": {},
     "output_type": "display_data"
    }
   ],
   "source": [
    "head(data)"
   ]
  },
  {
   "cell_type": "code",
   "execution_count": 3,
   "id": "a7b83201-daef-40d5-809c-0a3003a5043f",
   "metadata": {},
   "outputs": [
    {
     "name": "stderr",
     "output_type": "stream",
     "text": [
      "Warning message:\n",
      "\"package 'tree' was built under R version 3.6.3\"randomForest 4.6-14\n",
      "Type rfNews() to see new features/changes/bug fixes.\n"
     ]
    }
   ],
   "source": [
    "# install.packages(\"tree\")\n",
    "# install.packages(\"randomForest\")\n",
    "library(tree)\n",
    "library(randomForest)"
   ]
  },
  {
   "cell_type": "code",
   "execution_count": 4,
   "id": "6d7c8b30-3aa4-4a04-970f-aa651707bfa5",
   "metadata": {},
   "outputs": [
    {
     "data": {
      "text/plain": [
       "\n",
       "Regression tree:\n",
       "tree(formula = Crime ~ ., data = data)\n",
       "Variables actually used in tree construction:\n",
       "[1] \"Po1\" \"Pop\" \"LF\"  \"NW\" \n",
       "Number of terminal nodes:  7 \n",
       "Residual mean deviance:  47390 = 1896000 / 40 \n",
       "Distribution of residuals:\n",
       "    Min.  1st Qu.   Median     Mean  3rd Qu.     Max. \n",
       "-573.900  -98.300   -1.545    0.000  110.600  490.100 "
      ]
     },
     "metadata": {},
     "output_type": "display_data"
    }
   ],
   "source": [
    "# Applying tree package\n",
    "model <- tree(Crime ~., data = data)\n",
    "summary(model)"
   ]
  },
  {
   "cell_type": "markdown",
   "id": "e16cc217-79c6-4a9a-9662-c75233acbd46",
   "metadata": {},
   "source": [
    "#### By the summary, we have 7 terminal nodes and 4 variables. \n",
    "#### Residual mean deviance is 47,390. \n"
   ]
  },
  {
   "cell_type": "code",
   "execution_count": 5,
   "id": "51a315b1-edcc-4851-9de0-cbe1a0bfcc51",
   "metadata": {},
   "outputs": [
    {
     "data": {
      "text/html": [
       "<dl class=dl-horizontal>\n",
       "\t<dt>1</dt>\n",
       "\t\t<dd>6</dd>\n",
       "\t<dt>2</dt>\n",
       "\t\t<dd>13</dd>\n",
       "\t<dt>3</dt>\n",
       "\t\t<dd>4</dd>\n",
       "\t<dt>4</dt>\n",
       "\t\t<dd>13</dd>\n",
       "\t<dt>5</dt>\n",
       "\t\t<dd>9</dd>\n",
       "\t<dt>6</dt>\n",
       "\t\t<dd>10</dd>\n",
       "\t<dt>7</dt>\n",
       "\t\t<dd>12</dd>\n",
       "\t<dt>8</dt>\n",
       "\t\t<dd>13</dd>\n",
       "\t<dt>9</dt>\n",
       "\t\t<dd>6</dd>\n",
       "\t<dt>10</dt>\n",
       "\t\t<dd>5</dd>\n",
       "\t<dt>11</dt>\n",
       "\t\t<dd>13</dd>\n",
       "\t<dt>12</dt>\n",
       "\t\t<dd>6</dd>\n",
       "\t<dt>13</dt>\n",
       "\t\t<dd>6</dd>\n",
       "\t<dt>14</dt>\n",
       "\t\t<dd>5</dd>\n",
       "\t<dt>15</dt>\n",
       "\t\t<dd>6</dd>\n",
       "\t<dt>16</dt>\n",
       "\t\t<dd>12</dd>\n",
       "\t<dt>17</dt>\n",
       "\t\t<dd>4</dd>\n",
       "\t<dt>18</dt>\n",
       "\t\t<dd>13</dd>\n",
       "\t<dt>19</dt>\n",
       "\t\t<dd>10</dd>\n",
       "\t<dt>20</dt>\n",
       "\t\t<dd>13</dd>\n",
       "\t<dt>21</dt>\n",
       "\t\t<dd>6</dd>\n",
       "\t<dt>22</dt>\n",
       "\t\t<dd>4</dd>\n",
       "\t<dt>23</dt>\n",
       "\t\t<dd>12</dd>\n",
       "\t<dt>24</dt>\n",
       "\t\t<dd>9</dd>\n",
       "\t<dt>25</dt>\n",
       "\t\t<dd>5</dd>\n",
       "\t<dt>26</dt>\n",
       "\t\t<dd>13</dd>\n",
       "\t<dt>27</dt>\n",
       "\t\t<dd>4</dd>\n",
       "\t<dt>28</dt>\n",
       "\t\t<dd>12</dd>\n",
       "\t<dt>29</dt>\n",
       "\t\t<dd>13</dd>\n",
       "\t<dt>30</dt>\n",
       "\t\t<dd>6</dd>\n",
       "\t<dt>31</dt>\n",
       "\t\t<dd>4</dd>\n",
       "\t<dt>32</dt>\n",
       "\t\t<dd>12</dd>\n",
       "\t<dt>33</dt>\n",
       "\t\t<dd>6</dd>\n",
       "\t<dt>34</dt>\n",
       "\t\t<dd>9</dd>\n",
       "\t<dt>35</dt>\n",
       "\t\t<dd>10</dd>\n",
       "\t<dt>36</dt>\n",
       "\t\t<dd>9</dd>\n",
       "\t<dt>37</dt>\n",
       "\t\t<dd>6</dd>\n",
       "\t<dt>38</dt>\n",
       "\t\t<dd>5</dd>\n",
       "\t<dt>39</dt>\n",
       "\t\t<dd>6</dd>\n",
       "\t<dt>40</dt>\n",
       "\t\t<dd>12</dd>\n",
       "\t<dt>41</dt>\n",
       "\t\t<dd>5</dd>\n",
       "\t<dt>42</dt>\n",
       "\t\t<dd>4</dd>\n",
       "\t<dt>43</dt>\n",
       "\t\t<dd>6</dd>\n",
       "\t<dt>44</dt>\n",
       "\t\t<dd>10</dd>\n",
       "\t<dt>45</dt>\n",
       "\t\t<dd>4</dd>\n",
       "\t<dt>46</dt>\n",
       "\t\t<dd>10</dd>\n",
       "\t<dt>47</dt>\n",
       "\t\t<dd>9</dd>\n",
       "</dl>\n"
      ],
      "text/latex": [
       "\\begin{description*}\n",
       "\\item[1] 6\n",
       "\\item[2] 13\n",
       "\\item[3] 4\n",
       "\\item[4] 13\n",
       "\\item[5] 9\n",
       "\\item[6] 10\n",
       "\\item[7] 12\n",
       "\\item[8] 13\n",
       "\\item[9] 6\n",
       "\\item[10] 5\n",
       "\\item[11] 13\n",
       "\\item[12] 6\n",
       "\\item[13] 6\n",
       "\\item[14] 5\n",
       "\\item[15] 6\n",
       "\\item[16] 12\n",
       "\\item[17] 4\n",
       "\\item[18] 13\n",
       "\\item[19] 10\n",
       "\\item[20] 13\n",
       "\\item[21] 6\n",
       "\\item[22] 4\n",
       "\\item[23] 12\n",
       "\\item[24] 9\n",
       "\\item[25] 5\n",
       "\\item[26] 13\n",
       "\\item[27] 4\n",
       "\\item[28] 12\n",
       "\\item[29] 13\n",
       "\\item[30] 6\n",
       "\\item[31] 4\n",
       "\\item[32] 12\n",
       "\\item[33] 6\n",
       "\\item[34] 9\n",
       "\\item[35] 10\n",
       "\\item[36] 9\n",
       "\\item[37] 6\n",
       "\\item[38] 5\n",
       "\\item[39] 6\n",
       "\\item[40] 12\n",
       "\\item[41] 5\n",
       "\\item[42] 4\n",
       "\\item[43] 6\n",
       "\\item[44] 10\n",
       "\\item[45] 4\n",
       "\\item[46] 10\n",
       "\\item[47] 9\n",
       "\\end{description*}\n"
      ],
      "text/markdown": [
       "1\n",
       ":   62\n",
       ":   133\n",
       ":   44\n",
       ":   135\n",
       ":   96\n",
       ":   107\n",
       ":   128\n",
       ":   139\n",
       ":   610\n",
       ":   511\n",
       ":   1312\n",
       ":   613\n",
       ":   614\n",
       ":   515\n",
       ":   616\n",
       ":   1217\n",
       ":   418\n",
       ":   1319\n",
       ":   1020\n",
       ":   1321\n",
       ":   622\n",
       ":   423\n",
       ":   1224\n",
       ":   925\n",
       ":   526\n",
       ":   1327\n",
       ":   428\n",
       ":   1229\n",
       ":   1330\n",
       ":   631\n",
       ":   432\n",
       ":   1233\n",
       ":   634\n",
       ":   935\n",
       ":   1036\n",
       ":   937\n",
       ":   638\n",
       ":   539\n",
       ":   640\n",
       ":   1241\n",
       ":   542\n",
       ":   443\n",
       ":   644\n",
       ":   1045\n",
       ":   446\n",
       ":   1047\n",
       ":   9\n",
       "\n"
      ],
      "text/plain": [
       " 1  2  3  4  5  6  7  8  9 10 11 12 13 14 15 16 17 18 19 20 21 22 23 24 25 26 \n",
       " 6 13  4 13  9 10 12 13  6  5 13  6  6  5  6 12  4 13 10 13  6  4 12  9  5 13 \n",
       "27 28 29 30 31 32 33 34 35 36 37 38 39 40 41 42 43 44 45 46 47 \n",
       " 4 12 13  6  4 12  6  9 10  9  6  5  6 12  5  4  6 10  4 10  9 "
      ]
     },
     "metadata": {},
     "output_type": "display_data"
    }
   ],
   "source": [
    "# Check split data\n",
    "model $ where"
   ]
  },
  {
   "cell_type": "code",
   "execution_count": 6,
   "id": "fb59ee25-2b21-45d5-90c1-c097ee967a68",
   "metadata": {},
   "outputs": [
    {
     "data": {
      "image/png": "[encoded data removed]",
      "text/plain": [
       "Plot with title \"Training Classification Tree\""
      ]
     },
     "metadata": {},
     "output_type": "display_data"
    }
   ],
   "source": [
    "plot(model)\n",
    "text(model)\n",
    "title(\"Training Classification Tree\")"
   ]
  },
  {
   "cell_type": "code",
   "execution_count": 7,
   "id": "07f2138a-9c28-446a-b327-ae0142ec0cb6",
   "metadata": {},
   "outputs": [
    {
     "data": {
      "image/png": "[encoded data removed]",
      "text/plain": [
       "Plot with title \"Pruned tree nodes = 6\""
      ]
     },
     "metadata": {},
     "output_type": "display_data"
    }
   ],
   "source": [
    "# Prune the tree for final tree\n",
    "term_nodel = 6\n",
    "prune_model <- prune.tree(model, best = term_nodel)\n",
    "plot(prune_model)\n",
    "text(prune_model)\n",
    "title(\"Pruned tree nodes = 6\")"
   ]
  },
  {
   "cell_type": "code",
   "execution_count": 8,
   "id": "961fedd6-d813-4cc2-b22c-7f1f0038e06c",
   "metadata": {},
   "outputs": [
    {
     "data": {
      "text/plain": [
       "\n",
       "Regression tree:\n",
       "snip.tree(tree = model, nodes = 4L)\n",
       "Variables actually used in tree construction:\n",
       "[1] \"Po1\" \"Pop\" \"NW\" \n",
       "Number of terminal nodes:  6 \n",
       "Residual mean deviance:  49100 = 2013000 / 41 \n",
       "Distribution of residuals:\n",
       "    Min.  1st Qu.   Median     Mean  3rd Qu.     Max. \n",
       "-573.900  -99.520   -1.545    0.000  122.800  490.100 "
      ]
     },
     "metadata": {},
     "output_type": "display_data"
    }
   ],
   "source": [
    "summary(prune_model)"
   ]
  },
  {
   "cell_type": "markdown",
   "id": "7fa4a614-b4f0-4aa2-8411-0eecd09885d9",
   "metadata": {},
   "source": [
    "#### We can see after changing the number of terminal nodes to 6 the Residual mean deviance increase to 49100."
   ]
  },
  {
   "cell_type": "code",
   "execution_count": 9,
   "id": "739e1c6f-052f-4db1-a073-b8fe9102df81",
   "metadata": {},
   "outputs": [
    {
     "data": {
      "text/html": [
       "<ol class=list-inline>\n",
       "\t<li>5578508.04780471</li>\n",
       "\t<li>5617531.74433363</li>\n",
       "\t<li>5626748.49562547</li>\n",
       "\t<li>5818109.93243333</li>\n",
       "\t<li>6771451.85429095</li>\n",
       "\t<li>7902318.40690181</li>\n",
       "\t<li>7747612.32348074</li>\n",
       "</ol>\n"
      ],
      "text/latex": [
       "\\begin{enumerate*}\n",
       "\\item 5578508.04780471\n",
       "\\item 5617531.74433363\n",
       "\\item 5626748.49562547\n",
       "\\item 5818109.93243333\n",
       "\\item 6771451.85429095\n",
       "\\item 7902318.40690181\n",
       "\\item 7747612.32348074\n",
       "\\end{enumerate*}\n"
      ],
      "text/markdown": [
       "1. 5578508.04780471\n",
       "2. 5617531.74433363\n",
       "3. 5626748.49562547\n",
       "4. 5818109.93243333\n",
       "5. 6771451.85429095\n",
       "6. 7902318.40690181\n",
       "7. 7747612.32348074\n",
       "\n",
       "\n"
      ],
      "text/plain": [
       "[1] 5578508 5617532 5626748 5818110 6771452 7902318 7747612"
      ]
     },
     "metadata": {},
     "output_type": "display_data"
    }
   ],
   "source": [
    "# Look at the deviation and do cross validation\n",
    "set.seed(123)\n",
    "cv <- cv.tree(model)\n",
    "cv$dev"
   ]
  },
  {
   "cell_type": "code",
   "execution_count": 10,
   "id": "5f9929d0-e696-4417-b298-01d9fc7c64a2",
   "metadata": {},
   "outputs": [
    {
     "data": {
      "image/png": "[encoded data removed]",
      "text/plain": [
       "plot without title"
      ]
     },
     "metadata": {},
     "output_type": "display_data"
    }
   ],
   "source": [
    "plot(cv$size, cv$dev, type=\"b\", lwd=4, col=\"blue\")"
   ]
  },
  {
   "cell_type": "markdown",
   "id": "9ed5a501-47e5-441f-86bd-e1fcc09f8b6e",
   "metadata": {},
   "source": [
    "#### Deviance is minimum when the number of terminal nodes is 7. We can prune the tree with 7 leaf"
   ]
  },
  {
   "cell_type": "code",
   "execution_count": 11,
   "id": "c16f6b5f-8ced-4268-b51b-8bf436d06d2a",
   "metadata": {},
   "outputs": [],
   "source": [
    "term_node = 7\n",
    "prune_model2 <- prune.tree(model, best = term_node)"
   ]
  },
  {
   "cell_type": "code",
   "execution_count": 12,
   "id": "98f53d65-7c6e-434d-8a54-8e7583cefa7c",
   "metadata": {},
   "outputs": [
    {
     "data": {
      "image/png": "[encoded data removed]",
      "text/plain": [
       "Plot with title \"Pruned tree with nodes = 7\""
      ]
     },
     "metadata": {},
     "output_type": "display_data"
    }
   ],
   "source": [
    "plot(prune_model2)\n",
    "text(prune_model2)\n",
    "title(\"Pruned tree with nodes = 7\")"
   ]
  },
  {
   "cell_type": "code",
   "execution_count": 13,
   "id": "808329a8-2129-4a87-925a-dda33a2ca807",
   "metadata": {},
   "outputs": [
    {
     "data": {
      "text/plain": [
       "\n",
       "Regression tree:\n",
       "tree(formula = Crime ~ ., data = data)\n",
       "Variables actually used in tree construction:\n",
       "[1] \"Po1\" \"Pop\" \"LF\"  \"NW\" \n",
       "Number of terminal nodes:  7 \n",
       "Residual mean deviance:  47390 = 1896000 / 40 \n",
       "Distribution of residuals:\n",
       "    Min.  1st Qu.   Median     Mean  3rd Qu.     Max. \n",
       "-573.900  -98.300   -1.545    0.000  110.600  490.100 "
      ]
     },
     "metadata": {},
     "output_type": "display_data"
    }
   ],
   "source": [
    "summary(prune_model2)"
   ]
  },
  {
   "cell_type": "markdown",
   "id": "98a09dac-d1a7-41f6-a8de-cdd85e506dcb",
   "metadata": {},
   "source": [
    "## (b) Random forest model"
   ]
  },
  {
   "cell_type": "code",
   "execution_count": 14,
   "id": "e90b0ac2-f379-4475-92cc-f4925589bf42",
   "metadata": {},
   "outputs": [
    {
     "data": {
      "text/html": [
       "0.724496208475934"
      ],
      "text/latex": [
       "0.724496208475934"
      ],
      "text/markdown": [
       "0.724496208475934"
      ],
      "text/plain": [
       "[1] 0.7244962"
      ]
     },
     "metadata": {},
     "output_type": "display_data"
    }
   ],
   "source": [
    "# Calculate quality of fit for this model\n",
    "crimeTreePredict <- predict(prune_model2, data = data[,1:15])\n",
    "RSS <- sum((crimeTreePredict - data[,16])^2)\n",
    "TSS <- sum((data[,16] - mean(data[,16]))^2)\n",
    "R2 <- 1 - RSS/TSS\n",
    "R2"
   ]
  },
  {
   "cell_type": "markdown",
   "id": "eca35558-60a7-4c44-b490-b176e42cbe88",
   "metadata": {},
   "source": [
    "#### R2 is pretty high at 0.72. Though, overfitting may be a problem."
   ]
  },
  {
   "cell_type": "code",
   "execution_count": 15,
   "id": "4d770b18-3f88-4927-b815-0c88751189aa",
   "metadata": {},
   "outputs": [
    {
     "data": {
      "text/html": [
       "0.406658399390498"
      ],
      "text/latex": [
       "0.406658399390498"
      ],
      "text/markdown": [
       "0.406658399390498"
      ],
      "text/plain": [
       "[1] 0.4066584"
      ]
     },
     "metadata": {},
     "output_type": "display_data"
    }
   ],
   "source": [
    "# Create baseline randomForest Model\n",
    "crime.rf <- randomForest(Crime ~ ., data=data, importance = TRUE, nodesize = 5)\n",
    "crime.rf.predict <- predict(crime.rf, data=data[,-16])\n",
    "RSS <- sum((crime.rf.predict - data[,16])^2)\n",
    "R2 <- 1 - RSS/TSS\n",
    "R2"
   ]
  },
  {
   "cell_type": "code",
   "execution_count": 16,
   "id": "3938465b-092b-4c27-a810-1927f175478e",
   "metadata": {},
   "outputs": [
    {
     "data": {
      "text/html": [
       "0.388329958240103"
      ],
      "text/latex": [
       "0.388329958240103"
      ],
      "text/markdown": [
       "0.388329958240103"
      ],
      "text/plain": [
       "[1] 0.38833"
      ]
     },
     "metadata": {},
     "output_type": "display_data"
    }
   ],
   "source": [
    "# We get an R2 that's even worse than the previous tree. Perhaps I'll try using different values for mtry...\n",
    "crime.rf2 <- randomForest(Crime ~ ., data=data, importance = TRUE, nodesize = 5, mtry = 10)\n",
    "crime.rf.predict2 <- predict(crime.rf2, data=data[,-16])\n",
    "RSS <- sum((crime.rf.predict2 - data[,16])^2)\n",
    "R2 <- 1 - RSS/TSS\n",
    "R2"
   ]
  },
  {
   "cell_type": "code",
   "execution_count": 17,
   "id": "2a95351a-5580-47ff-9613-14824d2a6b39",
   "metadata": {},
   "outputs": [
    {
     "data": {
      "text/html": [
       "<table>\n",
       "<thead><tr><th scope=col>NodeSize</th><th scope=col>mtry</th><th scope=col>R2</th></tr></thead>\n",
       "<tbody>\n",
       "\t<tr><td>2        </td><td>1        </td><td>0.3889864</td></tr>\n",
       "\t<tr><td>2        </td><td>2        </td><td>0.4511758</td></tr>\n",
       "\t<tr><td>2        </td><td>3        </td><td>0.4272085</td></tr>\n",
       "\t<tr><td>2        </td><td>4        </td><td>0.4315946</td></tr>\n",
       "\t<tr><td>2        </td><td>5        </td><td>0.4240540</td></tr>\n",
       "\t<tr><td>2        </td><td>6        </td><td>0.4360488</td></tr>\n",
       "</tbody>\n",
       "</table>\n"
      ],
      "text/latex": [
       "\\begin{tabular}{r|lll}\n",
       " NodeSize & mtry & R2\\\\\n",
       "\\hline\n",
       "\t 2         & 1         & 0.3889864\\\\\n",
       "\t 2         & 2         & 0.4511758\\\\\n",
       "\t 2         & 3         & 0.4272085\\\\\n",
       "\t 2         & 4         & 0.4315946\\\\\n",
       "\t 2         & 5         & 0.4240540\\\\\n",
       "\t 2         & 6         & 0.4360488\\\\\n",
       "\\end{tabular}\n"
      ],
      "text/markdown": [
       "\n",
       "| NodeSize | mtry | R2 |\n",
       "|---|---|---|\n",
       "| 2         | 1         | 0.3889864 |\n",
       "| 2         | 2         | 0.4511758 |\n",
       "| 2         | 3         | 0.4272085 |\n",
       "| 2         | 4         | 0.4315946 |\n",
       "| 2         | 5         | 0.4240540 |\n",
       "| 2         | 6         | 0.4360488 |\n",
       "\n"
      ],
      "text/plain": [
       "  NodeSize mtry R2       \n",
       "1 2        1    0.3889864\n",
       "2 2        2    0.4511758\n",
       "3 2        3    0.4272085\n",
       "4 2        4    0.4315946\n",
       "5 2        5    0.4240540\n",
       "6 2        6    0.4360488"
      ]
     },
     "metadata": {},
     "output_type": "display_data"
    }
   ],
   "source": [
    "# Let's make a loop to plug in different values of mtry and nodesize to try and find the model with the best R2\n",
    "result.rf <- data.frame(matrix(nrow=5, ncol=3))\n",
    "colnames(result.rf) <- c(\"NodeSize\", \"mtry\", \"R2\")\n",
    "i = 1\n",
    "suppressWarnings(for (nodesize in 2:15) {\n",
    "  for (m in 1:20) {\n",
    "    model <- randomForest(Crime ~ ., data=data, importance = TRUE, nodesize = nodesize, mtry = m)\n",
    "    predict <- predict(model, data=data[,-16])\n",
    "    RSS <- sum((predict - data[,16])^2)\n",
    "    TSS <- sum((data[,16] - mean(data[,16]))^2)\n",
    "    R2 <- 1 - RSS/TSS\n",
    "    result.rf[i,1] <- nodesize\n",
    "    result.rf[i,2] <- m\n",
    "    result.rf[i,3] <- R2\n",
    "    i = i + 1\n",
    "  }\n",
    "})\n",
    "head(result.rf)"
   ]
  },
  {
   "cell_type": "code",
   "execution_count": 18,
   "id": "7c13cf1c-e60e-482e-ba92-da73c2ff9e34",
   "metadata": {},
   "outputs": [
    {
     "data": {
      "text/html": [
       "<table>\n",
       "<thead><tr><th></th><th scope=col>NodeSize</th><th scope=col>mtry</th><th scope=col>R2</th></tr></thead>\n",
       "<tbody>\n",
       "\t<tr><th scope=row>2</th><td>2        </td><td>2        </td><td>0.4511758</td></tr>\n",
       "</tbody>\n",
       "</table>\n"
      ],
      "text/latex": [
       "\\begin{tabular}{r|lll}\n",
       "  & NodeSize & mtry & R2\\\\\n",
       "\\hline\n",
       "\t2 & 2         & 2         & 0.4511758\\\\\n",
       "\\end{tabular}\n"
      ],
      "text/markdown": [
       "\n",
       "| <!--/--> | NodeSize | mtry | R2 |\n",
       "|---|---|---|---|\n",
       "| 2 | 2         | 2         | 0.4511758 |\n",
       "\n"
      ],
      "text/plain": [
       "  NodeSize mtry R2       \n",
       "2 2        2    0.4511758"
      ]
     },
     "metadata": {},
     "output_type": "display_data"
    }
   ],
   "source": [
    "result.rf[which.max(result.rf[,3]),]"
   ]
  },
  {
   "cell_type": "markdown",
   "id": "7d66c80c-cf79-494c-89ee-e5856c884318",
   "metadata": {},
   "source": [
    "#### As the result, a nodesize of 2 and an mtry value of 2 gives us the best randomForest model."
   ]
  },
  {
   "cell_type": "code",
   "execution_count": 19,
   "id": "cb8d964f-379a-44c1-8514-3790df4da2ae",
   "metadata": {},
   "outputs": [
    {
     "data": {
      "text/html": [
       "<table>\n",
       "<thead><tr><th></th><th scope=col>%IncMSE</th><th scope=col>IncNodePurity</th></tr></thead>\n",
       "<tbody>\n",
       "\t<tr><th scope=row>M</th><td> 3.7508601</td><td>243088.08 </td></tr>\n",
       "\t<tr><th scope=row>So</th><td> 2.4702553</td><td> 51254.85 </td></tr>\n",
       "\t<tr><th scope=row>Ed</th><td> 4.5943538</td><td>364408.56 </td></tr>\n",
       "\t<tr><th scope=row>Po1</th><td>10.0388128</td><td>789722.78 </td></tr>\n",
       "\t<tr><th scope=row>Po2</th><td> 7.8794935</td><td>822737.27 </td></tr>\n",
       "\t<tr><th scope=row>LF</th><td> 3.0015225</td><td>470481.84 </td></tr>\n",
       "\t<tr><th scope=row>M.F</th><td> 1.1328141</td><td>307946.80 </td></tr>\n",
       "\t<tr><th scope=row>Pop</th><td> 2.2353183</td><td>400221.54 </td></tr>\n",
       "\t<tr><th scope=row>NW</th><td> 9.4633391</td><td>557617.31 </td></tr>\n",
       "\t<tr><th scope=row>U1</th><td> 0.7911874</td><td>243584.30 </td></tr>\n",
       "\t<tr><th scope=row>U2</th><td> 1.9137153</td><td>291651.25 </td></tr>\n",
       "\t<tr><th scope=row>Wealth</th><td> 5.5554353</td><td>606529.53 </td></tr>\n",
       "\t<tr><th scope=row>Ineq</th><td> 1.4318181</td><td>321949.79 </td></tr>\n",
       "\t<tr><th scope=row>Prob</th><td> 7.2032741</td><td>809802.81 </td></tr>\n",
       "\t<tr><th scope=row>Time</th><td> 0.8023706</td><td>296387.06 </td></tr>\n",
       "</tbody>\n",
       "</table>\n"
      ],
      "text/latex": [
       "\\begin{tabular}{r|ll}\n",
       "  & \\%IncMSE & IncNodePurity\\\\\n",
       "\\hline\n",
       "\tM &  3.7508601 & 243088.08 \\\\\n",
       "\tSo &  2.4702553 &  51254.85 \\\\\n",
       "\tEd &  4.5943538 & 364408.56 \\\\\n",
       "\tPo1 & 10.0388128 & 789722.78 \\\\\n",
       "\tPo2 &  7.8794935 & 822737.27 \\\\\n",
       "\tLF &  3.0015225 & 470481.84 \\\\\n",
       "\tM.F &  1.1328141 & 307946.80 \\\\\n",
       "\tPop &  2.2353183 & 400221.54 \\\\\n",
       "\tNW &  9.4633391 & 557617.31 \\\\\n",
       "\tU1 &  0.7911874 & 243584.30 \\\\\n",
       "\tU2 &  1.9137153 & 291651.25 \\\\\n",
       "\tWealth &  5.5554353 & 606529.53 \\\\\n",
       "\tIneq &  1.4318181 & 321949.79 \\\\\n",
       "\tProb &  7.2032741 & 809802.81 \\\\\n",
       "\tTime &  0.8023706 & 296387.06 \\\\\n",
       "\\end{tabular}\n"
      ],
      "text/markdown": [
       "\n",
       "| <!--/--> | %IncMSE | IncNodePurity |\n",
       "|---|---|---|\n",
       "| M |  3.7508601 | 243088.08  |\n",
       "| So |  2.4702553 |  51254.85  |\n",
       "| Ed |  4.5943538 | 364408.56  |\n",
       "| Po1 | 10.0388128 | 789722.78  |\n",
       "| Po2 |  7.8794935 | 822737.27  |\n",
       "| LF |  3.0015225 | 470481.84  |\n",
       "| M.F |  1.1328141 | 307946.80  |\n",
       "| Pop |  2.2353183 | 400221.54  |\n",
       "| NW |  9.4633391 | 557617.31  |\n",
       "| U1 |  0.7911874 | 243584.30  |\n",
       "| U2 |  1.9137153 | 291651.25  |\n",
       "| Wealth |  5.5554353 | 606529.53  |\n",
       "| Ineq |  1.4318181 | 321949.79  |\n",
       "| Prob |  7.2032741 | 809802.81  |\n",
       "| Time |  0.8023706 | 296387.06  |\n",
       "\n"
      ],
      "text/plain": [
       "       %IncMSE    IncNodePurity\n",
       "M       3.7508601 243088.08    \n",
       "So      2.4702553  51254.85    \n",
       "Ed      4.5943538 364408.56    \n",
       "Po1    10.0388128 789722.78    \n",
       "Po2     7.8794935 822737.27    \n",
       "LF      3.0015225 470481.84    \n",
       "M.F     1.1328141 307946.80    \n",
       "Pop     2.2353183 400221.54    \n",
       "NW      9.4633391 557617.31    \n",
       "U1      0.7911874 243584.30    \n",
       "U2      1.9137153 291651.25    \n",
       "Wealth  5.5554353 606529.53    \n",
       "Ineq    1.4318181 321949.79    \n",
       "Prob    7.2032741 809802.81    \n",
       "Time    0.8023706 296387.06    "
      ]
     },
     "metadata": {},
     "output_type": "display_data"
    }
   ],
   "source": [
    "\n",
    "crime.rf.final <- randomForest(Crime ~ ., data=data, importance = TRUE, nodesize = 2, mtry = 2)\n",
    "# The importance of the variables for our final model\n",
    "importance(crime.rf.final)"
   ]
  },
  {
   "cell_type": "code",
   "execution_count": 20,
   "id": "dcf6d540-c9bd-468f-b716-fbafea64e582",
   "metadata": {},
   "outputs": [
    {
     "data": {
      "image/png": "[encoded data removed]",
      "text/plain": [
       "plot without title"
      ]
     },
     "metadata": {},
     "output_type": "display_data"
    }
   ],
   "source": [
    "varImpPlot(crime.rf.final)"
   ]
  },
  {
   "cell_type": "markdown",
   "id": "a9eba561-7af1-42f5-b4d9-115fc039ba2e",
   "metadata": {},
   "source": [
    "#### So it looks like the maximum R2 based on the above parameters is 0.45 at a nodesize of 4 and an mtry value (number of variables sampled for each split) of 3. We also saw in the final rf model that Po1, NW, and Po2 were the most important as measured by “%IncMSE” My takeaway for using randomForest is that it 1. is less accurate than a standard tree when looking at this data 2. it seems like increasing the number of variables used in the randomForest random sampling for each split actually decreases the accuracy of this model. This must have to do with overfitting, since this dataset is so small."
   ]
  },
  {
   "cell_type": "markdown",
   "id": "75486ad3-d4fd-4fe1-9432-204b1c64d68f",
   "metadata": {},
   "source": [
    "# Question 10.2"
   ]
  },
  {
   "cell_type": "markdown",
   "id": "13f45d22-f657-4ab8-b7f2-3843a6d685e0",
   "metadata": {},
   "source": [
    "#### I am a data analyst working to reduce chronic homelessness, employing a logistic regression model could be instrumental in identifying individuals at a higher risk of chronic homelessness. Here's a scenario along with potential predictors:\r\n",
    " effectively."
   ]
  },
  {
   "cell_type": "markdown",
   "id": "29abb5b1-3efc-4394-94d0-338e801c5860",
   "metadata": {},
   "source": [
    "#### Situation\n",
    "\n",
    "#### The city is implementing a program aimed at reducing chronic homelessness by providing targeted interventions and support services to individuals who are at the highest risk of long-term homelessness. As part of this initiative, I am tasked with developing a predictive model to identify individuals who are more likely to become chronically homeless.\n",
    "\n",
    "#### Potential Predictors:\n",
    "\n",
    "#### History of Homelessness: The number of times an individual has experienced homelessness in the past could be a strong predictor of chronic homelessness.\n",
    "#### Income Stability: Variability in income or lack of stable employment might indicate a higher risk of chronic homelessness.\n",
    "#### Mental Health Conditions: Individuals with untreated or poorly managed mental health issues may be more susceptible to chronic homelessness.\n",
    "#### Substance Abuse: Substance abuse problems, including alcohol and drug addiction, could contribute to the risk of chronic homelessness.\n",
    "#### Social Support: Lack of family support or a strong social network might increase the likelihood of individuals becoming chronically homeless.\n",
    "#### By analyzing historical data on homelessness and collecting relevant information on potential predictors, I can build a logistic regression model to assess the probability of an individual becoming chronically homeless. This model can then be used to prioritize resources and interventions towards those individuals who are identified as being at the highest risk, thus helping to reduce chronic homelessness more effectively."
   ]
  },
  {
   "cell_type": "markdown",
   "id": "49ccfad3-514e-43f0-902f-6273c1f32785",
   "metadata": {},
   "source": [
    "# Question 10.3"
   ]
  },
  {
   "cell_type": "code",
   "execution_count": 21,
   "id": "739106d7-f9c4-4f06-83c2-d771641e2054",
   "metadata": {},
   "outputs": [
    {
     "name": "stderr",
     "output_type": "stream",
     "text": [
      "Warning message:\n",
      "\"package 'ellipsis' was built under R version 3.6.3\"Warning message:\n",
      "\"package 'caret' was built under R version 3.6.3\"Loading required package: lattice\n"
     ]
    },
    {
     "ename": "ERROR",
     "evalue": "Error: package 'ggplot2' required by 'caret' could not be found\n",
     "output_type": "error",
     "traceback": [
      "Error: package 'ggplot2' required by 'caret' could not be found\nTraceback:\n",
      "1. library(caret)",
      "2. .getRequiredPackages2(pkgInfo, quietly = quietly)",
      "3. stop(gettextf(\"package %s required by %s could not be found\", \n .     sQuote(pkg), sQuote(pkgname)), call. = FALSE, domain = NA)"
     ]
    }
   ],
   "source": [
    "# install.packages(\"ellipsis\")\n",
    "# install.packages(\"caret\")\n",
    "# install.packages(\"ggplot2\", dependencies = TRUE)\n",
    "\n",
    "library(ellipsis)\n",
    "# install.packages(\"lifecycle\")\n",
    "library(caret)"
   ]
  },
  {
   "cell_type": "code",
   "execution_count": 22,
   "id": "94877bcd-5b60-480e-a900-b47bd08f8815",
   "metadata": {},
   "outputs": [
    {
     "data": {
      "text/html": [
       "<table>\n",
       "<thead><tr><th scope=col>V1</th><th scope=col>V2</th><th scope=col>V3</th><th scope=col>V4</th><th scope=col>V5</th><th scope=col>V6</th><th scope=col>V7</th><th scope=col>V8</th><th scope=col>V9</th><th scope=col>V10</th><th scope=col>...</th><th scope=col>V12</th><th scope=col>V13</th><th scope=col>V14</th><th scope=col>V15</th><th scope=col>V16</th><th scope=col>V17</th><th scope=col>V18</th><th scope=col>V19</th><th scope=col>V20</th><th scope=col>V21</th></tr></thead>\n",
       "<tbody>\n",
       "\t<tr><td>A11 </td><td> 6  </td><td>A34 </td><td>A43 </td><td>1169</td><td>A65 </td><td>A75 </td><td>4   </td><td>A93 </td><td>A101</td><td>... </td><td>A121</td><td>67  </td><td>A143</td><td>A152</td><td>2   </td><td>A173</td><td>1   </td><td>A192</td><td>A201</td><td>1   </td></tr>\n",
       "\t<tr><td>A12 </td><td>48  </td><td>A32 </td><td>A43 </td><td>5951</td><td>A61 </td><td>A73 </td><td>2   </td><td>A92 </td><td>A101</td><td>... </td><td>A121</td><td>22  </td><td>A143</td><td>A152</td><td>1   </td><td>A173</td><td>1   </td><td>A191</td><td>A201</td><td>2   </td></tr>\n",
       "\t<tr><td>A14 </td><td>12  </td><td>A34 </td><td>A46 </td><td>2096</td><td>A61 </td><td>A74 </td><td>2   </td><td>A93 </td><td>A101</td><td>... </td><td>A121</td><td>49  </td><td>A143</td><td>A152</td><td>1   </td><td>A172</td><td>2   </td><td>A191</td><td>A201</td><td>1   </td></tr>\n",
       "\t<tr><td>A11 </td><td>42  </td><td>A32 </td><td>A42 </td><td>7882</td><td>A61 </td><td>A74 </td><td>2   </td><td>A93 </td><td>A103</td><td>... </td><td>A122</td><td>45  </td><td>A143</td><td>A153</td><td>1   </td><td>A173</td><td>2   </td><td>A191</td><td>A201</td><td>1   </td></tr>\n",
       "\t<tr><td>A11 </td><td>24  </td><td>A33 </td><td>A40 </td><td>4870</td><td>A61 </td><td>A73 </td><td>3   </td><td>A93 </td><td>A101</td><td>... </td><td>A124</td><td>53  </td><td>A143</td><td>A153</td><td>2   </td><td>A173</td><td>2   </td><td>A191</td><td>A201</td><td>2   </td></tr>\n",
       "\t<tr><td>A14 </td><td>36  </td><td>A32 </td><td>A46 </td><td>9055</td><td>A65 </td><td>A73 </td><td>2   </td><td>A93 </td><td>A101</td><td>... </td><td>A124</td><td>35  </td><td>A143</td><td>A153</td><td>1   </td><td>A172</td><td>2   </td><td>A192</td><td>A201</td><td>1   </td></tr>\n",
       "</tbody>\n",
       "</table>\n"
      ],
      "text/latex": [
       "\\begin{tabular}{r|lllllllllllllllllllll}\n",
       " V1 & V2 & V3 & V4 & V5 & V6 & V7 & V8 & V9 & V10 & ... & V12 & V13 & V14 & V15 & V16 & V17 & V18 & V19 & V20 & V21\\\\\n",
       "\\hline\n",
       "\t A11  &  6   & A34  & A43  & 1169 & A65  & A75  & 4    & A93  & A101 & ...  & A121 & 67   & A143 & A152 & 2    & A173 & 1    & A192 & A201 & 1   \\\\\n",
       "\t A12  & 48   & A32  & A43  & 5951 & A61  & A73  & 2    & A92  & A101 & ...  & A121 & 22   & A143 & A152 & 1    & A173 & 1    & A191 & A201 & 2   \\\\\n",
       "\t A14  & 12   & A34  & A46  & 2096 & A61  & A74  & 2    & A93  & A101 & ...  & A121 & 49   & A143 & A152 & 1    & A172 & 2    & A191 & A201 & 1   \\\\\n",
       "\t A11  & 42   & A32  & A42  & 7882 & A61  & A74  & 2    & A93  & A103 & ...  & A122 & 45   & A143 & A153 & 1    & A173 & 2    & A191 & A201 & 1   \\\\\n",
       "\t A11  & 24   & A33  & A40  & 4870 & A61  & A73  & 3    & A93  & A101 & ...  & A124 & 53   & A143 & A153 & 2    & A173 & 2    & A191 & A201 & 2   \\\\\n",
       "\t A14  & 36   & A32  & A46  & 9055 & A65  & A73  & 2    & A93  & A101 & ...  & A124 & 35   & A143 & A153 & 1    & A172 & 2    & A192 & A201 & 1   \\\\\n",
       "\\end{tabular}\n"
      ],
      "text/markdown": [
       "\n",
       "| V1 | V2 | V3 | V4 | V5 | V6 | V7 | V8 | V9 | V10 | ... | V12 | V13 | V14 | V15 | V16 | V17 | V18 | V19 | V20 | V21 |\n",
       "|---|---|---|---|---|---|---|---|---|---|---|---|---|---|---|---|---|---|---|---|---|\n",
       "| A11  |  6   | A34  | A43  | 1169 | A65  | A75  | 4    | A93  | A101 | ...  | A121 | 67   | A143 | A152 | 2    | A173 | 1    | A192 | A201 | 1    |\n",
       "| A12  | 48   | A32  | A43  | 5951 | A61  | A73  | 2    | A92  | A101 | ...  | A121 | 22   | A143 | A152 | 1    | A173 | 1    | A191 | A201 | 2    |\n",
       "| A14  | 12   | A34  | A46  | 2096 | A61  | A74  | 2    | A93  | A101 | ...  | A121 | 49   | A143 | A152 | 1    | A172 | 2    | A191 | A201 | 1    |\n",
       "| A11  | 42   | A32  | A42  | 7882 | A61  | A74  | 2    | A93  | A103 | ...  | A122 | 45   | A143 | A153 | 1    | A173 | 2    | A191 | A201 | 1    |\n",
       "| A11  | 24   | A33  | A40  | 4870 | A61  | A73  | 3    | A93  | A101 | ...  | A124 | 53   | A143 | A153 | 2    | A173 | 2    | A191 | A201 | 2    |\n",
       "| A14  | 36   | A32  | A46  | 9055 | A65  | A73  | 2    | A93  | A101 | ...  | A124 | 35   | A143 | A153 | 1    | A172 | 2    | A192 | A201 | 1    |\n",
       "\n"
      ],
      "text/plain": [
       "  V1  V2 V3  V4  V5   V6  V7  V8 V9  V10  ... V12  V13 V14  V15  V16 V17  V18\n",
       "1 A11  6 A34 A43 1169 A65 A75 4  A93 A101 ... A121 67  A143 A152 2   A173 1  \n",
       "2 A12 48 A32 A43 5951 A61 A73 2  A92 A101 ... A121 22  A143 A152 1   A173 1  \n",
       "3 A14 12 A34 A46 2096 A61 A74 2  A93 A101 ... A121 49  A143 A152 1   A172 2  \n",
       "4 A11 42 A32 A42 7882 A61 A74 2  A93 A103 ... A122 45  A143 A153 1   A173 2  \n",
       "5 A11 24 A33 A40 4870 A61 A73 3  A93 A101 ... A124 53  A143 A153 2   A173 2  \n",
       "6 A14 36 A32 A46 9055 A65 A73 2  A93 A101 ... A124 35  A143 A153 1   A172 2  \n",
       "  V19  V20  V21\n",
       "1 A192 A201 1  \n",
       "2 A191 A201 2  \n",
       "3 A191 A201 1  \n",
       "4 A191 A201 1  \n",
       "5 A191 A201 2  \n",
       "6 A192 A201 1  "
      ]
     },
     "metadata": {},
     "output_type": "display_data"
    }
   ],
   "source": [
    "set.seed(123)\n",
    "credit <- read.table(\"./data 10.3/germancredit.txt\", header = FALSE)\n",
    "head(credit)"
   ]
  },
  {
   "cell_type": "code",
   "execution_count": 23,
   "id": "b1593a49-57c6-4ad2-8843-d204f5cdcb88",
   "metadata": {},
   "outputs": [
    {
     "data": {
      "text/plain": [
       "\n",
       "  1   2 \n",
       "700 300 "
      ]
     },
     "metadata": {},
     "output_type": "display_data"
    }
   ],
   "source": [
    "table(credit$V21)"
   ]
  },
  {
   "cell_type": "code",
   "execution_count": 24,
   "id": "63c57578-0867-4f7e-991f-af99dd8dfdca",
   "metadata": {},
   "outputs": [],
   "source": [
    "# Replace 1 and 2 with 0 and 1\n",
    "credit$V21[credit$V21==1] <- 0\n",
    "credit$V21[credit$V21==2] <- 1"
   ]
  },
  {
   "cell_type": "code",
   "execution_count": 25,
   "id": "777b4b9c-696c-458c-8d6c-cfbc4b3ded31",
   "metadata": {},
   "outputs": [
    {
     "data": {
      "text/html": [
       "<ol class=list-inline>\n",
       "\t<li>415</li>\n",
       "\t<li>463</li>\n",
       "\t<li>179</li>\n",
       "\t<li>526</li>\n",
       "\t<li>195</li>\n",
       "\t<li>938</li>\n",
       "</ol>\n"
      ],
      "text/latex": [
       "\\begin{enumerate*}\n",
       "\\item 415\n",
       "\\item 463\n",
       "\\item 179\n",
       "\\item 526\n",
       "\\item 195\n",
       "\\item 938\n",
       "\\end{enumerate*}\n"
      ],
      "text/markdown": [
       "1. 415\n",
       "2. 463\n",
       "3. 179\n",
       "4. 526\n",
       "5. 195\n",
       "6. 938\n",
       "\n",
       "\n"
      ],
      "text/plain": [
       "[1] 415 463 179 526 195 938"
      ]
     },
     "metadata": {},
     "output_type": "display_data"
    }
   ],
   "source": [
    "indices <- sample(1:nrow(credit), size = 0.7 * nrow(credit), replace = FALSE)\n",
    "head(indices)"
   ]
  },
  {
   "cell_type": "code",
   "execution_count": 26,
   "id": "08a27c0f-e323-4114-86ed-23e0afe327a0",
   "metadata": {},
   "outputs": [
    {
     "data": {
      "text/plain": [
       "\n",
       "  0   1 \n",
       "496 204 "
      ]
     },
     "metadata": {},
     "output_type": "display_data"
    }
   ],
   "source": [
    "data_train <- credit[indices,] \n",
    "data_test <- credit[-indices,]\n",
    "\n",
    "table(data_train$V21)"
   ]
  },
  {
   "cell_type": "code",
   "execution_count": 27,
   "id": "1d8a72c3-89e1-41ae-8504-f8189a9627fe",
   "metadata": {},
   "outputs": [
    {
     "data": {
      "text/plain": [
       "\n",
       "  0   1 \n",
       "204  96 "
      ]
     },
     "metadata": {},
     "output_type": "display_data"
    }
   ],
   "source": [
    "table(data_test$V21)"
   ]
  },
  {
   "cell_type": "code",
   "execution_count": 28,
   "id": "d0ab436d-07b5-4508-8738-d2d5c123c15a",
   "metadata": {},
   "outputs": [
    {
     "data": {
      "text/plain": [
       "\n",
       "Call:\n",
       "glm(formula = V21 ~ ., family = binomial(link = \"logit\"), data = data_train)\n",
       "\n",
       "Deviance Residuals: \n",
       "    Min       1Q   Median       3Q      Max  \n",
       "-2.3765  -0.6592  -0.3506   0.6199   2.7732  \n",
       "\n",
       "Coefficients:\n",
       "              Estimate Std. Error z value Pr(>|z|)    \n",
       "(Intercept) -1.131e+00  1.371e+00  -0.826 0.409079    \n",
       "V1A12       -2.300e-01  2.707e-01  -0.850 0.395436    \n",
       "V1A13       -7.906e-01  4.579e-01  -1.727 0.084217 .  \n",
       "V1A14       -1.607e+00  2.887e-01  -5.565 2.63e-08 ***\n",
       "V2           3.316e-02  1.113e-02   2.979 0.002891 ** \n",
       "V3A31        3.886e-01  7.048e-01   0.551 0.581384    \n",
       "V3A32       -6.438e-01  5.712e-01  -1.127 0.259669    \n",
       "V3A33       -6.974e-01  6.299e-01  -1.107 0.268225    \n",
       "V3A34       -1.499e+00  5.748e-01  -2.607 0.009130 ** \n",
       "V4A41       -1.871e+00  4.589e-01  -4.077 4.57e-05 ***\n",
       "V4A410      -1.448e+00  9.904e-01  -1.462 0.143799    \n",
       "V4A42       -8.020e-01  3.284e-01  -2.442 0.014589 *  \n",
       "V4A43       -8.683e-01  3.108e-01  -2.794 0.005209 ** \n",
       "V4A44       -1.960e-01  9.672e-01  -0.203 0.839403    \n",
       "V4A45        3.885e-01  7.031e-01   0.553 0.580580    \n",
       "V4A46       -5.850e-01  5.131e-01  -1.140 0.254256    \n",
       "V4A48       -1.452e+00  1.357e+00  -1.070 0.284801    \n",
       "V4A49       -9.212e-01  4.239e-01  -2.173 0.029769 *  \n",
       "V5           1.460e-04  5.318e-05   2.746 0.006033 ** \n",
       "V6A62       -4.910e-01  3.662e-01  -1.341 0.180073    \n",
       "V6A63       -9.304e-01  5.278e-01  -1.763 0.077903 .  \n",
       "V6A64       -1.751e+00  6.703e-01  -2.612 0.008995 ** \n",
       "V6A65       -1.204e+00  3.389e-01  -3.551 0.000384 ***\n",
       "V7A72        6.838e-01  5.403e-01   1.266 0.205652    \n",
       "V7A73        3.936e-01  5.225e-01   0.753 0.451270    \n",
       "V7A74       -4.145e-01  5.537e-01  -0.749 0.454059    \n",
       "V7A75       -1.297e-01  5.235e-01  -0.248 0.804266    \n",
       "V8           3.944e-01  1.090e-01   3.617 0.000298 ***\n",
       "V9A92        5.229e-02  4.744e-01   0.110 0.912228    \n",
       "V9A93       -6.667e-01  4.672e-01  -1.427 0.153598    \n",
       "V9A94       -1.792e-02  5.530e-01  -0.032 0.974145    \n",
       "V10A102      5.693e-01  5.422e-01   1.050 0.293782    \n",
       "V10A103     -9.706e-01  5.144e-01  -1.887 0.059191 .  \n",
       "V11          2.448e-02  1.073e-01   0.228 0.819576    \n",
       "V12A122      1.891e-01  3.193e-01   0.592 0.553703    \n",
       "V12A123      4.270e-01  2.869e-01   1.488 0.136650    \n",
       "V12A124      1.110e+00  6.484e-01   1.711 0.087001 .  \n",
       "V13          1.887e-03  1.096e-02   0.172 0.863333    \n",
       "V14A142     -3.944e-02  5.344e-01  -0.074 0.941172    \n",
       "V14A143     -2.443e-01  3.002e-01  -0.814 0.415666    \n",
       "V15A152     -5.696e-01  2.947e-01  -1.933 0.053292 .  \n",
       "V15A153     -1.061e+00  6.918e-01  -1.534 0.125022    \n",
       "V16          2.889e-01  2.544e-01   1.136 0.256084    \n",
       "V17A172     -3.075e-01  8.077e-01  -0.381 0.703390    \n",
       "V17A173     -2.913e-02  7.783e-01  -0.037 0.970149    \n",
       "V17A174     -2.059e-01  7.808e-01  -0.264 0.791974    \n",
       "V18          4.692e-01  3.096e-01   1.516 0.129584    \n",
       "V19A192     -4.319e-01  2.519e-01  -1.714 0.086482 .  \n",
       "V20A202     -1.136e+00  7.597e-01  -1.496 0.134732    \n",
       "---\n",
       "Signif. codes:  0 '***' 0.001 '**' 0.01 '*' 0.05 '.' 0.1 ' ' 1\n",
       "\n",
       "(Dispersion parameter for binomial family taken to be 1)\n",
       "\n",
       "    Null deviance: 844.80  on 699  degrees of freedom\n",
       "Residual deviance: 600.93  on 651  degrees of freedom\n",
       "AIC: 698.93\n",
       "\n",
       "Number of Fisher Scoring iterations: 5\n"
      ]
     },
     "metadata": {},
     "output_type": "display_data"
    }
   ],
   "source": [
    "creditLogModel <- glm(V21 ~ ., data = data_train, family=binomial(link=\"logit\"))\n",
    "# Look at importance of predictors\n",
    "summary(creditLogModel)"
   ]
  },
  {
   "cell_type": "code",
   "execution_count": 29,
   "id": "3cee6ac0-6522-4601-bdcf-8bc929fd5dc1",
   "metadata": {},
   "outputs": [
    {
     "data": {
      "text/plain": [
       "   \n",
       "      0   1\n",
       "  0 178  26\n",
       "  1  47  49"
      ]
     },
     "metadata": {},
     "output_type": "display_data"
    }
   ],
   "source": [
    "#Let's do a baseline prediction.\n",
    "creditPredict <- predict(creditLogModel, newdata=data_test[,-21], type=\"response\")\n",
    "table(data_test$V21, round(creditPredict))"
   ]
  },
  {
   "cell_type": "markdown",
   "id": "8df60f49-603b-44a5-83b3-682933801208",
   "metadata": {},
   "source": [
    "#### It's given that incorrectly identifying a bad customer as good, is 5 times worse than incorrectly identify a good customer as bad.\n",
    "#### To increasing specificity, we need to select only significant variables and remove the non significant ones."
   ]
  },
  {
   "cell_type": "code",
   "execution_count": 30,
   "id": "70832396-e799-4e2c-913f-c4ca3211a039",
   "metadata": {},
   "outputs": [],
   "source": [
    "data_train$V1A14[data_train$V1==\"A14\"] <-1\n",
    "data_train$V1A14[data_train$V1!=\"A14\"] <-0\n",
    "data_train$V3A34[data_train$V3==\"A34\"] <-1\n",
    "data_train$V3A34[data_train$V3!=\"A34\"] <-0\n",
    "data_train$V4A41[data_train$V4==\"A41\"] <-1\n",
    "data_train$V4A41[data_train$V4!=\"A41\"] <-0\n",
    "data_train$V4A43[data_train$V4==\"A43\"] <-1\n",
    "data_train$V4A43[data_train$V4!=\"A43\"] <-0\n",
    "data_train$V6A64[data_train$V6==\"A64\"] <-1\n",
    "data_train$V6A64[data_train$V6!=\"A64\"] <-0\n",
    "data_train$V6A65[data_train$V6==\"A65\"] <-1\n",
    "data_train$V6A65[data_train$V6!=\"A65\"] <-0"
   ]
  },
  {
   "cell_type": "code",
   "execution_count": 31,
   "id": "e344c97f-d539-4003-b855-db8b70024b29",
   "metadata": {},
   "outputs": [
    {
     "data": {
      "text/plain": [
       "\n",
       "Call:\n",
       "glm(formula = V21 ~ V1A14 + V2 + V3A34 + V4A41 + V4A43 + V5 + \n",
       "    V6A64 + V6A65 + V8, family = binomial(link = \"logit\"), data = data_train)\n",
       "\n",
       "Deviance Residuals: \n",
       "    Min       1Q   Median       3Q      Max  \n",
       "-1.9583  -0.7818  -0.4346   0.9183   2.5810  \n",
       "\n",
       "Coefficients:\n",
       "              Estimate Std. Error z value Pr(>|z|)    \n",
       "(Intercept) -1.703e+00  3.524e-01  -4.833 1.34e-06 ***\n",
       "V1A14       -1.515e+00  2.303e-01  -6.576 4.84e-11 ***\n",
       "V2           3.054e-02  9.718e-03   3.142 0.001676 ** \n",
       "V3A34       -9.402e-01  2.366e-01  -3.973 7.09e-05 ***\n",
       "V4A41       -1.216e+00  3.770e-01  -3.226 0.001254 ** \n",
       "V4A43       -6.313e-01  2.222e-01  -2.842 0.004486 ** \n",
       "V5           9.209e-05  4.379e-05   2.103 0.035467 *  \n",
       "V6A64       -1.168e+00  5.856e-01  -1.995 0.046076 *  \n",
       "V6A65       -1.052e+00  3.017e-01  -3.486 0.000490 ***\n",
       "V8           3.269e-01  9.441e-02   3.463 0.000535 ***\n",
       "---\n",
       "Signif. codes:  0 '***' 0.001 '**' 0.01 '*' 0.05 '.' 0.1 ' ' 1\n",
       "\n",
       "(Dispersion parameter for binomial family taken to be 1)\n",
       "\n",
       "    Null deviance: 844.80  on 699  degrees of freedom\n",
       "Residual deviance: 680.08  on 690  degrees of freedom\n",
       "AIC: 700.08\n",
       "\n",
       "Number of Fisher Scoring iterations: 5\n"
      ]
     },
     "metadata": {},
     "output_type": "display_data"
    }
   ],
   "source": [
    "model_train2<-glm(V21~V1A14+V2+V3A34+V4A41+V4A43+V5+V6A64+V6A65+V8,data=data_train,family =binomial(link='logit'))\n",
    "summary(model_train2)"
   ]
  },
  {
   "cell_type": "markdown",
   "id": "ef9c143d-caf2-416c-99d5-b069e2276b71",
   "metadata": {},
   "source": [
    "#### Create confusion matrix of predicted vs. observed values on test set"
   ]
  },
  {
   "cell_type": "code",
   "execution_count": 32,
   "id": "0dcf6b65-4737-47c3-b185-7632d7cd1fe0",
   "metadata": {},
   "outputs": [
    {
     "data": {
      "text/plain": [
       "         Observed\n",
       "Predicted   0   1\n",
       "        0 183  55\n",
       "        1  21  41"
      ]
     },
     "metadata": {},
     "output_type": "display_data"
    }
   ],
   "source": [
    "data_test$V1A14[data_test$V1==\"A14\"] <-1\n",
    "data_test$V1A14[data_test$V1!=\"A14\"] <-0\n",
    "data_test$V3A34[data_test$V3==\"A34\"] <-1\n",
    "data_test$V3A34[data_test$V3!=\"A34\"] <-0\n",
    "data_test$V4A41[data_test$V4==\"A41\"] <-1\n",
    "data_test$V4A41[data_test$V4!=\"A41\"] <-0\n",
    "data_test$V4A43[data_test$V4==\"A43\"] <-1\n",
    "data_test$V4A43[data_test$V4!=\"A43\"] <-0\n",
    "data_test$V6A64[data_test$V6==\"A64\"] <-1\n",
    "data_test$V6A64[data_test$V6!=\"A64\"] <-0\n",
    "data_test$V6A65[data_test$V6==\"A65\"] <-1\n",
    "data_test$V6A65[data_test$V6!=\"A65\"] <-0\n",
    "predict2 <-predict(model_train2,newdata=data_test[,-21],type=\"response\")\n",
    "t2 <-as.matrix(table(round(predict2), data_test$V21))\n",
    "names(dimnames(t2)) <-c(\"Predicted\",\"Observed\")\n",
    "t2"
   ]
  },
  {
   "cell_type": "code",
   "execution_count": 33,
   "id": "13eb140a-7f26-491b-bf4d-d782c8fdd6cf",
   "metadata": {},
   "outputs": [
    {
     "data": {
      "text/html": [
       "0.897058823529412"
      ],
      "text/latex": [
       "0.897058823529412"
      ],
      "text/markdown": [
       "0.897058823529412"
      ],
      "text/plain": [
       "[1] 0.8970588"
      ]
     },
     "metadata": {},
     "output_type": "display_data"
    }
   ],
   "source": [
    "specificity1 <- t2[1,1]/(t2[1,1]+t2[2,1])\n",
    "specificity1"
   ]
  },
  {
   "cell_type": "markdown",
   "id": "cf80d567-9106-46a0-9fb6-2350908a2329",
   "metadata": {},
   "source": [
    "#### There are 21 False positives ,which need to be reduced further. And specificity is 89.7% which need tobe increased. Need to test with different values of threshold. Trying with threshold of 0.7"
   ]
  },
  {
   "cell_type": "code",
   "execution_count": 34,
   "id": "d22b925b-222a-4d24-878f-a18689d18186",
   "metadata": {},
   "outputs": [
    {
     "data": {
      "text/plain": [
       "         Observed\n",
       "Predicted   0   1\n",
       "        0 200  83\n",
       "        1   4  13"
      ]
     },
     "metadata": {},
     "output_type": "display_data"
    }
   ],
   "source": [
    "threshold <-0.7\n",
    "t3 <-as.matrix(table(round(predict2>threshold), data_test$V21))\n",
    "names(dimnames(t3)) <-c(\"Predicted\",\"Observed\")\n",
    "t3"
   ]
  },
  {
   "cell_type": "code",
   "execution_count": 35,
   "id": "0d9c6565-6719-410f-a5b9-3d09ce60ef50",
   "metadata": {},
   "outputs": [
    {
     "data": {
      "text/html": [
       "0.980392156862745"
      ],
      "text/latex": [
       "0.980392156862745"
      ],
      "text/markdown": [
       "0.980392156862745"
      ],
      "text/plain": [
       "[1] 0.9803922"
      ]
     },
     "metadata": {},
     "output_type": "display_data"
    }
   ],
   "source": [
    "specificity <- t3[1,1]/(t3[1,1]+t3[2,1])\n",
    "specificity"
   ]
  },
  {
   "cell_type": "code",
   "execution_count": 36,
   "id": "9f0ccdc1-cd64-44b9-9d39-b089b5b96eaa",
   "metadata": {},
   "outputs": [
    {
     "name": "stderr",
     "output_type": "stream",
     "text": [
      "Warning message:\n",
      "\"package 'pROC' was built under R version 3.6.3\"Type 'citation(\"pROC\")' for a citation.\n",
      "\n",
      "Attaching package: 'pROC'\n",
      "\n",
      "The following objects are masked from 'package:stats':\n",
      "\n",
      "    cov, smooth, var\n",
      "\n"
     ]
    }
   ],
   "source": [
    "library(pROC)\n"
   ]
  },
  {
   "cell_type": "code",
   "execution_count": 37,
   "id": "11ac8b14-7f1b-4b2f-91b2-f7f077938d57",
   "metadata": {},
   "outputs": [
    {
     "name": "stderr",
     "output_type": "stream",
     "text": [
      "Setting levels: control = 0, case = 1\n",
      "Setting direction: controls < cases\n"
     ]
    },
    {
     "data": {
      "text/plain": [
       "\n",
       "Call:\n",
       "roc.default(response = data_test$V21, predictor = round(predict2))\n",
       "\n",
       "Data: round(predict2) in 204 controls (data_test$V21 0) < 96 cases (data_test$V21 1).\n",
       "Area under the curve: 0.6621"
      ]
     },
     "metadata": {},
     "output_type": "display_data"
    }
   ],
   "source": [
    "roc <-roc(data_test$V21,round(predict2))\n",
    "roc"
   ]
  },
  {
   "cell_type": "code",
   "execution_count": 38,
   "id": "15781d84-68ad-438f-8d2d-3f1b9d9a1e72",
   "metadata": {},
   "outputs": [
    {
     "data": {
      "text/html": [
       "0.71"
      ],
      "text/latex": [
       "0.71"
      ],
      "text/markdown": [
       "0.71"
      ],
      "text/plain": [
       "[1] 0.71"
      ]
     },
     "metadata": {},
     "output_type": "display_data"
    }
   ],
   "source": [
    "accuracy <- (t3[1,1]+t3[2,2])/(t3[1,1]+t3[1,2]+t3[2,1]+t3[2,2])\n",
    "accuracy"
   ]
  },
  {
   "cell_type": "markdown",
   "id": "8298dec8-af45-40db-a86b-cf7f20d50a66",
   "metadata": {},
   "source": [
    "#### As there are 1000 observations, the data is split into training data and test data in the ration of 70:30.The logistic regression model is trained using training datawith all predictors. Each column consists ofmany variables . The significance of each variable in each column is analysed and the insignificantcomponents are removed. Using the significant variables, the data is trained . Confusion matrix iscreated on test values . In the confusion matrix , we got 21 false positives, which is 5 times more worsethan False negatives. So we need to bring down the false positives and increase the specificity.For increasing the specificity a threshold of 0.7 is set and prediction done . Thus we got specificity of 98% and accuracy of 71%. Tried for higher values of threshold where specificity is near to 1 ,which can thereason for overfitting"
   ]
  },
  {
   "cell_type": "code",
   "execution_count": null,
   "id": "f91d654f-d793-4808-95da-687910881a33",
   "metadata": {},
   "outputs": [],
   "source": []
  },
  {
   "cell_type": "code",
   "execution_count": null,
   "id": "ed4872f2-80e5-4798-8a97-1646650208af",
   "metadata": {},
   "outputs": [],
   "source": []
  }
 ],
 "metadata": {
  "kernelspec": {
   "display_name": "R",
   "language": "R",
   "name": "ir"
  },
  "language_info": {
   "codemirror_mode": "r",
   "file_extension": ".r",
   "mimetype": "text/x-r-source",
   "name": "R",
   "pygments_lexer": "r",
   "version": "3.6.1"
  }
 },
 "nbformat": 4,
 "nbformat_minor": 5
}
