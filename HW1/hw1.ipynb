{
 "cells": [
  {
   "cell_type": "code",
   "execution_count": 1,
   "id": "98786c9b-3b73-41e2-b063-a50e18badc53",
   "metadata": {},
   "outputs": [
    {
     "name": "stdout",
     "output_type": "stream",
     "text": [
      "\n",
      "  There is a binary version available but the source version is later:\n",
      "        binary source needs_compilation\n",
      "kernlab 0.9-29 0.9-32              TRUE\n",
      "\n",
      "  Binaries will be installed\n",
      "package 'kernlab' successfully unpacked and MD5 sums checked\n"
     ]
    },
    {
     "name": "stderr",
     "output_type": "stream",
     "text": [
      "Warning message:\n",
      "\"cannot remove prior installation of package 'kernlab'\"Warning message in file.copy(savedcopy, lib, recursive = TRUE):\n",
      "\"problem copying C:\\Users\\Tien\\anaconda3\\envs\\new evn\\Lib\\R\\library\\00LOCK\\kernlab\\libs\\x64\\kernlab.dll to C:\\Users\\Tien\\anaconda3\\envs\\new evn\\Lib\\R\\library\\kernlab\\libs\\x64\\kernlab.dll: Permission denied\"Warning message:\n",
      "\"restored 'kernlab'\""
     ]
    },
    {
     "name": "stdout",
     "output_type": "stream",
     "text": [
      "\n",
      "The downloaded binary packages are in\n",
      "\tC:\\Users\\Tien\\AppData\\Local\\Temp\\RtmpU5lUTd\\downloaded_packages\n"
     ]
    }
   ],
   "source": [
    "install.packages(\"kernlab\")\n",
    "library(kernlab)"
   ]
  },
  {
   "cell_type": "markdown",
   "id": "6f0b0bb1-d39f-4e49-8cb3-91d0a3bb8b9c",
   "metadata": {},
   "source": [
    "# Question 1"
   ]
  },
  {
   "cell_type": "code",
   "execution_count": 2,
   "id": "ca01d9c2-6c8b-4562-a252-a41edca103e3",
   "metadata": {},
   "outputs": [
    {
     "data": {
      "text/html": [
       "<table>\n",
       "<thead><tr><th scope=col>V1</th><th scope=col>V2</th><th scope=col>V3</th><th scope=col>V4</th><th scope=col>V5</th><th scope=col>V6</th><th scope=col>V7</th><th scope=col>V8</th><th scope=col>V9</th><th scope=col>V10</th><th scope=col>V11</th></tr></thead>\n",
       "<tbody>\n",
       "\t<tr><td>1    </td><td>30.83</td><td>0.000</td><td>1.25 </td><td>1    </td><td>0    </td><td>1    </td><td>1    </td><td>202  </td><td>  0  </td><td>1    </td></tr>\n",
       "\t<tr><td>0    </td><td>58.67</td><td>4.460</td><td>3.04 </td><td>1    </td><td>0    </td><td>6    </td><td>1    </td><td> 43  </td><td>560  </td><td>1    </td></tr>\n",
       "\t<tr><td>0    </td><td>24.50</td><td>0.500</td><td>1.50 </td><td>1    </td><td>1    </td><td>0    </td><td>1    </td><td>280  </td><td>824  </td><td>1    </td></tr>\n",
       "\t<tr><td>1    </td><td>27.83</td><td>1.540</td><td>3.75 </td><td>1    </td><td>0    </td><td>5    </td><td>0    </td><td>100  </td><td>  3  </td><td>1    </td></tr>\n",
       "\t<tr><td>1    </td><td>20.17</td><td>5.625</td><td>1.71 </td><td>1    </td><td>1    </td><td>0    </td><td>1    </td><td>120  </td><td>  0  </td><td>1    </td></tr>\n",
       "\t<tr><td>1    </td><td>32.08</td><td>4.000</td><td>2.50 </td><td>1    </td><td>1    </td><td>0    </td><td>0    </td><td>360  </td><td>  0  </td><td>1    </td></tr>\n",
       "</tbody>\n",
       "</table>\n"
      ],
      "text/latex": [
       "\\begin{tabular}{r|lllllllllll}\n",
       " V1 & V2 & V3 & V4 & V5 & V6 & V7 & V8 & V9 & V10 & V11\\\\\n",
       "\\hline\n",
       "\t 1     & 30.83 & 0.000 & 1.25  & 1     & 0     & 1     & 1     & 202   &   0   & 1    \\\\\n",
       "\t 0     & 58.67 & 4.460 & 3.04  & 1     & 0     & 6     & 1     &  43   & 560   & 1    \\\\\n",
       "\t 0     & 24.50 & 0.500 & 1.50  & 1     & 1     & 0     & 1     & 280   & 824   & 1    \\\\\n",
       "\t 1     & 27.83 & 1.540 & 3.75  & 1     & 0     & 5     & 0     & 100   &   3   & 1    \\\\\n",
       "\t 1     & 20.17 & 5.625 & 1.71  & 1     & 1     & 0     & 1     & 120   &   0   & 1    \\\\\n",
       "\t 1     & 32.08 & 4.000 & 2.50  & 1     & 1     & 0     & 0     & 360   &   0   & 1    \\\\\n",
       "\\end{tabular}\n"
      ],
      "text/markdown": [
       "\n",
       "| V1 | V2 | V3 | V4 | V5 | V6 | V7 | V8 | V9 | V10 | V11 |\n",
       "|---|---|---|---|---|---|---|---|---|---|---|\n",
       "| 1     | 30.83 | 0.000 | 1.25  | 1     | 0     | 1     | 1     | 202   |   0   | 1     |\n",
       "| 0     | 58.67 | 4.460 | 3.04  | 1     | 0     | 6     | 1     |  43   | 560   | 1     |\n",
       "| 0     | 24.50 | 0.500 | 1.50  | 1     | 1     | 0     | 1     | 280   | 824   | 1     |\n",
       "| 1     | 27.83 | 1.540 | 3.75  | 1     | 0     | 5     | 0     | 100   |   3   | 1     |\n",
       "| 1     | 20.17 | 5.625 | 1.71  | 1     | 1     | 0     | 1     | 120   |   0   | 1     |\n",
       "| 1     | 32.08 | 4.000 | 2.50  | 1     | 1     | 0     | 0     | 360   |   0   | 1     |\n",
       "\n"
      ],
      "text/plain": [
       "  V1 V2    V3    V4   V5 V6 V7 V8 V9  V10 V11\n",
       "1 1  30.83 0.000 1.25 1  0  1  1  202   0 1  \n",
       "2 0  58.67 4.460 3.04 1  0  6  1   43 560 1  \n",
       "3 0  24.50 0.500 1.50 1  1  0  1  280 824 1  \n",
       "4 1  27.83 1.540 3.75 1  0  5  0  100   3 1  \n",
       "5 1  20.17 5.625 1.71 1  1  0  1  120   0 1  \n",
       "6 1  32.08 4.000 2.50 1  1  0  0  360   0 1  "
      ]
     },
     "metadata": {},
     "output_type": "display_data"
    }
   ],
   "source": [
    "data <- read.table(\"./data 2.2/credit_card_data.txt\") \n",
    "head(data)"
   ]
  },
  {
   "cell_type": "code",
   "execution_count": 3,
   "id": "3e4690ac-02ab-4208-9fc6-5458401d3b93",
   "metadata": {},
   "outputs": [],
   "source": [
    "set.seed(1)"
   ]
  },
  {
   "cell_type": "code",
   "execution_count": 4,
   "id": "409b0330-7f14-4683-8c23-c299b33d4741",
   "metadata": {},
   "outputs": [
    {
     "name": "stdout",
     "output_type": "stream",
     "text": [
      " Setting default kernel parameters  \n"
     ]
    }
   ],
   "source": [
    "model <- ksvm(as.matrix(data[,1:10]),as.factor(data[,11]), C=50, scaled = T, kernel=\"vanilladot\", type = \"C-svc\")"
   ]
  },
  {
   "cell_type": "code",
   "execution_count": 5,
   "id": "fdb2e980-eeb5-461b-b96f-7f084f174eae",
   "metadata": {},
   "outputs": [
    {
     "data": {
      "text/html": [
       "<dl class=dl-horizontal>\n",
       "\t<dt>V1</dt>\n",
       "\t\t<dd>-0.0010523630413164</dd>\n",
       "\t<dt>V2</dt>\n",
       "\t\t<dd>-0.00120251309092168</dd>\n",
       "\t<dt>V3</dt>\n",
       "\t\t<dd>-0.00153826615467878</dd>\n",
       "\t<dt>V4</dt>\n",
       "\t\t<dd>0.00287619981250921</dd>\n",
       "\t<dt>V5</dt>\n",
       "\t\t<dd>1.00527649441581</dd>\n",
       "\t<dt>V6</dt>\n",
       "\t\t<dd>-0.00249580855321108</dd>\n",
       "\t<dt>V7</dt>\n",
       "\t\t<dd>0.00018102454212815</dd>\n",
       "\t<dt>V8</dt>\n",
       "\t\t<dd>-0.000651482921574242</dd>\n",
       "\t<dt>V9</dt>\n",
       "\t\t<dd>-0.00137571432574878</dd>\n",
       "\t<dt>V10</dt>\n",
       "\t\t<dd>0.106400284656931</dd>\n",
       "</dl>\n"
      ],
      "text/latex": [
       "\\begin{description*}\n",
       "\\item[V1] -0.0010523630413164\n",
       "\\item[V2] -0.00120251309092168\n",
       "\\item[V3] -0.00153826615467878\n",
       "\\item[V4] 0.00287619981250921\n",
       "\\item[V5] 1.00527649441581\n",
       "\\item[V6] -0.00249580855321108\n",
       "\\item[V7] 0.00018102454212815\n",
       "\\item[V8] -0.000651482921574242\n",
       "\\item[V9] -0.00137571432574878\n",
       "\\item[V10] 0.106400284656931\n",
       "\\end{description*}\n"
      ],
      "text/markdown": [
       "V1\n",
       ":   -0.0010523630413164V2\n",
       ":   -0.00120251309092168V3\n",
       ":   -0.00153826615467878V4\n",
       ":   0.00287619981250921V5\n",
       ":   1.00527649441581V6\n",
       ":   -0.00249580855321108V7\n",
       ":   0.00018102454212815V8\n",
       ":   -0.000651482921574242V9\n",
       ":   -0.00137571432574878V10\n",
       ":   0.106400284656931\n",
       "\n"
      ],
      "text/plain": [
       "           V1            V2            V3            V4            V5 \n",
       "-0.0010523630 -0.0012025131 -0.0015382662  0.0028761998  1.0052764944 \n",
       "           V6            V7            V8            V9           V10 \n",
       "-0.0024958086  0.0001810245 -0.0006514829 -0.0013757143  0.1064002847 "
      ]
     },
     "metadata": {},
     "output_type": "display_data"
    }
   ],
   "source": [
    "a <- colSums(model@xmatrix[[1]] * model@coef[[1]])\n",
    "a"
   ]
  },
  {
   "cell_type": "code",
   "execution_count": 6,
   "id": "e799bd23-8c9d-4cb6-a420-5a72f345c8a3",
   "metadata": {},
   "outputs": [
    {
     "data": {
      "text/html": [
       "0.0814714504047793"
      ],
      "text/latex": [
       "0.0814714504047793"
      ],
      "text/markdown": [
       "0.0814714504047793"
      ],
      "text/plain": [
       "[1] 0.08147145"
      ]
     },
     "metadata": {},
     "output_type": "display_data"
    }
   ],
   "source": [
    "a0 <- -model@b\n",
    "a0"
   ]
  },
  {
   "cell_type": "markdown",
   "id": "a89c97a5-4319-4489-9844-f39b346f8d75",
   "metadata": {},
   "source": [
    "The classifier's equation is then: -0.0010523630v1 -0.0012025131v2 -0.0015382662v3 + 0.0028761998v4 + 1.0052764944v5 -0.0024958086v6 + 0.0001810245v7 -0.0006514829v8 -0.0013757143v9 + 0.1064002847v10 + 0.08147145 = 0"
   ]
  },
  {
   "cell_type": "code",
   "execution_count": 7,
   "id": "4960a5e5-7591-4890-8d75-a7083fdeb5fd",
   "metadata": {},
   "outputs": [],
   "source": [
    "pred <- predict(model,data[,1:10])"
   ]
  },
  {
   "cell_type": "code",
   "execution_count": 8,
   "id": "4cb59ac9-1ecb-4264-b30e-d916c9fad8b2",
   "metadata": {},
   "outputs": [
    {
     "data": {
      "text/html": [
       "86.39"
      ],
      "text/latex": [
       "86.39"
      ],
      "text/markdown": [
       "86.39"
      ],
      "text/plain": [
       "[1] 86.39"
      ]
     },
     "metadata": {},
     "output_type": "display_data"
    }
   ],
   "source": [
    "round(sum(pred == data[,11]) / nrow(data) * 100 , 2)"
   ]
  },
  {
   "cell_type": "markdown",
   "id": "3e3e89be-6d87-48a5-9b4b-5909f3401318",
   "metadata": {},
   "source": [
    "### The model's accuracy is 86.39%"
   ]
  },
  {
   "cell_type": "markdown",
   "id": "a588493c-708a-4e1c-890d-20dd7a174c57",
   "metadata": {},
   "source": [
    "# Question 2"
   ]
  },
  {
   "cell_type": "code",
   "execution_count": 9,
   "id": "52bdff40-9e89-4280-ab1a-97d8e6efb058",
   "metadata": {},
   "outputs": [
    {
     "name": "stderr",
     "output_type": "stream",
     "text": [
      "Warning message:\n",
      "\"package 'kknn' was built under R version 3.6.3\""
     ]
    }
   ],
   "source": [
    "library(kknn)"
   ]
  },
  {
   "cell_type": "code",
   "execution_count": 10,
   "id": "7ceb93c1-4d38-4478-a0d2-28e54e760669",
   "metadata": {},
   "outputs": [],
   "source": [
    "check_accuracy = function(X){\n",
    "  predict <- rep(0,(nrow(data)))\n",
    "  for (i in 1:nrow(data)){\n",
    "    model=kknn(V11~V1+V2+V3+V4+V5+V6+V7+V8+V9+V10,data[-i,],data[i,],k=X, scale = TRUE) \n",
    "    predict[i] <- as.integer(fitted(model)+0.5) \n",
    "  }\n",
    "  accuracy = sum(predict == data[,11]) / nrow(data)\n",
    "  return(accuracy)\n",
    "}"
   ]
  },
  {
   "cell_type": "code",
   "execution_count": 11,
   "id": "b8f654e6-000a-4cd9-a4fc-8c7bf0df18fd",
   "metadata": {},
   "outputs": [],
   "source": [
    "accuracy <- rep(0,30) \n",
    "for (X in 1:20){\n",
    "  accuracy[X] = check_accuracy(X) \n",
    "}"
   ]
  },
  {
   "cell_type": "code",
   "execution_count": 12,
   "id": "028c864a-ee64-46b0-ac65-9b973e5451ed",
   "metadata": {},
   "outputs": [
    {
     "data": {
      "text/html": [
       "<ol class=list-inline>\n",
       "\t<li>0.814984709480122</li>\n",
       "\t<li>0.814984709480122</li>\n",
       "\t<li>0.814984709480122</li>\n",
       "\t<li>0.814984709480122</li>\n",
       "\t<li>0.851681957186544</li>\n",
       "\t<li>0.845565749235474</li>\n",
       "\t<li>0.847094801223242</li>\n",
       "\t<li>0.848623853211009</li>\n",
       "\t<li>0.847094801223242</li>\n",
       "\t<li>0.850152905198777</li>\n",
       "\t<li>0.851681957186544</li>\n",
       "\t<li>0.853211009174312</li>\n",
       "\t<li>0.851681957186544</li>\n",
       "\t<li>0.851681957186544</li>\n",
       "\t<li>0.853211009174312</li>\n",
       "\t<li>0.851681957186544</li>\n",
       "\t<li>0.851681957186544</li>\n",
       "\t<li>0.851681957186544</li>\n",
       "\t<li>0.850152905198777</li>\n",
       "\t<li>0.850152905198777</li>\n",
       "\t<li>0</li>\n",
       "\t<li>0</li>\n",
       "\t<li>0</li>\n",
       "\t<li>0</li>\n",
       "\t<li>0</li>\n",
       "\t<li>0</li>\n",
       "\t<li>0</li>\n",
       "\t<li>0</li>\n",
       "\t<li>0</li>\n",
       "\t<li>0</li>\n",
       "</ol>\n"
      ],
      "text/latex": [
       "\\begin{enumerate*}\n",
       "\\item 0.814984709480122\n",
       "\\item 0.814984709480122\n",
       "\\item 0.814984709480122\n",
       "\\item 0.814984709480122\n",
       "\\item 0.851681957186544\n",
       "\\item 0.845565749235474\n",
       "\\item 0.847094801223242\n",
       "\\item 0.848623853211009\n",
       "\\item 0.847094801223242\n",
       "\\item 0.850152905198777\n",
       "\\item 0.851681957186544\n",
       "\\item 0.853211009174312\n",
       "\\item 0.851681957186544\n",
       "\\item 0.851681957186544\n",
       "\\item 0.853211009174312\n",
       "\\item 0.851681957186544\n",
       "\\item 0.851681957186544\n",
       "\\item 0.851681957186544\n",
       "\\item 0.850152905198777\n",
       "\\item 0.850152905198777\n",
       "\\item 0\n",
       "\\item 0\n",
       "\\item 0\n",
       "\\item 0\n",
       "\\item 0\n",
       "\\item 0\n",
       "\\item 0\n",
       "\\item 0\n",
       "\\item 0\n",
       "\\item 0\n",
       "\\end{enumerate*}\n"
      ],
      "text/markdown": [
       "1. 0.814984709480122\n",
       "2. 0.814984709480122\n",
       "3. 0.814984709480122\n",
       "4. 0.814984709480122\n",
       "5. 0.851681957186544\n",
       "6. 0.845565749235474\n",
       "7. 0.847094801223242\n",
       "8. 0.848623853211009\n",
       "9. 0.847094801223242\n",
       "10. 0.850152905198777\n",
       "11. 0.851681957186544\n",
       "12. 0.853211009174312\n",
       "13. 0.851681957186544\n",
       "14. 0.851681957186544\n",
       "15. 0.853211009174312\n",
       "16. 0.851681957186544\n",
       "17. 0.851681957186544\n",
       "18. 0.851681957186544\n",
       "19. 0.850152905198777\n",
       "20. 0.850152905198777\n",
       "21. 0\n",
       "22. 0\n",
       "23. 0\n",
       "24. 0\n",
       "25. 0\n",
       "26. 0\n",
       "27. 0\n",
       "28. 0\n",
       "29. 0\n",
       "30. 0\n",
       "\n",
       "\n"
      ],
      "text/plain": [
       " [1] 0.8149847 0.8149847 0.8149847 0.8149847 0.8516820 0.8455657 0.8470948\n",
       " [8] 0.8486239 0.8470948 0.8501529 0.8516820 0.8532110 0.8516820 0.8516820\n",
       "[15] 0.8532110 0.8516820 0.8516820 0.8516820 0.8501529 0.8501529 0.0000000\n",
       "[22] 0.0000000 0.0000000 0.0000000 0.0000000 0.0000000 0.0000000 0.0000000\n",
       "[29] 0.0000000 0.0000000"
      ]
     },
     "metadata": {},
     "output_type": "display_data"
    }
   ],
   "source": [
    "accuracy"
   ]
  },
  {
   "cell_type": "markdown",
   "id": "c5f7acab-cb55-4d73-9f4f-2afbc8e40a9b",
   "metadata": {},
   "source": [
    "### k = 12 and k = 15 are best accuracies because they have the biggest values (~0.853)"
   ]
  },
  {
   "cell_type": "code",
   "execution_count": null,
   "id": "f9898352-e428-4562-9efb-faceb0db51f8",
   "metadata": {},
   "outputs": [],
   "source": []
  }
 ],
 "metadata": {
  "kernelspec": {
   "display_name": "R",
   "language": "R",
   "name": "ir"
  },
  "language_info": {
   "codemirror_mode": "r",
   "file_extension": ".r",
   "mimetype": "text/x-r-source",
   "name": "R",
   "pygments_lexer": "r",
   "version": "3.6.1"
  }
 },
 "nbformat": 4,
 "nbformat_minor": 5
}
