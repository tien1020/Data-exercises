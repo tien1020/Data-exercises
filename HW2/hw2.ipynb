{
 "cells": [
  {
   "cell_type": "code",
   "execution_count": 1,
   "id": "5e849550-c114-45f7-b0d4-cfc06dfec6da",
   "metadata": {},
   "outputs": [
    {
     "name": "stdout",
     "output_type": "stream",
     "text": [
      "\n",
      "  There is a binary version available but the source version is later:\n",
      "        binary source needs_compilation\n",
      "kernlab 0.9-29 0.9-32              TRUE\n",
      "\n",
      "  Binaries will be installed\n",
      "package 'kernlab' successfully unpacked and MD5 sums checked\n"
     ]
    },
    {
     "name": "stderr",
     "output_type": "stream",
     "text": [
      "Warning message:\n",
      "\"cannot remove prior installation of package 'kernlab'\"Warning message in file.copy(savedcopy, lib, recursive = TRUE):\n",
      "\"problem copying C:\\Users\\Tien\\anaconda3\\envs\\new evn\\Lib\\R\\library\\00LOCK\\kernlab\\libs\\x64\\kernlab.dll to C:\\Users\\Tien\\anaconda3\\envs\\new evn\\Lib\\R\\library\\kernlab\\libs\\x64\\kernlab.dll: Permission denied\"Warning message:\n",
      "\"restored 'kernlab'\""
     ]
    },
    {
     "name": "stdout",
     "output_type": "stream",
     "text": [
      "\n",
      "The downloaded binary packages are in\n",
      "\tC:\\Users\\Tien\\AppData\\Local\\Temp\\RtmpQ1NNvh\\downloaded_packages\n"
     ]
    },
    {
     "name": "stderr",
     "output_type": "stream",
     "text": [
      "Warning message:\n",
      "\"package 'kknn' was built under R version 3.6.3\""
     ]
    }
   ],
   "source": [
    "install.packages(\"kernlab\")\n",
    "library(kernlab)\n",
    "library(kknn)"
   ]
  },
  {
   "cell_type": "code",
   "execution_count": 2,
   "id": "a3bc0393-c2e7-4a8f-b0b5-ed360274bea1",
   "metadata": {},
   "outputs": [
    {
     "data": {
      "text/html": [
       "<table>\n",
       "<thead><tr><th scope=col>V1</th><th scope=col>V2</th><th scope=col>V3</th><th scope=col>V4</th><th scope=col>V5</th><th scope=col>V6</th><th scope=col>V7</th><th scope=col>V8</th><th scope=col>V9</th><th scope=col>V10</th><th scope=col>V11</th></tr></thead>\n",
       "<tbody>\n",
       "\t<tr><td>1    </td><td>30.83</td><td>0.000</td><td>1.25 </td><td>1    </td><td>0    </td><td>1    </td><td>1    </td><td>202  </td><td>  0  </td><td>1    </td></tr>\n",
       "\t<tr><td>0    </td><td>58.67</td><td>4.460</td><td>3.04 </td><td>1    </td><td>0    </td><td>6    </td><td>1    </td><td> 43  </td><td>560  </td><td>1    </td></tr>\n",
       "\t<tr><td>0    </td><td>24.50</td><td>0.500</td><td>1.50 </td><td>1    </td><td>1    </td><td>0    </td><td>1    </td><td>280  </td><td>824  </td><td>1    </td></tr>\n",
       "\t<tr><td>1    </td><td>27.83</td><td>1.540</td><td>3.75 </td><td>1    </td><td>0    </td><td>5    </td><td>0    </td><td>100  </td><td>  3  </td><td>1    </td></tr>\n",
       "\t<tr><td>1    </td><td>20.17</td><td>5.625</td><td>1.71 </td><td>1    </td><td>1    </td><td>0    </td><td>1    </td><td>120  </td><td>  0  </td><td>1    </td></tr>\n",
       "\t<tr><td>1    </td><td>32.08</td><td>4.000</td><td>2.50 </td><td>1    </td><td>1    </td><td>0    </td><td>0    </td><td>360  </td><td>  0  </td><td>1    </td></tr>\n",
       "</tbody>\n",
       "</table>\n"
      ],
      "text/latex": [
       "\\begin{tabular}{r|lllllllllll}\n",
       " V1 & V2 & V3 & V4 & V5 & V6 & V7 & V8 & V9 & V10 & V11\\\\\n",
       "\\hline\n",
       "\t 1     & 30.83 & 0.000 & 1.25  & 1     & 0     & 1     & 1     & 202   &   0   & 1    \\\\\n",
       "\t 0     & 58.67 & 4.460 & 3.04  & 1     & 0     & 6     & 1     &  43   & 560   & 1    \\\\\n",
       "\t 0     & 24.50 & 0.500 & 1.50  & 1     & 1     & 0     & 1     & 280   & 824   & 1    \\\\\n",
       "\t 1     & 27.83 & 1.540 & 3.75  & 1     & 0     & 5     & 0     & 100   &   3   & 1    \\\\\n",
       "\t 1     & 20.17 & 5.625 & 1.71  & 1     & 1     & 0     & 1     & 120   &   0   & 1    \\\\\n",
       "\t 1     & 32.08 & 4.000 & 2.50  & 1     & 1     & 0     & 0     & 360   &   0   & 1    \\\\\n",
       "\\end{tabular}\n"
      ],
      "text/markdown": [
       "\n",
       "| V1 | V2 | V3 | V4 | V5 | V6 | V7 | V8 | V9 | V10 | V11 |\n",
       "|---|---|---|---|---|---|---|---|---|---|---|\n",
       "| 1     | 30.83 | 0.000 | 1.25  | 1     | 0     | 1     | 1     | 202   |   0   | 1     |\n",
       "| 0     | 58.67 | 4.460 | 3.04  | 1     | 0     | 6     | 1     |  43   | 560   | 1     |\n",
       "| 0     | 24.50 | 0.500 | 1.50  | 1     | 1     | 0     | 1     | 280   | 824   | 1     |\n",
       "| 1     | 27.83 | 1.540 | 3.75  | 1     | 0     | 5     | 0     | 100   |   3   | 1     |\n",
       "| 1     | 20.17 | 5.625 | 1.71  | 1     | 1     | 0     | 1     | 120   |   0   | 1     |\n",
       "| 1     | 32.08 | 4.000 | 2.50  | 1     | 1     | 0     | 0     | 360   |   0   | 1     |\n",
       "\n"
      ],
      "text/plain": [
       "  V1 V2    V3    V4   V5 V6 V7 V8 V9  V10 V11\n",
       "1 1  30.83 0.000 1.25 1  0  1  1  202   0 1  \n",
       "2 0  58.67 4.460 3.04 1  0  6  1   43 560 1  \n",
       "3 0  24.50 0.500 1.50 1  1  0  1  280 824 1  \n",
       "4 1  27.83 1.540 3.75 1  0  5  0  100   3 1  \n",
       "5 1  20.17 5.625 1.71 1  1  0  1  120   0 1  \n",
       "6 1  32.08 4.000 2.50 1  1  0  0  360   0 1  "
      ]
     },
     "metadata": {},
     "output_type": "display_data"
    }
   ],
   "source": [
    "data <- read.table(\"./data 3.1/credit_card_data.txt\") \n",
    "head(data)"
   ]
  },
  {
   "cell_type": "code",
   "execution_count": 3,
   "id": "8ce4a450-2295-4924-b1ae-8f8f37173cf2",
   "metadata": {},
   "outputs": [],
   "source": [
    "set.seed(1)"
   ]
  },
  {
   "cell_type": "markdown",
   "id": "4ff6e093-546d-40c4-8cf4-3c3d2500e031",
   "metadata": {},
   "source": [
    "# Question 3.1 "
   ]
  },
  {
   "cell_type": "code",
   "execution_count": 4,
   "id": "9a69618d-a767-41c4-8ae2-325f6dc41954",
   "metadata": {},
   "outputs": [],
   "source": [
    "check_accuracy = function(X){\n",
    "  predict <- rep(0,(nrow(data)))\n",
    "  for (i in 1:nrow(data)){\n",
    "    model=kknn(V11~V1+V2+V3+V4+V5+V6+V7+V8+V9+V10,data[-i,],data[i,],k=X, scale = TRUE) \n",
    "    predict[i] <- as.integer(fitted(model)+0.5) \n",
    "  }\n",
    "  accuracy = sum(predict == data[,11]) / nrow(data)\n",
    "  return(accuracy)\n",
    "}"
   ]
  },
  {
   "cell_type": "code",
   "execution_count": 5,
   "id": "b05d63f0-a954-4f66-a103-71ed007c63ec",
   "metadata": {},
   "outputs": [],
   "source": [
    "accuracy <- rep(0,20) \n",
    "for (X in 1:20){\n",
    "  accuracy[X] = check_accuracy(X) \n",
    "}"
   ]
  },
  {
   "cell_type": "code",
   "execution_count": 6,
   "id": "fa1a7fdb-7cc9-4b83-a240-9d06a991cd90",
   "metadata": {},
   "outputs": [
    {
     "data": {
      "text/html": [
       "<ol class=list-inline>\n",
       "\t<li>0.814984709480122</li>\n",
       "\t<li>0.814984709480122</li>\n",
       "\t<li>0.814984709480122</li>\n",
       "\t<li>0.814984709480122</li>\n",
       "\t<li>0.851681957186544</li>\n",
       "\t<li>0.845565749235474</li>\n",
       "\t<li>0.847094801223242</li>\n",
       "\t<li>0.848623853211009</li>\n",
       "\t<li>0.847094801223242</li>\n",
       "\t<li>0.850152905198777</li>\n",
       "\t<li>0.851681957186544</li>\n",
       "\t<li>0.853211009174312</li>\n",
       "\t<li>0.851681957186544</li>\n",
       "\t<li>0.851681957186544</li>\n",
       "\t<li>0.853211009174312</li>\n",
       "\t<li>0.851681957186544</li>\n",
       "\t<li>0.851681957186544</li>\n",
       "\t<li>0.851681957186544</li>\n",
       "\t<li>0.850152905198777</li>\n",
       "\t<li>0.850152905198777</li>\n",
       "</ol>\n"
      ],
      "text/latex": [
       "\\begin{enumerate*}\n",
       "\\item 0.814984709480122\n",
       "\\item 0.814984709480122\n",
       "\\item 0.814984709480122\n",
       "\\item 0.814984709480122\n",
       "\\item 0.851681957186544\n",
       "\\item 0.845565749235474\n",
       "\\item 0.847094801223242\n",
       "\\item 0.848623853211009\n",
       "\\item 0.847094801223242\n",
       "\\item 0.850152905198777\n",
       "\\item 0.851681957186544\n",
       "\\item 0.853211009174312\n",
       "\\item 0.851681957186544\n",
       "\\item 0.851681957186544\n",
       "\\item 0.853211009174312\n",
       "\\item 0.851681957186544\n",
       "\\item 0.851681957186544\n",
       "\\item 0.851681957186544\n",
       "\\item 0.850152905198777\n",
       "\\item 0.850152905198777\n",
       "\\end{enumerate*}\n"
      ],
      "text/markdown": [
       "1. 0.814984709480122\n",
       "2. 0.814984709480122\n",
       "3. 0.814984709480122\n",
       "4. 0.814984709480122\n",
       "5. 0.851681957186544\n",
       "6. 0.845565749235474\n",
       "7. 0.847094801223242\n",
       "8. 0.848623853211009\n",
       "9. 0.847094801223242\n",
       "10. 0.850152905198777\n",
       "11. 0.851681957186544\n",
       "12. 0.853211009174312\n",
       "13. 0.851681957186544\n",
       "14. 0.851681957186544\n",
       "15. 0.853211009174312\n",
       "16. 0.851681957186544\n",
       "17. 0.851681957186544\n",
       "18. 0.851681957186544\n",
       "19. 0.850152905198777\n",
       "20. 0.850152905198777\n",
       "\n",
       "\n"
      ],
      "text/plain": [
       " [1] 0.8149847 0.8149847 0.8149847 0.8149847 0.8516820 0.8455657 0.8470948\n",
       " [8] 0.8486239 0.8470948 0.8501529 0.8516820 0.8532110 0.8516820 0.8516820\n",
       "[15] 0.8532110 0.8516820 0.8516820 0.8516820 0.8501529 0.8501529"
      ]
     },
     "metadata": {},
     "output_type": "display_data"
    }
   ],
   "source": [
    "accuracy"
   ]
  },
  {
   "cell_type": "code",
   "execution_count": 7,
   "id": "91e02172-018d-430e-8f26-cd927295545f",
   "metadata": {},
   "outputs": [
    {
     "data": {
      "image/png": "[encoded data removed]",
      "text/plain": [
       "Plot with title \"K-Nearest-Neighbors\""
      ]
     },
     "metadata": {},
     "output_type": "display_data"
    }
   ],
   "source": [
    "plot(accuracy)\n",
    "title(\"K-Nearest-Neighbors\")"
   ]
  },
  {
   "cell_type": "code",
   "execution_count": 8,
   "id": "12f4f871-51b7-425a-b439-8f401e035193",
   "metadata": {},
   "outputs": [
    {
     "data": {
      "text/html": [
       "0.853211009174312"
      ],
      "text/latex": [
       "0.853211009174312"
      ],
      "text/markdown": [
       "0.853211009174312"
      ],
      "text/plain": [
       "[1] 0.853211"
      ]
     },
     "metadata": {},
     "output_type": "display_data"
    }
   ],
   "source": [
    "k_accuracy = max(accuracy)\n",
    "k_accuracy"
   ]
  },
  {
   "cell_type": "code",
   "execution_count": 9,
   "id": "249052f3-004e-42f2-961a-68904dec144a",
   "metadata": {},
   "outputs": [
    {
     "data": {
      "text/html": [
       "12"
      ],
      "text/latex": [
       "12"
      ],
      "text/markdown": [
       "12"
      ],
      "text/plain": [
       "[1] 12"
      ]
     },
     "metadata": {},
     "output_type": "display_data"
    }
   ],
   "source": [
    "k_max = which.max(accuracy)\n",
    "k_max"
   ]
  },
  {
   "cell_type": "markdown",
   "id": "eb98b060-9740-4b8f-a6f0-71543ba09dbc",
   "metadata": {},
   "source": [
    "### k = 12 are nearest max accuracy because they have the biggest values (~0.853)"
   ]
  },
  {
   "cell_type": "code",
   "execution_count": 10,
   "id": "0a75ab15-9f53-4dc9-9c3d-159939598e4e",
   "metadata": {},
   "outputs": [],
   "source": [
    "# Splitting the data for training\n",
    "d.rows = nrow(data)"
   ]
  },
  {
   "cell_type": "code",
   "execution_count": 11,
   "id": "fde3b0e9-18e2-42f2-b527-f980ada15c8f",
   "metadata": {},
   "outputs": [],
   "source": [
    "# Creating sample data\n",
    "d.sample = sample(1:d.rows, size=round(d.rows/3), replace = FALSE)"
   ]
  },
  {
   "cell_type": "code",
   "execution_count": 12,
   "id": "a017aced-76aa-4e59-b888-929da9c2df65",
   "metadata": {},
   "outputs": [],
   "source": [
    "# Creating training data and excluding the sample\n",
    "d.train = data[-d.sample,]"
   ]
  },
  {
   "cell_type": "code",
   "execution_count": 13,
   "id": "8a8572a4-746a-47b7-8bce-6d33f8c80f15",
   "metadata": {},
   "outputs": [],
   "source": [
    "# Creating the test data with sample data\n",
    "d.test = data[d.sample,]"
   ]
  },
  {
   "cell_type": "code",
   "execution_count": 14,
   "id": "6436e176-4869-46ad-82ae-e24c4f43ae73",
   "metadata": {},
   "outputs": [],
   "source": [
    "# Cross Validation\n",
    "cross_validation = train.kknn(V11~V1+V2+V3+V4+V5+V6+V7+V8+V9+V10, data = d.train, kmax =100, kernal = c(\"optimal\",\"rectangular\",\"inv\",\"gaussian\",\"triangular\"),scale =TRUE)\n"
   ]
  },
  {
   "cell_type": "markdown",
   "id": "8d0c27cb-8125-4497-acc4-f50cfee3ffee",
   "metadata": {},
   "source": [
    "### Cross Validation"
   ]
  },
  {
   "cell_type": "code",
   "execution_count": 15,
   "id": "94d003d7-1886-4b59-9a82-3375a4d738a1",
   "metadata": {},
   "outputs": [
    {
     "data": {
      "text/plain": [
       "\n",
       "Call:\n",
       "train.kknn(formula = V11 ~ V1 + V2 + V3 + V4 + V5 + V6 + V7 +     V8 + V9 + V10, data = d.train, kmax = 100, scale = TRUE,     kernal = c(\"optimal\", \"rectangular\", \"inv\", \"gaussian\", \"triangular\"))\n",
       "\n",
       "Type of response variable: continuous\n",
       "minimal mean absolute error: 0.2134519\n",
       "Minimal mean squared error: 0.1127144\n",
       "Best kernel: optimal\n",
       "Best k: 41"
      ]
     },
     "metadata": {},
     "output_type": "display_data"
    }
   ],
   "source": [
    "cross_validation"
   ]
  },
  {
   "cell_type": "markdown",
   "id": "24eea059-963c-444c-95f7-1eeaccab35fb",
   "metadata": {},
   "source": [
    "### We found that the best k is 41"
   ]
  },
  {
   "cell_type": "markdown",
   "id": "0e669808-a931-490b-9840-9d77338770e3",
   "metadata": {},
   "source": [
    "### Testing the result"
   ]
  },
  {
   "cell_type": "code",
   "execution_count": 16,
   "id": "85e0882e-e20e-496c-bbae-a0da95802658",
   "metadata": {},
   "outputs": [],
   "source": [
    "prediction <- predict(cross_validation,d.test)\n",
    "prediction_bin <- round(prediction)\n",
    "prediction_accuracy <- table(prediction_bin,d.test$V11)"
   ]
  },
  {
   "cell_type": "code",
   "execution_count": 17,
   "id": "12ed9e59-54e2-4e16-8aea-a2ffca233522",
   "metadata": {},
   "outputs": [
    {
     "data": {
      "text/plain": [
       "              \n",
       "prediction_bin   0   1\n",
       "             0 104  16\n",
       "             1  16  82"
      ]
     },
     "metadata": {},
     "output_type": "display_data"
    }
   ],
   "source": [
    "prediction_accuracy"
   ]
  },
  {
   "cell_type": "code",
   "execution_count": 18,
   "id": "04a5dae6-6568-4fc0-8145-c7727f1fb610",
   "metadata": {},
   "outputs": [
    {
     "data": {
      "text/html": [
       "0.853211009174312"
      ],
      "text/latex": [
       "0.853211009174312"
      ],
      "text/markdown": [
       "0.853211009174312"
      ],
      "text/plain": [
       "[1] 0.853211"
      ]
     },
     "metadata": {},
     "output_type": "display_data"
    }
   ],
   "source": [
    "sum(prediction_bin==d.test$V11)/length(d.test$V11)"
   ]
  },
  {
   "cell_type": "markdown",
   "id": "78cc7929-fe09-4c63-a127-3750753ab58e",
   "metadata": {},
   "source": [
    "### The result show that the best k = 41 has prediction accuracy is ~ 0.853"
   ]
  },
  {
   "cell_type": "markdown",
   "id": "2baa8661-6b5d-461c-9111-0f909069dce7",
   "metadata": {},
   "source": [
    "# Question 4.1"
   ]
  },
  {
   "cell_type": "markdown",
   "id": "5bb4af8f-bce8-4c9a-86ff-55b1a0b7693a",
   "metadata": {},
   "source": [
    "#### When surfing the internet, I have received so many ads selling similar products, clothes that fit my style, or stuff that I need. I realize the advertising is based on some clustering model such as my behavior and characteristics so they can offer me the right product ads. "
   ]
  },
  {
   "cell_type": "markdown",
   "id": "046bce5d-e1bb-474c-a219-8cf4fc5c893e",
   "metadata": {},
   "source": [
    "### Predictors:\n",
    "#### - Purchase history: They can analyze the types of products that I have purchased to know about my style and favorites, and the frequency of my purchases. Therefore, they can define the clusters of customers who have similar buying behavior.\n",
    "#### - Demographic: Age, gender, and race can be different customer segments.\n",
    "#### - Online behavior: the business can tailor the ads based on analyzing website interactions, click-through rates, time spent, and type of websites."
   ]
  },
  {
   "cell_type": "markdown",
   "id": "5c1391da-b397-4f69-a44f-6fab492de105",
   "metadata": {},
   "source": [
    "# Question 4.2"
   ]
  },
  {
   "cell_type": "code",
   "execution_count": 19,
   "id": "7f4a0b93-3c1f-4fad-8d76-c9d243269d03",
   "metadata": {},
   "outputs": [],
   "source": [
    "iris <- read.table(\"./data 4.2/iris.txt\", header = TRUE)"
   ]
  },
  {
   "cell_type": "code",
   "execution_count": 20,
   "id": "02282769-fd1a-43f1-9a23-373efd7e03d5",
   "metadata": {},
   "outputs": [
    {
     "name": "stderr",
     "output_type": "stream",
     "text": [
      "Registered S3 methods overwritten by 'ggplot2':\n",
      "  method         from \n",
      "  [.quosures     rlang\n",
      "  c.quosures     rlang\n",
      "  print.quosures rlang\n",
      "\n",
      "Attaching package: 'ggplot2'\n",
      "\n",
      "The following object is masked from 'package:kernlab':\n",
      "\n",
      "    alpha\n",
      "\n"
     ]
    },
    {
     "data": {
      "image/png": "[encoded data removed]",
      "text/plain": [
       "plot without title"
      ]
     },
     "metadata": {},
     "output_type": "display_data"
    }
   ],
   "source": [
    "library(ggplot2)\n",
    "ggplot(iris,aes(Petal.Length,Petal.Width,color =Species))+geom_point()"
   ]
  },
  {
   "cell_type": "code",
   "execution_count": 21,
   "id": "d30976e8-6658-4975-a56b-18c754977438",
   "metadata": {},
   "outputs": [],
   "source": [
    "set.seed(1)"
   ]
  },
  {
   "cell_type": "markdown",
   "id": "8861e390-d62e-42a4-8997-460db6908777",
   "metadata": {},
   "source": [
    "#### Pulling Petal length and Petal Width, 3 species, and try 20 different random"
   ]
  },
  {
   "cell_type": "code",
   "execution_count": 22,
   "id": "f7487e3b-b103-4033-bfa7-3bd84706bcd4",
   "metadata": {},
   "outputs": [
    {
     "data": {
      "text/plain": [
       "K-means clustering with 3 clusters of sizes 50, 48, 52\n",
       "\n",
       "Cluster means:\n",
       "  Petal.Length Petal.Width\n",
       "1     1.462000    0.246000\n",
       "2     5.595833    2.037500\n",
       "3     4.269231    1.342308\n",
       "\n",
       "Clustering vector:\n",
       "  1   2   3   4   5   6   7   8   9  10  11  12  13  14  15  16  17  18  19  20 \n",
       "  1   1   1   1   1   1   1   1   1   1   1   1   1   1   1   1   1   1   1   1 \n",
       " 21  22  23  24  25  26  27  28  29  30  31  32  33  34  35  36  37  38  39  40 \n",
       "  1   1   1   1   1   1   1   1   1   1   1   1   1   1   1   1   1   1   1   1 \n",
       " 41  42  43  44  45  46  47  48  49  50  51  52  53  54  55  56  57  58  59  60 \n",
       "  1   1   1   1   1   1   1   1   1   1   3   3   3   3   3   3   3   3   3   3 \n",
       " 61  62  63  64  65  66  67  68  69  70  71  72  73  74  75  76  77  78  79  80 \n",
       "  3   3   3   3   3   3   3   3   3   3   3   3   3   3   3   3   3   2   3   3 \n",
       " 81  82  83  84  85  86  87  88  89  90  91  92  93  94  95  96  97  98  99 100 \n",
       "  3   3   3   2   3   3   3   3   3   3   3   3   3   3   3   3   3   3   3   3 \n",
       "101 102 103 104 105 106 107 108 109 110 111 112 113 114 115 116 117 118 119 120 \n",
       "  2   2   2   2   2   2   3   2   2   2   2   2   2   2   2   2   2   2   2   3 \n",
       "121 122 123 124 125 126 127 128 129 130 131 132 133 134 135 136 137 138 139 140 \n",
       "  2   2   2   2   2   2   3   2   2   2   2   2   2   2   2   2   2   2   3   2 \n",
       "141 142 143 144 145 146 147 148 149 150 \n",
       "  2   2   2   2   2   2   2   2   2   2 \n",
       "\n",
       "Within cluster sum of squares by cluster:\n",
       "[1]  2.02200 16.29167 13.05769\n",
       " (between_SS / total_SS =  94.3 %)\n",
       "\n",
       "Available components:\n",
       "\n",
       "[1] \"cluster\"      \"centers\"      \"totss\"        \"withinss\"     \"tot.withinss\"\n",
       "[6] \"betweenss\"    \"size\"         \"iter\"         \"ifault\"      "
      ]
     },
     "metadata": {},
     "output_type": "display_data"
    }
   ],
   "source": [
    "iris_cluster <- kmeans (iris[, 3: 4], 3, nstart = 20)\n",
    "iris_cluster"
   ]
  },
  {
   "cell_type": "markdown",
   "id": "b585abec-ffd3-4181-ac48-bc4e98f56542",
   "metadata": {},
   "source": [
    "### Best clustering predicts flower type: "
   ]
  },
  {
   "cell_type": "code",
   "execution_count": 23,
   "id": "d88a237d-904a-4d3b-a8ac-81624711ceae",
   "metadata": {},
   "outputs": [
    {
     "data": {
      "text/plain": [
       "   \n",
       "    setosa versicolor virginica\n",
       "  1     50          0         0\n",
       "  2      0          2        46\n",
       "  3      0         48         4"
      ]
     },
     "metadata": {},
     "output_type": "display_data"
    }
   ],
   "source": [
    "table(iris_cluster$cluster, iris$Species)"
   ]
  },
  {
   "cell_type": "code",
   "execution_count": 24,
   "id": "170feab9-8162-462c-9c0e-72d5d5c729ae",
   "metadata": {},
   "outputs": [
    {
     "data": {
      "image/png": "[encoded data removed]",
      "text/plain": [
       "plot without title"
      ]
     },
     "metadata": {},
     "output_type": "display_data"
    }
   ],
   "source": [
    "plot(iris[,3:4],col =iris_cluster$cluster)"
   ]
  },
  {
   "cell_type": "code",
   "execution_count": null,
   "id": "88b9b728-b019-4d2c-8ffd-28a18a6b9a2d",
   "metadata": {},
   "outputs": [],
   "source": []
  },
  {
   "cell_type": "code",
   "execution_count": null,
   "id": "d71e8917-34bf-4569-b129-db9548aca31d",
   "metadata": {},
   "outputs": [],
   "source": []
  },
  {
   "cell_type": "code",
   "execution_count": null,
   "id": "8c592b52-9b3d-41af-b289-b0ad16a10a61",
   "metadata": {},
   "outputs": [],
   "source": []
  }
 ],
 "metadata": {
  "kernelspec": {
   "display_name": "R",
   "language": "R",
   "name": "ir"
  },
  "language_info": {
   "codemirror_mode": "r",
   "file_extension": ".r",
   "mimetype": "text/x-r-source",
   "name": "R",
   "pygments_lexer": "r",
   "version": "3.6.1"
  }
 },
 "nbformat": 4,
 "nbformat_minor": 5
}
