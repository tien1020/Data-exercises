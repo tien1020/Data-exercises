{
 "cells": [
  {
   "cell_type": "code",
   "execution_count": null,
   "id": "12d80b2f-4307-4a14-93a2-787c5af1463c",
   "metadata": {},
   "outputs": [],
   "source": []
  },
  {
   "cell_type": "code",
   "execution_count": 1,
   "id": "47d3f3e1-74c0-4f2c-8c19-f6a17a03451f",
   "metadata": {},
   "outputs": [
    {
     "name": "stderr",
     "output_type": "stream",
     "text": [
      "Warning message:\n",
      "\"dependency 'numbers' is not available\"also installing the dependencies 'rbibutils', 'gmp', 'polynom', 'sets', 'mathjaxr', 'Rdpack', 'conf.design', 'vcd', 'combinat', 'partitions', 'DoE.base', 'sfsmisc', 'scatterplot3d'\n",
      "\n",
      "Warning message:\n",
      "\"unable to access index for repository https://cran.r-project.org/bin/windows/contrib/3.6:\n",
      "  cannot open URL 'https://cran.r-project.org/bin/windows/contrib/3.6/PACKAGES'\"Packages which are only available in source form, and may need\n",
      "  compilation of C/C++/Fortran: 'rbibutils' 'gmp' 'sets' 'mathjaxr'\n",
      "  'partitions'\n"
     ]
    },
    {
     "name": "stdout",
     "output_type": "stream",
     "text": [
      "  These will not be installed\n"
     ]
    },
    {
     "name": "stderr",
     "output_type": "stream",
     "text": [
      "installing the source packages 'polynom', 'Rdpack', 'conf.design', 'vcd', 'combinat', 'DoE.base', 'sfsmisc', 'scatterplot3d', 'FrF2'\n",
      "\n",
      "Warning message in install.packages(\"FrF2\"):\n",
      "\"installation of package 'Rdpack' had non-zero exit status\"Warning message in install.packages(\"FrF2\"):\n",
      "\"installation of package 'DoE.base' had non-zero exit status\"Warning message in install.packages(\"FrF2\"):\n",
      "\"installation of package 'FrF2' had non-zero exit status\""
     ]
    },
    {
     "ename": "ERROR",
     "evalue": "Error in library(FrF2): there is no package called 'FrF2'\n",
     "output_type": "error",
     "traceback": [
      "Error in library(FrF2): there is no package called 'FrF2'\nTraceback:\n",
      "1. library(FrF2)"
     ]
    }
   ],
   "source": [
    "install.packages(\"FrF2\")\n",
    "library(FrF2)\n"
   ]
  },
  {
   "cell_type": "code",
   "execution_count": 10,
   "id": "dda97d9e-d36f-4d93-a88b-964335bc5d33",
   "metadata": {},
   "outputs": [
    {
     "name": "stderr",
     "output_type": "stream",
     "text": [
      "Warning message in install.packages(\"./AlgDesign_1.2.1.tar.gz\", repos = NULL, type = \"source\"):\n",
      "\"installation of package './AlgDesign_1.2.1.tar.gz' had non-zero exit status\""
     ]
    }
   ],
   "source": [
    "install.packages(\"./AlgDesign_1.2.1.tar.gz\", repos = NULL, type = \"source\")\n"
   ]
  },
  {
   "cell_type": "code",
   "execution_count": 2,
   "id": "e35f8792-7e9d-482c-87cb-2d8e417a4505",
   "metadata": {},
   "outputs": [],
   "source": [
    "# Define the number of factors (features)\n",
    "num_factors <- 10"
   ]
  },
  {
   "cell_type": "code",
   "execution_count": 3,
   "id": "d8de9776-e2d8-4f3f-8552-5286dc5db93d",
   "metadata": {},
   "outputs": [],
   "source": [
    "# Define the number of runs (fictitious houses)\n",
    "num_runs <- 16"
   ]
  },
  {
   "cell_type": "code",
   "execution_count": 4,
   "id": "91d7bbc5-d969-412f-967f-849649668236",
   "metadata": {},
   "outputs": [
    {
     "ename": "ERROR",
     "evalue": "Error in FrF2(nruns = num_runs, nfactors = num_factors, randomize = FALSE): could not find function \"FrF2\"\n",
     "output_type": "error",
     "traceback": [
      "Error in FrF2(nruns = num_runs, nfactors = num_factors, randomize = FALSE): could not find function \"FrF2\"\nTraceback:\n"
     ]
    }
   ],
   "source": [
    "# Generate the fractional factorial design\n",
    "design <- FrF2(nruns = num_runs, nfactors = num_factors, randomize = FALSE)"
   ]
  },
  {
   "cell_type": "code",
   "execution_count": 5,
   "id": "30433cf1-be8b-4a6e-af6f-97c8de692db9",
   "metadata": {},
   "outputs": [],
   "source": [
    "house.features <- c(\"LargeYard\",\"SolarRoof\",\"Appliances\",\"TermiteBond\",\"Patio\",\"Garage\",\"Fence\",\"Pool\",\"Fireplace\",\"HardwoodFloors\")"
   ]
  },
  {
   "cell_type": "code",
   "execution_count": 6,
   "id": "1be75c3b-48f2-4a4c-84dd-4f46ac231862",
   "metadata": {},
   "outputs": [
    {
     "ename": "ERROR",
     "evalue": "Error in FrF2(nruns = 16, nfactors = 10, factor.names = house.features): could not find function \"FrF2\"\n",
     "output_type": "error",
     "traceback": [
      "Error in FrF2(nruns = 16, nfactors = 10, factor.names = house.features): could not find function \"FrF2\"\nTraceback:\n"
     ]
    }
   ],
   "source": [
    "ffd1 <- FrF2(nruns = 16, nfactors=10, factor.names=house.features)\n",
    "ffd1"
   ]
  },
  {
   "cell_type": "code",
   "execution_count": null,
   "id": "984c95ec-bc78-44ad-988d-8a8b23621654",
   "metadata": {},
   "outputs": [],
   "source": []
  }
 ],
 "metadata": {
  "kernelspec": {
   "display_name": "Python 3 (ipykernel)",
   "language": "python",
   "name": "python3"
  },
  "language_info": {
   "codemirror_mode": {
    "name": "ipython",
    "version": 3
   },
   "file_extension": ".py",
   "mimetype": "text/x-python",
   "name": "python",
   "nbconvert_exporter": "python",
   "pygments_lexer": "ipython3",
   "version": "3.12.2"
  }
 },
 "nbformat": 4,
 "nbformat_minor": 5
}
