{
 "cells": [
  {
   "cell_type": "markdown",
   "id": "0123bd66-1b1d-485f-83c4-3e2bc81b25ee",
   "metadata": {},
   "source": [
    "# Question 5.1"
   ]
  },
  {
   "cell_type": "code",
   "execution_count": 1,
   "id": "acdbd6be-9738-4dc7-9597-cb726fb50cbc",
   "metadata": {},
   "outputs": [
    {
     "name": "stdout",
     "output_type": "stream",
     "text": [
      "\n",
      "  There is a binary version available but the source version is later:\n",
      "         binary source needs_compilation\n",
      "outliers   0.14   0.15             FALSE\n",
      "\n"
     ]
    },
    {
     "name": "stderr",
     "output_type": "stream",
     "text": [
      "installing the source package 'outliers'\n",
      "\n"
     ]
    }
   ],
   "source": [
    "install.packages(\"outliers\")\n",
    "library(outliers)"
   ]
  },
  {
   "cell_type": "code",
   "execution_count": 2,
   "id": "1f04be60-8d8d-4398-86ff-95dbd898597e",
   "metadata": {},
   "outputs": [],
   "source": [
    "crime_data <- read.table(\"./data 5.1/uscrime.txt\", header = TRUE)"
   ]
  },
  {
   "cell_type": "code",
   "execution_count": 3,
   "id": "2ea3b03b-2a38-4e3c-9df1-8dbb817f9c95",
   "metadata": {},
   "outputs": [
    {
     "data": {
      "text/html": [
       "<table>\n",
       "<thead><tr><th scope=col>M</th><th scope=col>So</th><th scope=col>Ed</th><th scope=col>Po1</th><th scope=col>Po2</th><th scope=col>LF</th><th scope=col>M.F</th><th scope=col>Pop</th><th scope=col>NW</th><th scope=col>U1</th><th scope=col>U2</th><th scope=col>Wealth</th><th scope=col>Ineq</th><th scope=col>Prob</th><th scope=col>Time</th><th scope=col>Crime</th></tr></thead>\n",
       "<tbody>\n",
       "\t<tr><td>15.1    </td><td>1       </td><td> 9.1    </td><td> 5.8    </td><td> 5.6    </td><td>0.510   </td><td> 95.0   </td><td> 33     </td><td>30.1    </td><td>0.108   </td><td>4.1     </td><td>3940    </td><td>26.1    </td><td>0.084602</td><td>26.2011 </td><td> 791    </td></tr>\n",
       "\t<tr><td>14.3    </td><td>0       </td><td>11.3    </td><td>10.3    </td><td> 9.5    </td><td>0.583   </td><td>101.2   </td><td> 13     </td><td>10.2    </td><td>0.096   </td><td>3.6     </td><td>5570    </td><td>19.4    </td><td>0.029599</td><td>25.2999 </td><td>1635    </td></tr>\n",
       "\t<tr><td>14.2    </td><td>1       </td><td> 8.9    </td><td> 4.5    </td><td> 4.4    </td><td>0.533   </td><td> 96.9   </td><td> 18     </td><td>21.9    </td><td>0.094   </td><td>3.3     </td><td>3180    </td><td>25.0    </td><td>0.083401</td><td>24.3006 </td><td> 578    </td></tr>\n",
       "\t<tr><td>13.6    </td><td>0       </td><td>12.1    </td><td>14.9    </td><td>14.1    </td><td>0.577   </td><td> 99.4   </td><td>157     </td><td> 8.0    </td><td>0.102   </td><td>3.9     </td><td>6730    </td><td>16.7    </td><td>0.015801</td><td>29.9012 </td><td>1969    </td></tr>\n",
       "\t<tr><td>14.1    </td><td>0       </td><td>12.1    </td><td>10.9    </td><td>10.1    </td><td>0.591   </td><td> 98.5   </td><td> 18     </td><td> 3.0    </td><td>0.091   </td><td>2.0     </td><td>5780    </td><td>17.4    </td><td>0.041399</td><td>21.2998 </td><td>1234    </td></tr>\n",
       "\t<tr><td>12.1    </td><td>0       </td><td>11.0    </td><td>11.8    </td><td>11.5    </td><td>0.547   </td><td> 96.4   </td><td> 25     </td><td> 4.4    </td><td>0.084   </td><td>2.9     </td><td>6890    </td><td>12.6    </td><td>0.034201</td><td>20.9995 </td><td> 682    </td></tr>\n",
       "</tbody>\n",
       "</table>\n"
      ],
      "text/latex": [
       "\\begin{tabular}{r|llllllllllllllll}\n",
       " M & So & Ed & Po1 & Po2 & LF & M.F & Pop & NW & U1 & U2 & Wealth & Ineq & Prob & Time & Crime\\\\\n",
       "\\hline\n",
       "\t 15.1     & 1        &  9.1     &  5.8     &  5.6     & 0.510    &  95.0    &  33      & 30.1     & 0.108    & 4.1      & 3940     & 26.1     & 0.084602 & 26.2011  &  791    \\\\\n",
       "\t 14.3     & 0        & 11.3     & 10.3     &  9.5     & 0.583    & 101.2    &  13      & 10.2     & 0.096    & 3.6      & 5570     & 19.4     & 0.029599 & 25.2999  & 1635    \\\\\n",
       "\t 14.2     & 1        &  8.9     &  4.5     &  4.4     & 0.533    &  96.9    &  18      & 21.9     & 0.094    & 3.3      & 3180     & 25.0     & 0.083401 & 24.3006  &  578    \\\\\n",
       "\t 13.6     & 0        & 12.1     & 14.9     & 14.1     & 0.577    &  99.4    & 157      &  8.0     & 0.102    & 3.9      & 6730     & 16.7     & 0.015801 & 29.9012  & 1969    \\\\\n",
       "\t 14.1     & 0        & 12.1     & 10.9     & 10.1     & 0.591    &  98.5    &  18      &  3.0     & 0.091    & 2.0      & 5780     & 17.4     & 0.041399 & 21.2998  & 1234    \\\\\n",
       "\t 12.1     & 0        & 11.0     & 11.8     & 11.5     & 0.547    &  96.4    &  25      &  4.4     & 0.084    & 2.9      & 6890     & 12.6     & 0.034201 & 20.9995  &  682    \\\\\n",
       "\\end{tabular}\n"
      ],
      "text/markdown": [
       "\n",
       "| M | So | Ed | Po1 | Po2 | LF | M.F | Pop | NW | U1 | U2 | Wealth | Ineq | Prob | Time | Crime |\n",
       "|---|---|---|---|---|---|---|---|---|---|---|---|---|---|---|---|\n",
       "| 15.1     | 1        |  9.1     |  5.8     |  5.6     | 0.510    |  95.0    |  33      | 30.1     | 0.108    | 4.1      | 3940     | 26.1     | 0.084602 | 26.2011  |  791     |\n",
       "| 14.3     | 0        | 11.3     | 10.3     |  9.5     | 0.583    | 101.2    |  13      | 10.2     | 0.096    | 3.6      | 5570     | 19.4     | 0.029599 | 25.2999  | 1635     |\n",
       "| 14.2     | 1        |  8.9     |  4.5     |  4.4     | 0.533    |  96.9    |  18      | 21.9     | 0.094    | 3.3      | 3180     | 25.0     | 0.083401 | 24.3006  |  578     |\n",
       "| 13.6     | 0        | 12.1     | 14.9     | 14.1     | 0.577    |  99.4    | 157      |  8.0     | 0.102    | 3.9      | 6730     | 16.7     | 0.015801 | 29.9012  | 1969     |\n",
       "| 14.1     | 0        | 12.1     | 10.9     | 10.1     | 0.591    |  98.5    |  18      |  3.0     | 0.091    | 2.0      | 5780     | 17.4     | 0.041399 | 21.2998  | 1234     |\n",
       "| 12.1     | 0        | 11.0     | 11.8     | 11.5     | 0.547    |  96.4    |  25      |  4.4     | 0.084    | 2.9      | 6890     | 12.6     | 0.034201 | 20.9995  |  682     |\n",
       "\n"
      ],
      "text/plain": [
       "  M    So Ed   Po1  Po2  LF    M.F   Pop NW   U1    U2  Wealth Ineq Prob    \n",
       "1 15.1 1   9.1  5.8  5.6 0.510  95.0  33 30.1 0.108 4.1 3940   26.1 0.084602\n",
       "2 14.3 0  11.3 10.3  9.5 0.583 101.2  13 10.2 0.096 3.6 5570   19.4 0.029599\n",
       "3 14.2 1   8.9  4.5  4.4 0.533  96.9  18 21.9 0.094 3.3 3180   25.0 0.083401\n",
       "4 13.6 0  12.1 14.9 14.1 0.577  99.4 157  8.0 0.102 3.9 6730   16.7 0.015801\n",
       "5 14.1 0  12.1 10.9 10.1 0.591  98.5  18  3.0 0.091 2.0 5780   17.4 0.041399\n",
       "6 12.1 0  11.0 11.8 11.5 0.547  96.4  25  4.4 0.084 2.9 6890   12.6 0.034201\n",
       "  Time    Crime\n",
       "1 26.2011  791 \n",
       "2 25.2999 1635 \n",
       "3 24.3006  578 \n",
       "4 29.9012 1969 \n",
       "5 21.2998 1234 \n",
       "6 20.9995  682 "
      ]
     },
     "metadata": {},
     "output_type": "display_data"
    }
   ],
   "source": [
    "head(crime_data)"
   ]
  },
  {
   "cell_type": "code",
   "execution_count": 4,
   "id": "7bc99c75-a145-48d7-bc2f-adf5e9c66223",
   "metadata": {},
   "outputs": [],
   "source": [
    "crime_column <- crime_data$Crime"
   ]
  },
  {
   "cell_type": "markdown",
   "id": "0fba93d0-6815-418e-893e-f36d7fcce2c8",
   "metadata": {},
   "source": [
    "### Grubbs Test"
   ]
  },
  {
   "cell_type": "code",
   "execution_count": 5,
   "id": "a3875c6c-ba4d-41e1-b7fe-72823c50e0de",
   "metadata": {},
   "outputs": [
    {
     "data": {
      "text/plain": [
       "\n",
       "\tGrubbs test for one outlier\n",
       "\n",
       "data:  crime_column\n",
       "G = 2.81287, U = 0.82426, p-value = 0.07887\n",
       "alternative hypothesis: highest value 1993 is an outlier\n"
      ]
     },
     "metadata": {},
     "output_type": "display_data"
    }
   ],
   "source": [
    "grubbs_result <- grubbs.test(crime_column)\n",
    "grubbs_result"
   ]
  },
  {
   "cell_type": "markdown",
   "id": "b168a0ab-9f0c-440a-bcaf-8c5b8df4fbee",
   "metadata": {},
   "source": [
    "### Highest value 1993 is an outlier\n"
   ]
  },
  {
   "cell_type": "code",
   "execution_count": 6,
   "id": "44752301-a9e9-4522-971c-981172ce9f86",
   "metadata": {},
   "outputs": [
    {
     "data": {
      "image/png": "[encoded data removed]",
      "text/plain": [
       "plot without title"
      ]
     },
     "metadata": {},
     "output_type": "display_data"
    }
   ],
   "source": [
    "plot(crime_column)"
   ]
  },
  {
   "cell_type": "markdown",
   "id": "5893ef61-92f3-4f3e-8934-2457fbbbef33",
   "metadata": {},
   "source": [
    "# Question 6.1"
   ]
  },
  {
   "cell_type": "markdown",
   "id": "1a980e4f-65c3-418d-b130-f74a4a1e7e34",
   "metadata": {},
   "source": [
    "#### I am working as a data analyst for a company that provides services to chronically homeless people, my task is to analyze personal information and how people access and benefit from the services provided. The number of people housed every month is not the same. \n",
    "#### - Critical Value: Services or programs they were provided, weather.\n",
    "#### - Threshold: We can identify which services or programs have higher rates to refer clients to that program first. And pay more attention or hire more employees when extreme weather coming. \n"
   ]
  },
  {
   "cell_type": "markdown",
   "id": "51f09b9d-0343-4a5c-98d5-47a93a7f0d5a",
   "metadata": {},
   "source": [
    "# Question 6.2"
   ]
  },
  {
   "cell_type": "markdown",
   "id": "5aec59b7-ff8c-4ab7-ae86-03f8e479c8e1",
   "metadata": {},
   "source": [
    "#### I calculated the average temperature across all days, then calculated the average temperature across all years.\n",
    "#### After trial and error, I found T = 85 and C = 4"
   ]
  },
  {
   "cell_type": "code",
   "execution_count": null,
   "id": "34c6a3f4-1bc2-4705-bbdc-18b082fb63c3",
   "metadata": {},
   "outputs": [],
   "source": []
  },
  {
   "cell_type": "code",
   "execution_count": 31,
   "id": "59f2a670-1d5e-4622-b992-f3d0605909d6",
   "metadata": {},
   "outputs": [],
   "source": [
    "temps_data <- read.table(\"./data 6.2/temps.txt\", header = TRUE, row.name = 1)"
   ]
  },
  {
   "cell_type": "code",
   "execution_count": 32,
   "id": "10e9f0d7-835e-4f73-96cd-cfdd13b760bd",
   "metadata": {},
   "outputs": [
    {
     "data": {
      "text/html": [
       "<table>\n",
       "<thead><tr><th></th><th scope=col>X1996</th><th scope=col>X1997</th><th scope=col>X1998</th><th scope=col>X1999</th><th scope=col>X2000</th><th scope=col>X2001</th><th scope=col>X2002</th><th scope=col>X2003</th><th scope=col>X2004</th><th scope=col>X2005</th><th scope=col>X2006</th><th scope=col>X2007</th><th scope=col>X2008</th><th scope=col>X2009</th><th scope=col>X2010</th><th scope=col>X2011</th><th scope=col>X2012</th><th scope=col>X2013</th><th scope=col>X2014</th><th scope=col>X2015</th></tr></thead>\n",
       "<tbody>\n",
       "\t<tr><th scope=row>1-Jul</th><td>98 </td><td>86 </td><td>91 </td><td>84 </td><td>89 </td><td>84 </td><td>90 </td><td>73 </td><td>82 </td><td>91 </td><td>93 </td><td>95 </td><td>85 </td><td>95 </td><td>87 </td><td>92 </td><td>105</td><td>82 </td><td>90 </td><td>85 </td></tr>\n",
       "\t<tr><th scope=row>2-Jul</th><td>97 </td><td>90 </td><td>88 </td><td>82 </td><td>91 </td><td>87 </td><td>90 </td><td>81 </td><td>81 </td><td>89 </td><td>93 </td><td>85 </td><td>87 </td><td>90 </td><td>84 </td><td>94 </td><td> 93</td><td>85 </td><td>93 </td><td>87 </td></tr>\n",
       "\t<tr><th scope=row>3-Jul</th><td>97 </td><td>93 </td><td>91 </td><td>87 </td><td>93 </td><td>87 </td><td>87 </td><td>87 </td><td>86 </td><td>86 </td><td>93 </td><td>82 </td><td>91 </td><td>89 </td><td>83 </td><td>95 </td><td> 99</td><td>76 </td><td>87 </td><td>79 </td></tr>\n",
       "\t<tr><th scope=row>4-Jul</th><td>90 </td><td>91 </td><td>91 </td><td>88 </td><td>95 </td><td>84 </td><td>89 </td><td>86 </td><td>88 </td><td>86 </td><td>91 </td><td>86 </td><td>90 </td><td>91 </td><td>85 </td><td>92 </td><td> 98</td><td>77 </td><td>84 </td><td>85 </td></tr>\n",
       "\t<tr><th scope=row>5-Jul</th><td>89 </td><td>84 </td><td>91 </td><td>90 </td><td>96 </td><td>86 </td><td>93 </td><td>80 </td><td>90 </td><td>89 </td><td>90 </td><td>88 </td><td>88 </td><td>80 </td><td>88 </td><td>90 </td><td>100</td><td>83 </td><td>86 </td><td>84 </td></tr>\n",
       "\t<tr><th scope=row>6-Jul</th><td>93 </td><td>84 </td><td>89 </td><td>91 </td><td>96 </td><td>87 </td><td>93 </td><td>84 </td><td>90 </td><td>82 </td><td>81 </td><td>87 </td><td>82 </td><td>87 </td><td>89 </td><td>90 </td><td> 98</td><td>83 </td><td>87 </td><td>84 </td></tr>\n",
       "</tbody>\n",
       "</table>\n"
      ],
      "text/latex": [
       "\\begin{tabular}{r|llllllllllllllllllll}\n",
       "  & X1996 & X1997 & X1998 & X1999 & X2000 & X2001 & X2002 & X2003 & X2004 & X2005 & X2006 & X2007 & X2008 & X2009 & X2010 & X2011 & X2012 & X2013 & X2014 & X2015\\\\\n",
       "\\hline\n",
       "\t1-Jul & 98  & 86  & 91  & 84  & 89  & 84  & 90  & 73  & 82  & 91  & 93  & 95  & 85  & 95  & 87  & 92  & 105 & 82  & 90  & 85 \\\\\n",
       "\t2-Jul & 97  & 90  & 88  & 82  & 91  & 87  & 90  & 81  & 81  & 89  & 93  & 85  & 87  & 90  & 84  & 94  &  93 & 85  & 93  & 87 \\\\\n",
       "\t3-Jul & 97  & 93  & 91  & 87  & 93  & 87  & 87  & 87  & 86  & 86  & 93  & 82  & 91  & 89  & 83  & 95  &  99 & 76  & 87  & 79 \\\\\n",
       "\t4-Jul & 90  & 91  & 91  & 88  & 95  & 84  & 89  & 86  & 88  & 86  & 91  & 86  & 90  & 91  & 85  & 92  &  98 & 77  & 84  & 85 \\\\\n",
       "\t5-Jul & 89  & 84  & 91  & 90  & 96  & 86  & 93  & 80  & 90  & 89  & 90  & 88  & 88  & 80  & 88  & 90  & 100 & 83  & 86  & 84 \\\\\n",
       "\t6-Jul & 93  & 84  & 89  & 91  & 96  & 87  & 93  & 84  & 90  & 82  & 81  & 87  & 82  & 87  & 89  & 90  &  98 & 83  & 87  & 84 \\\\\n",
       "\\end{tabular}\n"
      ],
      "text/markdown": [
       "\n",
       "| <!--/--> | X1996 | X1997 | X1998 | X1999 | X2000 | X2001 | X2002 | X2003 | X2004 | X2005 | X2006 | X2007 | X2008 | X2009 | X2010 | X2011 | X2012 | X2013 | X2014 | X2015 |\n",
       "|---|---|---|---|---|---|---|---|---|---|---|---|---|---|---|---|---|---|---|---|---|\n",
       "| 1-Jul | 98  | 86  | 91  | 84  | 89  | 84  | 90  | 73  | 82  | 91  | 93  | 95  | 85  | 95  | 87  | 92  | 105 | 82  | 90  | 85  |\n",
       "| 2-Jul | 97  | 90  | 88  | 82  | 91  | 87  | 90  | 81  | 81  | 89  | 93  | 85  | 87  | 90  | 84  | 94  |  93 | 85  | 93  | 87  |\n",
       "| 3-Jul | 97  | 93  | 91  | 87  | 93  | 87  | 87  | 87  | 86  | 86  | 93  | 82  | 91  | 89  | 83  | 95  |  99 | 76  | 87  | 79  |\n",
       "| 4-Jul | 90  | 91  | 91  | 88  | 95  | 84  | 89  | 86  | 88  | 86  | 91  | 86  | 90  | 91  | 85  | 92  |  98 | 77  | 84  | 85  |\n",
       "| 5-Jul | 89  | 84  | 91  | 90  | 96  | 86  | 93  | 80  | 90  | 89  | 90  | 88  | 88  | 80  | 88  | 90  | 100 | 83  | 86  | 84  |\n",
       "| 6-Jul | 93  | 84  | 89  | 91  | 96  | 87  | 93  | 84  | 90  | 82  | 81  | 87  | 82  | 87  | 89  | 90  |  98 | 83  | 87  | 84  |\n",
       "\n"
      ],
      "text/plain": [
       "      X1996 X1997 X1998 X1999 X2000 X2001 X2002 X2003 X2004 X2005 X2006 X2007\n",
       "1-Jul 98    86    91    84    89    84    90    73    82    91    93    95   \n",
       "2-Jul 97    90    88    82    91    87    90    81    81    89    93    85   \n",
       "3-Jul 97    93    91    87    93    87    87    87    86    86    93    82   \n",
       "4-Jul 90    91    91    88    95    84    89    86    88    86    91    86   \n",
       "5-Jul 89    84    91    90    96    86    93    80    90    89    90    88   \n",
       "6-Jul 93    84    89    91    96    87    93    84    90    82    81    87   \n",
       "      X2008 X2009 X2010 X2011 X2012 X2013 X2014 X2015\n",
       "1-Jul 85    95    87    92    105   82    90    85   \n",
       "2-Jul 87    90    84    94     93   85    93    87   \n",
       "3-Jul 91    89    83    95     99   76    87    79   \n",
       "4-Jul 90    91    85    92     98   77    84    85   \n",
       "5-Jul 88    80    88    90    100   83    86    84   \n",
       "6-Jul 82    87    89    90     98   83    87    84   "
      ]
     },
     "metadata": {},
     "output_type": "display_data"
    }
   ],
   "source": [
    "head(temps_data)"
   ]
  },
  {
   "cell_type": "markdown",
   "id": "6592af6d-f209-436d-9e73-84c8870f720c",
   "metadata": {},
   "source": [
    "#### Average temperature for each day across the years"
   ]
  },
  {
   "cell_type": "code",
   "execution_count": 33,
   "id": "4401b164-fd27-4ddd-bde8-9b572cbcf3ed",
   "metadata": {},
   "outputs": [],
   "source": [
    "avg_temps <- rowMeans(temps_data[, -1]) "
   ]
  },
  {
   "cell_type": "markdown",
   "id": "407e26a8-70f5-4a4d-a7d1-2d12e8537f19",
   "metadata": {},
   "source": [
    "#### The average temperature of all times."
   ]
  },
  {
   "cell_type": "code",
   "execution_count": 34,
   "id": "0ca4a588-976e-4a54-a747-2c6be5fccfb1",
   "metadata": {},
   "outputs": [
    {
     "data": {
      "text/html": [
       "83.3192126658109"
      ],
      "text/latex": [
       "83.3192126658109"
      ],
      "text/markdown": [
       "83.3192126658109"
      ],
      "text/plain": [
       "[1] 83.31921"
      ]
     },
     "metadata": {},
     "output_type": "display_data"
    }
   ],
   "source": [
    "mean <- mean(avg_temps)\n",
    "mean"
   ]
  },
  {
   "cell_type": "markdown",
   "id": "56f51769-2b17-4295-bffc-207a5b9f921b",
   "metadata": {},
   "source": [
    "#### Differences form Mean"
   ]
  },
  {
   "cell_type": "code",
   "execution_count": 35,
   "id": "9155e2b4-482e-4101-a43b-fe856295ed00",
   "metadata": {},
   "outputs": [],
   "source": [
    "different <- avg_temps - mean"
   ]
  },
  {
   "cell_type": "markdown",
   "id": "04636e5f-5b70-4892-91ba-f7d918229687",
   "metadata": {},
   "source": [
    "#### Set C = 3"
   ]
  },
  {
   "cell_type": "code",
   "execution_count": 72,
   "id": "a8518134-dd54-46ed-bc91-37d86cabc5ef",
   "metadata": {},
   "outputs": [],
   "source": [
    "C <- 3"
   ]
  },
  {
   "cell_type": "markdown",
   "id": "1971d0dc-bdee-403e-b7d8-051bef2f3233",
   "metadata": {},
   "source": [
    "#### Adjust differences by subtracting C"
   ]
  },
  {
   "cell_type": "code",
   "execution_count": 73,
   "id": "9baed8ed-3208-4654-9cfc-835ebca82a1d",
   "metadata": {},
   "outputs": [],
   "source": [
    "diff_C <- different - C"
   ]
  },
  {
   "cell_type": "markdown",
   "id": "2195babe-2b5e-449c-a444-ae764b80c496",
   "metadata": {},
   "source": [
    "#### Initialize Empty Vectors for Cumulative Sum"
   ]
  },
  {
   "cell_type": "code",
   "execution_count": 74,
   "id": "cf584343-cd31-4895-943a-567ad0a8a20b",
   "metadata": {},
   "outputs": [],
   "source": [
    "precusum <- 0 * diff_C"
   ]
  },
  {
   "cell_type": "code",
   "execution_count": 75,
   "id": "97fc13e1-1b59-427b-8000-3f83116f5966",
   "metadata": {},
   "outputs": [],
   "source": [
    "cusum <- append(precusum, 0)\n",
    "# cusum"
   ]
  },
  {
   "cell_type": "markdown",
   "id": "37ef9afa-9cbb-44b2-977d-e7087e63943f",
   "metadata": {},
   "source": [
    "#### Cumulative sum "
   ]
  },
  {
   "cell_type": "code",
   "execution_count": 76,
   "id": "87d05010-d974-4842-afb4-84894ed464b4",
   "metadata": {},
   "outputs": [],
   "source": [
    "for (i in 1:length(diff_C)) \n",
    "     {\n",
    "  checker <- cusum[i] + diff_C[i]\n",
    "  \n",
    "  ifelse(checker > 0, cusum[i+1] <- checker, cusum[i+1] <- 0) \n",
    "}"
   ]
  },
  {
   "cell_type": "code",
   "execution_count": 66,
   "id": "f2722469-e633-45fb-9644-6fed7f589719",
   "metadata": {},
   "outputs": [
    {
     "data": {
      "image/png": "[encoded data removed]",
      "text/plain": [
       "plot without title"
      ]
     },
     "metadata": {},
     "output_type": "display_data"
    }
   ],
   "source": [
    "plot(cusum)\n"
   ]
  },
  {
   "cell_type": "code",
   "execution_count": 67,
   "id": "4a8006eb-9961-44c3-87da-c0e963fdb6b3",
   "metadata": {},
   "outputs": [],
   "source": [
    "#### Identify Points Where CUSUM Exceeds Threshold: Pick T = 85"
   ]
  },
  {
   "cell_type": "code",
   "execution_count": 78,
   "id": "f7604716-1e7c-4371-b52f-ed5e1f779038",
   "metadata": {},
   "outputs": [
    {
     "data": {
      "text/html": [
       "<dl class=dl-horizontal>\n",
       "\t<dt>6-Aug</dt>\n",
       "\t\t<dd>37</dd>\n",
       "\t<dt>7-Aug</dt>\n",
       "\t\t<dd>38</dd>\n",
       "\t<dt>8-Aug</dt>\n",
       "\t\t<dd>39</dd>\n",
       "\t<dt>9-Aug</dt>\n",
       "\t\t<dd>40</dd>\n",
       "\t<dt>10-Aug</dt>\n",
       "\t\t<dd>41</dd>\n",
       "\t<dt>11-Aug</dt>\n",
       "\t\t<dd>42</dd>\n",
       "\t<dt>12-Aug</dt>\n",
       "\t\t<dd>43</dd>\n",
       "\t<dt>13-Aug</dt>\n",
       "\t\t<dd>44</dd>\n",
       "\t<dt>14-Aug</dt>\n",
       "\t\t<dd>45</dd>\n",
       "\t<dt>15-Aug</dt>\n",
       "\t\t<dd>46</dd>\n",
       "\t<dt>16-Aug</dt>\n",
       "\t\t<dd>47</dd>\n",
       "\t<dt>17-Aug</dt>\n",
       "\t\t<dd>48</dd>\n",
       "\t<dt>18-Aug</dt>\n",
       "\t\t<dd>49</dd>\n",
       "\t<dt>19-Aug</dt>\n",
       "\t\t<dd>50</dd>\n",
       "\t<dt>20-Aug</dt>\n",
       "\t\t<dd>51</dd>\n",
       "\t<dt>21-Aug</dt>\n",
       "\t\t<dd>52</dd>\n",
       "\t<dt>22-Aug</dt>\n",
       "\t\t<dd>53</dd>\n",
       "\t<dt>23-Aug</dt>\n",
       "\t\t<dd>54</dd>\n",
       "\t<dt>24-Aug</dt>\n",
       "\t\t<dd>55</dd>\n",
       "\t<dt>25-Aug</dt>\n",
       "\t\t<dd>56</dd>\n",
       "\t<dt>26-Aug</dt>\n",
       "\t\t<dd>57</dd>\n",
       "\t<dt>27-Aug</dt>\n",
       "\t\t<dd>58</dd>\n",
       "\t<dt>28-Aug</dt>\n",
       "\t\t<dd>59</dd>\n",
       "\t<dt>29-Aug</dt>\n",
       "\t\t<dd>60</dd>\n",
       "\t<dt>30-Aug</dt>\n",
       "\t\t<dd>61</dd>\n",
       "\t<dt>31-Aug</dt>\n",
       "\t\t<dd>62</dd>\n",
       "\t<dt>1-Sep</dt>\n",
       "\t\t<dd>63</dd>\n",
       "\t<dt>2-Sep</dt>\n",
       "\t\t<dd>64</dd>\n",
       "\t<dt>3-Sep</dt>\n",
       "\t\t<dd>65</dd>\n",
       "\t<dt>4-Sep</dt>\n",
       "\t\t<dd>66</dd>\n",
       "\t<dt>5-Sep</dt>\n",
       "\t\t<dd>67</dd>\n",
       "\t<dt>6-Sep</dt>\n",
       "\t\t<dd>68</dd>\n",
       "\t<dt>7-Sep</dt>\n",
       "\t\t<dd>69</dd>\n",
       "\t<dt>8-Sep</dt>\n",
       "\t\t<dd>70</dd>\n",
       "\t<dt>9-Sep</dt>\n",
       "\t\t<dd>71</dd>\n",
       "\t<dt>10-Sep</dt>\n",
       "\t\t<dd>72</dd>\n",
       "\t<dt>11-Sep</dt>\n",
       "\t\t<dd>73</dd>\n",
       "\t<dt>12-Sep</dt>\n",
       "\t\t<dd>74</dd>\n",
       "\t<dt>13-Sep</dt>\n",
       "\t\t<dd>75</dd>\n",
       "\t<dt>14-Sep</dt>\n",
       "\t\t<dd>76</dd>\n",
       "\t<dt>15-Sep</dt>\n",
       "\t\t<dd>77</dd>\n",
       "\t<dt>16-Sep</dt>\n",
       "\t\t<dd>78</dd>\n",
       "\t<dt>17-Sep</dt>\n",
       "\t\t<dd>79</dd>\n",
       "\t<dt>18-Sep</dt>\n",
       "\t\t<dd>80</dd>\n",
       "\t<dt>19-Sep</dt>\n",
       "\t\t<dd>81</dd>\n",
       "\t<dt>20-Sep</dt>\n",
       "\t\t<dd>82</dd>\n",
       "\t<dt>21-Sep</dt>\n",
       "\t\t<dd>83</dd>\n",
       "\t<dt>22-Sep</dt>\n",
       "\t\t<dd>84</dd>\n",
       "\t<dt>23-Sep</dt>\n",
       "\t\t<dd>85</dd>\n",
       "\t<dt>24-Sep</dt>\n",
       "\t\t<dd>86</dd>\n",
       "</dl>\n"
      ],
      "text/latex": [
       "\\begin{description*}\n",
       "\\item[6-Aug] 37\n",
       "\\item[7-Aug] 38\n",
       "\\item[8-Aug] 39\n",
       "\\item[9-Aug] 40\n",
       "\\item[10-Aug] 41\n",
       "\\item[11-Aug] 42\n",
       "\\item[12-Aug] 43\n",
       "\\item[13-Aug] 44\n",
       "\\item[14-Aug] 45\n",
       "\\item[15-Aug] 46\n",
       "\\item[16-Aug] 47\n",
       "\\item[17-Aug] 48\n",
       "\\item[18-Aug] 49\n",
       "\\item[19-Aug] 50\n",
       "\\item[20-Aug] 51\n",
       "\\item[21-Aug] 52\n",
       "\\item[22-Aug] 53\n",
       "\\item[23-Aug] 54\n",
       "\\item[24-Aug] 55\n",
       "\\item[25-Aug] 56\n",
       "\\item[26-Aug] 57\n",
       "\\item[27-Aug] 58\n",
       "\\item[28-Aug] 59\n",
       "\\item[29-Aug] 60\n",
       "\\item[30-Aug] 61\n",
       "\\item[31-Aug] 62\n",
       "\\item[1-Sep] 63\n",
       "\\item[2-Sep] 64\n",
       "\\item[3-Sep] 65\n",
       "\\item[4-Sep] 66\n",
       "\\item[5-Sep] 67\n",
       "\\item[6-Sep] 68\n",
       "\\item[7-Sep] 69\n",
       "\\item[8-Sep] 70\n",
       "\\item[9-Sep] 71\n",
       "\\item[10-Sep] 72\n",
       "\\item[11-Sep] 73\n",
       "\\item[12-Sep] 74\n",
       "\\item[13-Sep] 75\n",
       "\\item[14-Sep] 76\n",
       "\\item[15-Sep] 77\n",
       "\\item[16-Sep] 78\n",
       "\\item[17-Sep] 79\n",
       "\\item[18-Sep] 80\n",
       "\\item[19-Sep] 81\n",
       "\\item[20-Sep] 82\n",
       "\\item[21-Sep] 83\n",
       "\\item[22-Sep] 84\n",
       "\\item[23-Sep] 85\n",
       "\\item[24-Sep] 86\n",
       "\\end{description*}\n"
      ],
      "text/markdown": [
       "6-Aug\n",
       ":   377-Aug\n",
       ":   388-Aug\n",
       ":   399-Aug\n",
       ":   4010-Aug\n",
       ":   4111-Aug\n",
       ":   4212-Aug\n",
       ":   4313-Aug\n",
       ":   4414-Aug\n",
       ":   4515-Aug\n",
       ":   4616-Aug\n",
       ":   4717-Aug\n",
       ":   4818-Aug\n",
       ":   4919-Aug\n",
       ":   5020-Aug\n",
       ":   5121-Aug\n",
       ":   5222-Aug\n",
       ":   5323-Aug\n",
       ":   5424-Aug\n",
       ":   5525-Aug\n",
       ":   5626-Aug\n",
       ":   5727-Aug\n",
       ":   5828-Aug\n",
       ":   5929-Aug\n",
       ":   6030-Aug\n",
       ":   6131-Aug\n",
       ":   621-Sep\n",
       ":   632-Sep\n",
       ":   643-Sep\n",
       ":   654-Sep\n",
       ":   665-Sep\n",
       ":   676-Sep\n",
       ":   687-Sep\n",
       ":   698-Sep\n",
       ":   709-Sep\n",
       ":   7110-Sep\n",
       ":   7211-Sep\n",
       ":   7312-Sep\n",
       ":   7413-Sep\n",
       ":   7514-Sep\n",
       ":   7615-Sep\n",
       ":   7716-Sep\n",
       ":   7817-Sep\n",
       ":   7918-Sep\n",
       ":   8019-Sep\n",
       ":   8120-Sep\n",
       ":   8221-Sep\n",
       ":   8322-Sep\n",
       ":   8423-Sep\n",
       ":   8524-Sep\n",
       ":   86\n",
       "\n"
      ],
      "text/plain": [
       " 6-Aug  7-Aug  8-Aug  9-Aug 10-Aug 11-Aug 12-Aug 13-Aug 14-Aug 15-Aug 16-Aug \n",
       "    37     38     39     40     41     42     43     44     45     46     47 \n",
       "17-Aug 18-Aug 19-Aug 20-Aug 21-Aug 22-Aug 23-Aug 24-Aug 25-Aug 26-Aug 27-Aug \n",
       "    48     49     50     51     52     53     54     55     56     57     58 \n",
       "28-Aug 29-Aug 30-Aug 31-Aug  1-Sep  2-Sep  3-Sep  4-Sep  5-Sep  6-Sep  7-Sep \n",
       "    59     60     61     62     63     64     65     66     67     68     69 \n",
       " 8-Sep  9-Sep 10-Sep 11-Sep 12-Sep 13-Sep 14-Sep 15-Sep 16-Sep 17-Sep 18-Sep \n",
       "    70     71     72     73     74     75     76     77     78     79     80 \n",
       "19-Sep 20-Sep 21-Sep 22-Sep 23-Sep 24-Sep \n",
       "    81     82     83     84     85     86 "
      ]
     },
     "metadata": {},
     "output_type": "display_data"
    }
   ],
   "source": [
    "which(cusum >= 85)"
   ]
  },
  {
   "cell_type": "markdown",
   "id": "9b874d89-d8aa-4a34-8688-f606b0b1c0d9",
   "metadata": {},
   "source": [
    "#### Days between July 1st to September 24th have highest average temperature. We found temperature started dropping after September 24th. So September 24th is when unofficial summer ends."
   ]
  },
  {
   "cell_type": "code",
   "execution_count": null,
   "id": "b1711257-aa45-45f7-9f3a-a1234b5691e2",
   "metadata": {},
   "outputs": [],
   "source": []
  }
 ],
 "metadata": {
  "kernelspec": {
   "display_name": "R",
   "language": "R",
   "name": "ir"
  },
  "language_info": {
   "codemirror_mode": "r",
   "file_extension": ".r",
   "mimetype": "text/x-r-source",
   "name": "R",
   "pygments_lexer": "r",
   "version": "3.6.1"
  }
 },
 "nbformat": 4,
 "nbformat_minor": 5
}
