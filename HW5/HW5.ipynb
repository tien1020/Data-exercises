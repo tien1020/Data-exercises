{
 "cells": [
  {
   "cell_type": "markdown",
   "id": "fccff49e-5b96-43e6-88b2-cf690ee7f838",
   "metadata": {},
   "source": [
    "# Question 8.1"
   ]
  },
  {
   "cell_type": "markdown",
   "id": "c4e8e254-e25a-408f-ab32-720a5a096d23",
   "metadata": {},
   "source": [
    "#### Describe a situation or problem from your job, everyday life, current events, etc., for which a linear regression model would be appropriate. List some (up to 5) predictors that you might use.\r\n",
    "\r\n"
   ]
  },
  {
   "cell_type": "markdown",
   "id": "1449a3d9-a119-4b09-9c3d-df62f28bf9f7",
   "metadata": {},
   "source": [
    "### Answer\n",
    "#### I have an online clothing store, a situation where a linear regression model could be appropriate is predicting the sales revenue for upcoming months based on various factors.\n",
    "#### Some predictors:\n",
    "#### - Web traffic: higher web traffic (number of visitors to the online store's website) leads to higher sales opportunities.\n",
    "#### - Seasons: The sales are also affected by seasonal situations such as weather and holiday seasons.\n",
    "#### - Price and discounts: The sales are affected by pricing strategies including discounts, promotions, and price changes. \n",
    "#### - Marketing: email promotions, online advertising, pay-per-click campaigns can affect the sales. "
   ]
  },
  {
   "cell_type": "markdown",
   "id": "528c192f-da4a-4c00-a667-59c6ad35e1ad",
   "metadata": {},
   "source": [
    "# Question 8.2"
   ]
  },
  {
   "cell_type": "code",
   "execution_count": 1,
   "id": "d55f7b7b-d8da-45df-b7b5-97f5334879ee",
   "metadata": {},
   "outputs": [],
   "source": [
    "data <- read.table(\"./data 8.2/uscrime.txt\", header = TRUE)"
   ]
  },
  {
   "cell_type": "code",
   "execution_count": 2,
   "id": "3fc6efec-86aa-4f9a-a066-178669b3f07d",
   "metadata": {},
   "outputs": [
    {
     "data": {
      "text/html": [
       "<table>\n",
       "<thead><tr><th scope=col>M</th><th scope=col>So</th><th scope=col>Ed</th><th scope=col>Po1</th><th scope=col>Po2</th><th scope=col>LF</th><th scope=col>M.F</th><th scope=col>Pop</th><th scope=col>NW</th><th scope=col>U1</th><th scope=col>U2</th><th scope=col>Wealth</th><th scope=col>Ineq</th><th scope=col>Prob</th><th scope=col>Time</th><th scope=col>Crime</th></tr></thead>\n",
       "<tbody>\n",
       "\t<tr><td>15.1    </td><td>1       </td><td> 9.1    </td><td> 5.8    </td><td> 5.6    </td><td>0.510   </td><td> 95.0   </td><td> 33     </td><td>30.1    </td><td>0.108   </td><td>4.1     </td><td>3940    </td><td>26.1    </td><td>0.084602</td><td>26.2011 </td><td> 791    </td></tr>\n",
       "\t<tr><td>14.3    </td><td>0       </td><td>11.3    </td><td>10.3    </td><td> 9.5    </td><td>0.583   </td><td>101.2   </td><td> 13     </td><td>10.2    </td><td>0.096   </td><td>3.6     </td><td>5570    </td><td>19.4    </td><td>0.029599</td><td>25.2999 </td><td>1635    </td></tr>\n",
       "\t<tr><td>14.2    </td><td>1       </td><td> 8.9    </td><td> 4.5    </td><td> 4.4    </td><td>0.533   </td><td> 96.9   </td><td> 18     </td><td>21.9    </td><td>0.094   </td><td>3.3     </td><td>3180    </td><td>25.0    </td><td>0.083401</td><td>24.3006 </td><td> 578    </td></tr>\n",
       "\t<tr><td>13.6    </td><td>0       </td><td>12.1    </td><td>14.9    </td><td>14.1    </td><td>0.577   </td><td> 99.4   </td><td>157     </td><td> 8.0    </td><td>0.102   </td><td>3.9     </td><td>6730    </td><td>16.7    </td><td>0.015801</td><td>29.9012 </td><td>1969    </td></tr>\n",
       "\t<tr><td>14.1    </td><td>0       </td><td>12.1    </td><td>10.9    </td><td>10.1    </td><td>0.591   </td><td> 98.5   </td><td> 18     </td><td> 3.0    </td><td>0.091   </td><td>2.0     </td><td>5780    </td><td>17.4    </td><td>0.041399</td><td>21.2998 </td><td>1234    </td></tr>\n",
       "\t<tr><td>12.1    </td><td>0       </td><td>11.0    </td><td>11.8    </td><td>11.5    </td><td>0.547   </td><td> 96.4   </td><td> 25     </td><td> 4.4    </td><td>0.084   </td><td>2.9     </td><td>6890    </td><td>12.6    </td><td>0.034201</td><td>20.9995 </td><td> 682    </td></tr>\n",
       "</tbody>\n",
       "</table>\n"
      ],
      "text/latex": [
       "\\begin{tabular}{r|llllllllllllllll}\n",
       " M & So & Ed & Po1 & Po2 & LF & M.F & Pop & NW & U1 & U2 & Wealth & Ineq & Prob & Time & Crime\\\\\n",
       "\\hline\n",
       "\t 15.1     & 1        &  9.1     &  5.8     &  5.6     & 0.510    &  95.0    &  33      & 30.1     & 0.108    & 4.1      & 3940     & 26.1     & 0.084602 & 26.2011  &  791    \\\\\n",
       "\t 14.3     & 0        & 11.3     & 10.3     &  9.5     & 0.583    & 101.2    &  13      & 10.2     & 0.096    & 3.6      & 5570     & 19.4     & 0.029599 & 25.2999  & 1635    \\\\\n",
       "\t 14.2     & 1        &  8.9     &  4.5     &  4.4     & 0.533    &  96.9    &  18      & 21.9     & 0.094    & 3.3      & 3180     & 25.0     & 0.083401 & 24.3006  &  578    \\\\\n",
       "\t 13.6     & 0        & 12.1     & 14.9     & 14.1     & 0.577    &  99.4    & 157      &  8.0     & 0.102    & 3.9      & 6730     & 16.7     & 0.015801 & 29.9012  & 1969    \\\\\n",
       "\t 14.1     & 0        & 12.1     & 10.9     & 10.1     & 0.591    &  98.5    &  18      &  3.0     & 0.091    & 2.0      & 5780     & 17.4     & 0.041399 & 21.2998  & 1234    \\\\\n",
       "\t 12.1     & 0        & 11.0     & 11.8     & 11.5     & 0.547    &  96.4    &  25      &  4.4     & 0.084    & 2.9      & 6890     & 12.6     & 0.034201 & 20.9995  &  682    \\\\\n",
       "\\end{tabular}\n"
      ],
      "text/markdown": [
       "\n",
       "| M | So | Ed | Po1 | Po2 | LF | M.F | Pop | NW | U1 | U2 | Wealth | Ineq | Prob | Time | Crime |\n",
       "|---|---|---|---|---|---|---|---|---|---|---|---|---|---|---|---|\n",
       "| 15.1     | 1        |  9.1     |  5.8     |  5.6     | 0.510    |  95.0    |  33      | 30.1     | 0.108    | 4.1      | 3940     | 26.1     | 0.084602 | 26.2011  |  791     |\n",
       "| 14.3     | 0        | 11.3     | 10.3     |  9.5     | 0.583    | 101.2    |  13      | 10.2     | 0.096    | 3.6      | 5570     | 19.4     | 0.029599 | 25.2999  | 1635     |\n",
       "| 14.2     | 1        |  8.9     |  4.5     |  4.4     | 0.533    |  96.9    |  18      | 21.9     | 0.094    | 3.3      | 3180     | 25.0     | 0.083401 | 24.3006  |  578     |\n",
       "| 13.6     | 0        | 12.1     | 14.9     | 14.1     | 0.577    |  99.4    | 157      |  8.0     | 0.102    | 3.9      | 6730     | 16.7     | 0.015801 | 29.9012  | 1969     |\n",
       "| 14.1     | 0        | 12.1     | 10.9     | 10.1     | 0.591    |  98.5    |  18      |  3.0     | 0.091    | 2.0      | 5780     | 17.4     | 0.041399 | 21.2998  | 1234     |\n",
       "| 12.1     | 0        | 11.0     | 11.8     | 11.5     | 0.547    |  96.4    |  25      |  4.4     | 0.084    | 2.9      | 6890     | 12.6     | 0.034201 | 20.9995  |  682     |\n",
       "\n"
      ],
      "text/plain": [
       "  M    So Ed   Po1  Po2  LF    M.F   Pop NW   U1    U2  Wealth Ineq Prob    \n",
       "1 15.1 1   9.1  5.8  5.6 0.510  95.0  33 30.1 0.108 4.1 3940   26.1 0.084602\n",
       "2 14.3 0  11.3 10.3  9.5 0.583 101.2  13 10.2 0.096 3.6 5570   19.4 0.029599\n",
       "3 14.2 1   8.9  4.5  4.4 0.533  96.9  18 21.9 0.094 3.3 3180   25.0 0.083401\n",
       "4 13.6 0  12.1 14.9 14.1 0.577  99.4 157  8.0 0.102 3.9 6730   16.7 0.015801\n",
       "5 14.1 0  12.1 10.9 10.1 0.591  98.5  18  3.0 0.091 2.0 5780   17.4 0.041399\n",
       "6 12.1 0  11.0 11.8 11.5 0.547  96.4  25  4.4 0.084 2.9 6890   12.6 0.034201\n",
       "  Time    Crime\n",
       "1 26.2011  791 \n",
       "2 25.2999 1635 \n",
       "3 24.3006  578 \n",
       "4 29.9012 1969 \n",
       "5 21.2998 1234 \n",
       "6 20.9995  682 "
      ]
     },
     "metadata": {},
     "output_type": "display_data"
    }
   ],
   "source": [
    "head(data)"
   ]
  },
  {
   "cell_type": "code",
   "execution_count": 3,
   "id": "bd5b65e7-9956-45dd-9ccd-d05b140e8680",
   "metadata": {},
   "outputs": [
    {
     "data": {
      "image/png": "[encoded data removed]",
      "text/plain": [
       "plot without title"
      ]
     },
     "metadata": {},
     "output_type": "display_data"
    }
   ],
   "source": [
    "plot(data$M, data$Crime)"
   ]
  },
  {
   "cell_type": "code",
   "execution_count": 4,
   "id": "962d28df-a1de-4477-9e3f-3259f12d244d",
   "metadata": {},
   "outputs": [],
   "source": [
    "model <- lm(Crime ~ M + So + Ed + Po1 + Po2 + LF + M.F + Pop + NW + U1 + U2 + Wealth + Ineq + Prob + Time, data = data)\n"
   ]
  },
  {
   "cell_type": "code",
   "execution_count": 5,
   "id": "7de73273-d2e1-4877-b24e-5b049186c1bd",
   "metadata": {},
   "outputs": [
    {
     "data": {
      "text/plain": [
       "\n",
       "Call:\n",
       "lm(formula = Crime ~ M + So + Ed + Po1 + Po2 + LF + M.F + Pop + \n",
       "    NW + U1 + U2 + Wealth + Ineq + Prob + Time, data = data)\n",
       "\n",
       "Residuals:\n",
       "    Min      1Q  Median      3Q     Max \n",
       "-395.74  -98.09   -6.69  112.99  512.67 \n",
       "\n",
       "Coefficients:\n",
       "              Estimate Std. Error t value Pr(>|t|)    \n",
       "(Intercept) -5.984e+03  1.628e+03  -3.675 0.000893 ***\n",
       "M            8.783e+01  4.171e+01   2.106 0.043443 *  \n",
       "So          -3.803e+00  1.488e+02  -0.026 0.979765    \n",
       "Ed           1.883e+02  6.209e+01   3.033 0.004861 ** \n",
       "Po1          1.928e+02  1.061e+02   1.817 0.078892 .  \n",
       "Po2         -1.094e+02  1.175e+02  -0.931 0.358830    \n",
       "LF          -6.638e+02  1.470e+03  -0.452 0.654654    \n",
       "M.F          1.741e+01  2.035e+01   0.855 0.398995    \n",
       "Pop         -7.330e-01  1.290e+00  -0.568 0.573845    \n",
       "NW           4.204e+00  6.481e+00   0.649 0.521279    \n",
       "U1          -5.827e+03  4.210e+03  -1.384 0.176238    \n",
       "U2           1.678e+02  8.234e+01   2.038 0.050161 .  \n",
       "Wealth       9.617e-02  1.037e-01   0.928 0.360754    \n",
       "Ineq         7.067e+01  2.272e+01   3.111 0.003983 ** \n",
       "Prob        -4.855e+03  2.272e+03  -2.137 0.040627 *  \n",
       "Time        -3.479e+00  7.165e+00  -0.486 0.630708    \n",
       "---\n",
       "Signif. codes:  0 '***' 0.001 '**' 0.01 '*' 0.05 '.' 0.1 ' ' 1\n",
       "\n",
       "Residual standard error: 209.1 on 31 degrees of freedom\n",
       "Multiple R-squared:  0.8031,\tAdjusted R-squared:  0.7078 \n",
       "F-statistic: 8.429 on 15 and 31 DF,  p-value: 3.539e-07\n"
      ]
     },
     "metadata": {},
     "output_type": "display_data"
    }
   ],
   "source": [
    "summary(model)\n"
   ]
  },
  {
   "cell_type": "code",
   "execution_count": 6,
   "id": "fe7fecbe-6a5e-4599-8af1-8addc5ac113e",
   "metadata": {},
   "outputs": [],
   "source": [
    "# Try to fit data into a linear regression model"
   ]
  },
  {
   "cell_type": "code",
   "execution_count": 7,
   "id": "87a3ebaf-1de4-47d3-b703-0dd7f4858dd7",
   "metadata": {},
   "outputs": [],
   "source": [
    "#Crime rate in a city:\n",
    "crime_city <- data.frame(\n",
    "    M = 14.0,\n",
    "    So = 0,\n",
    "    Ed = 10.0,\n",
    "    Po1 = 12.0,\n",
    "    Po2 = 15.5,\n",
    "    LF = 0.640,\n",
    "    M.F = 94.0,\n",
    "    Pop = 150,\n",
    "    NW = 1.1,\n",
    "    U1 = 0.120,\n",
    "    U2 = 3.6,\n",
    "    Wealth = 3200,\n",
    "    Ineq = 20.1,\n",
    "    Prob = 0.04,\n",
    "    Time = 39.0\n",
    ")\n"
   ]
  },
  {
   "cell_type": "code",
   "execution_count": 8,
   "id": "9d16b001-2556-4f5e-80d3-244a5bd44381",
   "metadata": {},
   "outputs": [
    {
     "data": {
      "text/plain": [
       "\n",
       "Call:\n",
       "lm(formula = Crime ~ ., data = data)\n",
       "\n",
       "Residuals:\n",
       "    Min      1Q  Median      3Q     Max \n",
       "-395.74  -98.09   -6.69  112.99  512.67 \n",
       "\n",
       "Coefficients:\n",
       "              Estimate Std. Error t value Pr(>|t|)    \n",
       "(Intercept) -5.984e+03  1.628e+03  -3.675 0.000893 ***\n",
       "M            8.783e+01  4.171e+01   2.106 0.043443 *  \n",
       "So          -3.803e+00  1.488e+02  -0.026 0.979765    \n",
       "Ed           1.883e+02  6.209e+01   3.033 0.004861 ** \n",
       "Po1          1.928e+02  1.061e+02   1.817 0.078892 .  \n",
       "Po2         -1.094e+02  1.175e+02  -0.931 0.358830    \n",
       "LF          -6.638e+02  1.470e+03  -0.452 0.654654    \n",
       "M.F          1.741e+01  2.035e+01   0.855 0.398995    \n",
       "Pop         -7.330e-01  1.290e+00  -0.568 0.573845    \n",
       "NW           4.204e+00  6.481e+00   0.649 0.521279    \n",
       "U1          -5.827e+03  4.210e+03  -1.384 0.176238    \n",
       "U2           1.678e+02  8.234e+01   2.038 0.050161 .  \n",
       "Wealth       9.617e-02  1.037e-01   0.928 0.360754    \n",
       "Ineq         7.067e+01  2.272e+01   3.111 0.003983 ** \n",
       "Prob        -4.855e+03  2.272e+03  -2.137 0.040627 *  \n",
       "Time        -3.479e+00  7.165e+00  -0.486 0.630708    \n",
       "---\n",
       "Signif. codes:  0 '***' 0.001 '**' 0.01 '*' 0.05 '.' 0.1 ' ' 1\n",
       "\n",
       "Residual standard error: 209.1 on 31 degrees of freedom\n",
       "Multiple R-squared:  0.8031,\tAdjusted R-squared:  0.7078 \n",
       "F-statistic: 8.429 on 15 and 31 DF,  p-value: 3.539e-07\n"
      ]
     },
     "metadata": {},
     "output_type": "display_data"
    }
   ],
   "source": [
    "uscrime_model <- lm(Crime ~ ., data = data)\n",
    "summary(uscrime_model)"
   ]
  },
  {
   "cell_type": "code",
   "execution_count": 9,
   "id": "5f02d293-a25c-4842-b923-88678289d229",
   "metadata": {},
   "outputs": [
    {
     "data": {
      "text/html": [
       "<dl class=dl-horizontal>\n",
       "\t<dt>(Intercept)</dt>\n",
       "\t\t<dd>-5984.2876044968</dd>\n",
       "\t<dt>M</dt>\n",
       "\t\t<dd>87.8301732430489</dd>\n",
       "\t<dt>So</dt>\n",
       "\t\t<dd>-3.80345029611503</dd>\n",
       "\t<dt>Ed</dt>\n",
       "\t\t<dd>188.32431475042</dd>\n",
       "\t<dt>Po1</dt>\n",
       "\t\t<dd>192.80433827659</dd>\n",
       "\t<dt>Po2</dt>\n",
       "\t\t<dd>-109.421925381633</dd>\n",
       "\t<dt>LF</dt>\n",
       "\t\t<dd>-663.826145079777</dd>\n",
       "\t<dt>M.F</dt>\n",
       "\t\t<dd>17.4068555276353</dd>\n",
       "\t<dt>Pop</dt>\n",
       "\t\t<dd>-0.733008149584913</dd>\n",
       "\t<dt>NW</dt>\n",
       "\t\t<dd>4.20446100194136</dd>\n",
       "\t<dt>U1</dt>\n",
       "\t\t<dd>-5827.10272440482</dd>\n",
       "\t<dt>U2</dt>\n",
       "\t\t<dd>167.799672221837</dd>\n",
       "\t<dt>Wealth</dt>\n",
       "\t\t<dd>0.0961662430048667</dd>\n",
       "\t<dt>Ineq</dt>\n",
       "\t\t<dd>70.6720994522301</dd>\n",
       "\t<dt>Prob</dt>\n",
       "\t\t<dd>-4855.26581547548</dd>\n",
       "\t<dt>Time</dt>\n",
       "\t\t<dd>-3.47901784343313</dd>\n",
       "</dl>\n"
      ],
      "text/latex": [
       "\\begin{description*}\n",
       "\\item[(Intercept)] -5984.2876044968\n",
       "\\item[M] 87.8301732430489\n",
       "\\item[So] -3.80345029611503\n",
       "\\item[Ed] 188.32431475042\n",
       "\\item[Po1] 192.80433827659\n",
       "\\item[Po2] -109.421925381633\n",
       "\\item[LF] -663.826145079777\n",
       "\\item[M.F] 17.4068555276353\n",
       "\\item[Pop] -0.733008149584913\n",
       "\\item[NW] 4.20446100194136\n",
       "\\item[U1] -5827.10272440482\n",
       "\\item[U2] 167.799672221837\n",
       "\\item[Wealth] 0.0961662430048667\n",
       "\\item[Ineq] 70.6720994522301\n",
       "\\item[Prob] -4855.26581547548\n",
       "\\item[Time] -3.47901784343313\n",
       "\\end{description*}\n"
      ],
      "text/markdown": [
       "(Intercept)\n",
       ":   -5984.2876044968M\n",
       ":   87.8301732430489So\n",
       ":   -3.80345029611503Ed\n",
       ":   188.32431475042Po1\n",
       ":   192.80433827659Po2\n",
       ":   -109.421925381633LF\n",
       ":   -663.826145079777M.F\n",
       ":   17.4068555276353Pop\n",
       ":   -0.733008149584913NW\n",
       ":   4.20446100194136U1\n",
       ":   -5827.10272440482U2\n",
       ":   167.799672221837Wealth\n",
       ":   0.0961662430048667Ineq\n",
       ":   70.6720994522301Prob\n",
       ":   -4855.26581547548Time\n",
       ":   -3.47901784343313\n",
       "\n"
      ],
      "text/plain": [
       "  (Intercept)             M            So            Ed           Po1 \n",
       "-5.984288e+03  8.783017e+01 -3.803450e+00  1.883243e+02  1.928043e+02 \n",
       "          Po2            LF           M.F           Pop            NW \n",
       "-1.094219e+02 -6.638261e+02  1.740686e+01 -7.330081e-01  4.204461e+00 \n",
       "           U1            U2        Wealth          Ineq          Prob \n",
       "-5.827103e+03  1.677997e+02  9.616624e-02  7.067210e+01 -4.855266e+03 \n",
       "         Time \n",
       "-3.479018e+00 "
      ]
     },
     "metadata": {},
     "output_type": "display_data"
    }
   ],
   "source": [
    "# Coefficients\n",
    "coefficients(model)"
   ]
  },
  {
   "cell_type": "markdown",
   "id": "0d883f59-b1ac-41ab-85bc-b82070b0402f",
   "metadata": {},
   "source": [
    "#### - M, Ed, Po1, U2, Ineq have positive coefficients suggesting that higher values are associated with higher crime rate\n",
    "#### - So, Po2, LF, M.F, Pop, NW, U1, Wealth, Time are not significant because they have p-value > 0.05\n",
    "#### - Prob has a negative coefficient, which indicates that a higher probability of imprisonment is associated with lower crime rates."
   ]
  },
  {
   "cell_type": "markdown",
   "id": "6162ee00-3ebb-40b5-ace5-e4e21bde9239",
   "metadata": {},
   "source": [
    "#### R-squared is 0.8031 or 80.31% of the data can be explained by the predictor variables in the model. \n",
    "#### Adjusted R-squared is 70.78%\n",
    "#### Residual standard error is 209.1\n",
    "#### F-statistic: Tests the overall significance of the model. The low p-value (3.539e-07) suggests that the model is statistically significant at a high confidence level."
   ]
  },
  {
   "cell_type": "markdown",
   "id": "726e7038-91f8-4495-9d91-18a264ad802f",
   "metadata": {},
   "source": [
    "#### The model suggests that education level, police expenditure, income inequality, and probability of imprisonment are some of the key factors associated with crime rates, while other variables do not show significant relationships. However, caution should be exercised in interpreting the results, especially considering the potential for overfitting given the relatively small sample size and large number of predictors. Regularization techniques or feature selection methods could be explored to address potential overfitting issues."
   ]
  },
  {
   "cell_type": "code",
   "execution_count": 10,
   "id": "85c9bea3-21ab-419d-ad19-2b1de02e3756",
   "metadata": {},
   "outputs": [
    {
     "data": {
      "text/html": [
       "<strong>1:</strong> 155.434896887443"
      ],
      "text/latex": [
       "\\textbf{1:} 155.434896887443"
      ],
      "text/markdown": [
       "**1:** 155.434896887443"
      ],
      "text/plain": [
       "       1 \n",
       "155.4349 "
      ]
     },
     "metadata": {},
     "output_type": "display_data"
    }
   ],
   "source": [
    "predicted_crime_rate <- predict(model, newdata = crime_city)\n",
    "predicted_crime_rate"
   ]
  },
  {
   "cell_type": "markdown",
   "id": "6274cb9d-1658-484c-895e-98fb44ba1880",
   "metadata": {},
   "source": [
    "### The result of US crime is 155.4349"
   ]
  },
  {
   "cell_type": "code",
   "execution_count": null,
   "id": "305c7229-f8db-4af1-a407-c28c354399d5",
   "metadata": {},
   "outputs": [],
   "source": []
  }
 ],
 "metadata": {
  "kernelspec": {
   "display_name": "R",
   "language": "R",
   "name": "ir"
  },
  "language_info": {
   "codemirror_mode": "r",
   "file_extension": ".r",
   "mimetype": "text/x-r-source",
   "name": "R",
   "pygments_lexer": "r",
   "version": "3.6.1"
  }
 },
 "nbformat": 4,
 "nbformat_minor": 5
}
