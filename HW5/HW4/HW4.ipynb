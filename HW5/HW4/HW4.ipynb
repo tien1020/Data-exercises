{
 "cells": [
  {
   "cell_type": "markdown",
   "id": "992042b9-a78c-4ac5-b92b-7832f1217416",
   "metadata": {},
   "source": [
    "# Question 7.1"
   ]
  },
  {
   "cell_type": "markdown",
   "id": "b420bd9f-6483-4ab4-9a2b-45389f67cbe5",
   "metadata": {},
   "source": [
    "#### I have an online clothing store and would like to predict the sales of winter clothes like sweaters, hoodies, and jackets based on historical data. I would collect historical sales data for winter clothes over several years, and month by month. I want to know which months have the biggest sales to prepare and stock enough products. \n",
    "#### Data I would need is time period (month, week, and day), and sales volume for each time period.\n",
    "#### I can guess that the high sales volume could be in the last days of summer and before holidays like Thanksgiving, Christmas, and New Year. \n",
    "#### I expect the value of alpha to be closer to 1 because the winter season is a short-term trend and not stable. We also need to focus on unstable factor like weather and holidays."
   ]
  },
  {
   "cell_type": "markdown",
   "id": "3d8a941f-5b6e-4212-bd50-05cc439c224a",
   "metadata": {},
   "source": [
    "# Question 7.2"
   ]
  },
  {
   "cell_type": "code",
   "execution_count": 1,
   "id": "98c4e701-0a44-470f-bdcb-4b8912fb9312",
   "metadata": {},
   "outputs": [],
   "source": [
    "rm(list = ls())"
   ]
  },
  {
   "cell_type": "code",
   "execution_count": 2,
   "id": "21f07c5e-35e5-4ca1-b11c-1c73f087366c",
   "metadata": {},
   "outputs": [
    {
     "data": {
      "text/html": [
       "<table>\n",
       "<thead><tr><th scope=col>DAY</th><th scope=col>X1996</th><th scope=col>X1997</th><th scope=col>X1998</th><th scope=col>X1999</th><th scope=col>X2000</th><th scope=col>X2001</th><th scope=col>X2002</th><th scope=col>X2003</th><th scope=col>X2004</th><th scope=col>...</th><th scope=col>X2006</th><th scope=col>X2007</th><th scope=col>X2008</th><th scope=col>X2009</th><th scope=col>X2010</th><th scope=col>X2011</th><th scope=col>X2012</th><th scope=col>X2013</th><th scope=col>X2014</th><th scope=col>X2015</th></tr></thead>\n",
       "<tbody>\n",
       "\t<tr><td>1-Jul</td><td>98   </td><td>86   </td><td>91   </td><td>84   </td><td>89   </td><td>84   </td><td>90   </td><td>73   </td><td>82   </td><td>...  </td><td>93   </td><td>95   </td><td>85   </td><td>95   </td><td>87   </td><td>92   </td><td>105  </td><td>82   </td><td>90   </td><td>85   </td></tr>\n",
       "\t<tr><td>2-Jul</td><td>97   </td><td>90   </td><td>88   </td><td>82   </td><td>91   </td><td>87   </td><td>90   </td><td>81   </td><td>81   </td><td>...  </td><td>93   </td><td>85   </td><td>87   </td><td>90   </td><td>84   </td><td>94   </td><td> 93  </td><td>85   </td><td>93   </td><td>87   </td></tr>\n",
       "\t<tr><td>3-Jul</td><td>97   </td><td>93   </td><td>91   </td><td>87   </td><td>93   </td><td>87   </td><td>87   </td><td>87   </td><td>86   </td><td>...  </td><td>93   </td><td>82   </td><td>91   </td><td>89   </td><td>83   </td><td>95   </td><td> 99  </td><td>76   </td><td>87   </td><td>79   </td></tr>\n",
       "\t<tr><td>4-Jul</td><td>90   </td><td>91   </td><td>91   </td><td>88   </td><td>95   </td><td>84   </td><td>89   </td><td>86   </td><td>88   </td><td>...  </td><td>91   </td><td>86   </td><td>90   </td><td>91   </td><td>85   </td><td>92   </td><td> 98  </td><td>77   </td><td>84   </td><td>85   </td></tr>\n",
       "\t<tr><td>5-Jul</td><td>89   </td><td>84   </td><td>91   </td><td>90   </td><td>96   </td><td>86   </td><td>93   </td><td>80   </td><td>90   </td><td>...  </td><td>90   </td><td>88   </td><td>88   </td><td>80   </td><td>88   </td><td>90   </td><td>100  </td><td>83   </td><td>86   </td><td>84   </td></tr>\n",
       "\t<tr><td>6-Jul</td><td>93   </td><td>84   </td><td>89   </td><td>91   </td><td>96   </td><td>87   </td><td>93   </td><td>84   </td><td>90   </td><td>...  </td><td>81   </td><td>87   </td><td>82   </td><td>87   </td><td>89   </td><td>90   </td><td> 98  </td><td>83   </td><td>87   </td><td>84   </td></tr>\n",
       "</tbody>\n",
       "</table>\n"
      ],
      "text/latex": [
       "\\begin{tabular}{r|lllllllllllllllllllll}\n",
       " DAY & X1996 & X1997 & X1998 & X1999 & X2000 & X2001 & X2002 & X2003 & X2004 & ... & X2006 & X2007 & X2008 & X2009 & X2010 & X2011 & X2012 & X2013 & X2014 & X2015\\\\\n",
       "\\hline\n",
       "\t 1-Jul & 98    & 86    & 91    & 84    & 89    & 84    & 90    & 73    & 82    & ...   & 93    & 95    & 85    & 95    & 87    & 92    & 105   & 82    & 90    & 85   \\\\\n",
       "\t 2-Jul & 97    & 90    & 88    & 82    & 91    & 87    & 90    & 81    & 81    & ...   & 93    & 85    & 87    & 90    & 84    & 94    &  93   & 85    & 93    & 87   \\\\\n",
       "\t 3-Jul & 97    & 93    & 91    & 87    & 93    & 87    & 87    & 87    & 86    & ...   & 93    & 82    & 91    & 89    & 83    & 95    &  99   & 76    & 87    & 79   \\\\\n",
       "\t 4-Jul & 90    & 91    & 91    & 88    & 95    & 84    & 89    & 86    & 88    & ...   & 91    & 86    & 90    & 91    & 85    & 92    &  98   & 77    & 84    & 85   \\\\\n",
       "\t 5-Jul & 89    & 84    & 91    & 90    & 96    & 86    & 93    & 80    & 90    & ...   & 90    & 88    & 88    & 80    & 88    & 90    & 100   & 83    & 86    & 84   \\\\\n",
       "\t 6-Jul & 93    & 84    & 89    & 91    & 96    & 87    & 93    & 84    & 90    & ...   & 81    & 87    & 82    & 87    & 89    & 90    &  98   & 83    & 87    & 84   \\\\\n",
       "\\end{tabular}\n"
      ],
      "text/markdown": [
       "\n",
       "| DAY | X1996 | X1997 | X1998 | X1999 | X2000 | X2001 | X2002 | X2003 | X2004 | ... | X2006 | X2007 | X2008 | X2009 | X2010 | X2011 | X2012 | X2013 | X2014 | X2015 |\n",
       "|---|---|---|---|---|---|---|---|---|---|---|---|---|---|---|---|---|---|---|---|---|\n",
       "| 1-Jul | 98    | 86    | 91    | 84    | 89    | 84    | 90    | 73    | 82    | ...   | 93    | 95    | 85    | 95    | 87    | 92    | 105   | 82    | 90    | 85    |\n",
       "| 2-Jul | 97    | 90    | 88    | 82    | 91    | 87    | 90    | 81    | 81    | ...   | 93    | 85    | 87    | 90    | 84    | 94    |  93   | 85    | 93    | 87    |\n",
       "| 3-Jul | 97    | 93    | 91    | 87    | 93    | 87    | 87    | 87    | 86    | ...   | 93    | 82    | 91    | 89    | 83    | 95    |  99   | 76    | 87    | 79    |\n",
       "| 4-Jul | 90    | 91    | 91    | 88    | 95    | 84    | 89    | 86    | 88    | ...   | 91    | 86    | 90    | 91    | 85    | 92    |  98   | 77    | 84    | 85    |\n",
       "| 5-Jul | 89    | 84    | 91    | 90    | 96    | 86    | 93    | 80    | 90    | ...   | 90    | 88    | 88    | 80    | 88    | 90    | 100   | 83    | 86    | 84    |\n",
       "| 6-Jul | 93    | 84    | 89    | 91    | 96    | 87    | 93    | 84    | 90    | ...   | 81    | 87    | 82    | 87    | 89    | 90    |  98   | 83    | 87    | 84    |\n",
       "\n"
      ],
      "text/plain": [
       "  DAY   X1996 X1997 X1998 X1999 X2000 X2001 X2002 X2003 X2004 ... X2006 X2007\n",
       "1 1-Jul 98    86    91    84    89    84    90    73    82    ... 93    95   \n",
       "2 2-Jul 97    90    88    82    91    87    90    81    81    ... 93    85   \n",
       "3 3-Jul 97    93    91    87    93    87    87    87    86    ... 93    82   \n",
       "4 4-Jul 90    91    91    88    95    84    89    86    88    ... 91    86   \n",
       "5 5-Jul 89    84    91    90    96    86    93    80    90    ... 90    88   \n",
       "6 6-Jul 93    84    89    91    96    87    93    84    90    ... 81    87   \n",
       "  X2008 X2009 X2010 X2011 X2012 X2013 X2014 X2015\n",
       "1 85    95    87    92    105   82    90    85   \n",
       "2 87    90    84    94     93   85    93    87   \n",
       "3 91    89    83    95     99   76    87    79   \n",
       "4 90    91    85    92     98   77    84    85   \n",
       "5 88    80    88    90    100   83    86    84   \n",
       "6 82    87    89    90     98   83    87    84   "
      ]
     },
     "metadata": {},
     "output_type": "display_data"
    }
   ],
   "source": [
    "data <- read.table('./data 7.2/temps.txt', stringsAsFactors = FALSE, header = TRUE)\n",
    "head(data)"
   ]
  },
  {
   "cell_type": "code",
   "execution_count": 3,
   "id": "07b0cb83-af16-426c-a678-8e61891721bb",
   "metadata": {},
   "outputs": [
    {
     "name": "stdout",
     "output_type": "stream",
     "text": [
      "       DAY X1996 X1997 X1998 X1999 X2000 X2001 X2002 X2003 X2004 X2005 X2006\n",
      "118 26-Oct    75    71    79    69    75    64    68    68    79    61    62\n",
      "119 27-Oct    75    57    79    75    78    51    69    64    81    63    66\n",
      "120 28-Oct    81    55    79    73    80    55    75    57    78    62    63\n",
      "121 29-Oct    82    64    78    72    75    63    75    70    75    64    72\n",
      "122 30-Oct    82    66    82    75    77    72    68    77    78    69    73\n",
      "123 31-Oct    81    60    79    75    78    71    60    75    82    70    68\n",
      "    X2007 X2008 X2009 X2010 X2011 X2012 X2013 X2014 X2015\n",
      "118    68    70    65    85    77    80    61    84    67\n",
      "119    67    59    60    76    79    70    69    84    56\n",
      "120    70    50    71    74    74    56    64    77    78\n",
      "121    62    59    75    68    59    56    75    73    70\n",
      "122    67    65    66    71    61    56    78    68    70\n",
      "123    71    67    69    75    65    65    74    63    62\n"
     ]
    }
   ],
   "source": [
    "print(tail(data))"
   ]
  },
  {
   "cell_type": "code",
   "execution_count": 4,
   "id": "fd7cb0dd-6637-4741-a98c-2bf411ff83dc",
   "metadata": {},
   "outputs": [],
   "source": [
    "# Converting data frame to time series\n",
    "ts_data<-ts(as.vector(unlist(data[,2:21])), start=1996, frequency=123)"
   ]
  },
  {
   "cell_type": "code",
   "execution_count": 5,
   "id": "e3e593b4-0da1-433a-be29-f1468167ebba",
   "metadata": {},
   "outputs": [
    {
     "data": {
      "image/png": "[encoded data removed]",
      "text/plain": [
       "plot without title"
      ]
     },
     "metadata": {},
     "output_type": "display_data"
    }
   ],
   "source": [
    "plot.ts(ts_data)"
   ]
  },
  {
   "cell_type": "code",
   "execution_count": 6,
   "id": "55f9d9f4-4da5-40ed-ae44-d0e372f50c0d",
   "metadata": {},
   "outputs": [
    {
     "data": {
      "text/plain": [
       "             Length Class  Mode     \n",
       "fitted       9348   mts    numeric  \n",
       "x            2460   ts     numeric  \n",
       "alpha           1   -none- numeric  \n",
       "beta            1   -none- numeric  \n",
       "gamma           1   -none- numeric  \n",
       "coefficients  125   -none- numeric  \n",
       "seasonal        1   -none- character\n",
       "SSE             1   -none- numeric  \n",
       "call            6   -none- call     "
      ]
     },
     "metadata": {},
     "output_type": "display_data"
    }
   ],
   "source": [
    "# Set alpha, beta, and gamma to null to let HoltWinters function to find optimal values \n",
    "# There are seasonal variations, so set seasonal to \"multiplicative\" \n",
    "holtWinters_res<-HoltWinters(ts_data, alpha=NULL, beta=NULL, gamma=NULL, seasonal =\"multiplicative\") \n",
    "summary(holtWinters_res)"
   ]
  },
  {
   "cell_type": "code",
   "execution_count": 7,
   "id": "465c4826-0228-45a5-bd5a-8d060d62a213",
   "metadata": {},
   "outputs": [
    {
     "data": {
      "text/html": [
       "<table>\n",
       "<thead><tr><th scope=col>xhat</th><th scope=col>level</th><th scope=col>trend</th><th scope=col>season</th></tr></thead>\n",
       "<tbody>\n",
       "\t<tr><td>87.23653    </td><td>82.87739    </td><td>-0.004362918</td><td>1.052653    </td></tr>\n",
       "\t<tr><td>90.42182    </td><td>82.15059    </td><td>-0.004362918</td><td>1.100742    </td></tr>\n",
       "\t<tr><td>92.99734    </td><td>81.91055    </td><td>-0.004362918</td><td>1.135413    </td></tr>\n",
       "\t<tr><td>90.94030    </td><td>81.90763    </td><td>-0.004362918</td><td>1.110338    </td></tr>\n",
       "\t<tr><td>83.99917    </td><td>81.93634    </td><td>-0.004362918</td><td>1.025231    </td></tr>\n",
       "\t<tr><td>84.04496    </td><td>81.93247    </td><td>-0.004362918</td><td>1.025838    </td></tr>\n",
       "</tbody>\n",
       "</table>\n"
      ],
      "text/latex": [
       "\\begin{tabular}{llll}\n",
       " xhat & level & trend & season\\\\\n",
       "\\hline\n",
       "\t 87.23653     & 82.87739     & -0.004362918 & 1.052653    \\\\\n",
       "\t 90.42182     & 82.15059     & -0.004362918 & 1.100742    \\\\\n",
       "\t 92.99734     & 81.91055     & -0.004362918 & 1.135413    \\\\\n",
       "\t 90.94030     & 81.90763     & -0.004362918 & 1.110338    \\\\\n",
       "\t 83.99917     & 81.93634     & -0.004362918 & 1.025231    \\\\\n",
       "\t 84.04496     & 81.93247     & -0.004362918 & 1.025838    \\\\\n",
       "\\end{tabular}\n"
      ],
      "text/markdown": [
       "\n",
       "| xhat | level | trend | season |\n",
       "|---|---|---|---|\n",
       "| 87.23653     | 82.87739     | -0.004362918 | 1.052653     |\n",
       "| 90.42182     | 82.15059     | -0.004362918 | 1.100742     |\n",
       "| 92.99734     | 81.91055     | -0.004362918 | 1.135413     |\n",
       "| 90.94030     | 81.90763     | -0.004362918 | 1.110338     |\n",
       "| 83.99917     | 81.93634     | -0.004362918 | 1.025231     |\n",
       "| 84.04496     | 81.93247     | -0.004362918 | 1.025838     |\n",
       "\n"
      ],
      "text/plain": [
       "     xhat     level    trend        season  \n",
       "[1,] 87.23653 82.87739 -0.004362918 1.052653\n",
       "[2,] 90.42182 82.15059 -0.004362918 1.100742\n",
       "[3,] 92.99734 81.91055 -0.004362918 1.135413\n",
       "[4,] 90.94030 81.90763 -0.004362918 1.110338\n",
       "[5,] 83.99917 81.93634 -0.004362918 1.025231\n",
       "[6,] 84.04496 81.93247 -0.004362918 1.025838"
      ]
     },
     "metadata": {},
     "output_type": "display_data"
    }
   ],
   "source": [
    "head(holtWinters_res$fitted)"
   ]
  },
  {
   "cell_type": "code",
   "execution_count": 8,
   "id": "4211ae0d-772e-4f1f-b579-888e7f092574",
   "metadata": {},
   "outputs": [
    {
     "data": {
      "image/png": "[encoded data removed]",
      "text/plain": [
       "plot without title"
      ]
     },
     "metadata": {},
     "output_type": "display_data"
    }
   ],
   "source": [
    "plot(holtWinters_res$fitted)"
   ]
  },
  {
   "cell_type": "markdown",
   "id": "17516ce6-0160-4925-9e9f-001f4028208f",
   "metadata": {},
   "source": [
    "#### The plot above shows the trend is close to 0"
   ]
  },
  {
   "cell_type": "code",
   "execution_count": 9,
   "id": "ccc32557-d844-42ca-bed4-c0dc473e6666",
   "metadata": {},
   "outputs": [
    {
     "data": {
      "image/png": "[encoded data removed]",
      "text/plain": [
       "Plot with title \"Holt-Winters filtering\""
      ]
     },
     "metadata": {},
     "output_type": "display_data"
    }
   ],
   "source": [
    "plot(holtWinters_res) \n",
    "# Plot actual data and smoothed data"
   ]
  },
  {
   "cell_type": "markdown",
   "id": "00db38b2-9dea-4a4f-a6e7-39ce470d344a",
   "metadata": {},
   "source": [
    "#### Actual data and smoothed data fit well"
   ]
  },
  {
   "cell_type": "code",
   "execution_count": 10,
   "id": "76e7649b-3c2e-4cd3-97ee-ac70ec2478d3",
   "metadata": {},
   "outputs": [
    {
     "data": {
      "text/html": [
       "<table>\n",
       "<tbody>\n",
       "\t<tr><td>1.052653</td><td>1.049468</td><td>1.120607</td><td>1.103336</td><td>1.118390</td><td>1.108172</td><td>1.140906</td><td>1.140574</td><td>1.125438</td><td>1.122063</td><td>1.161415</td><td>1.198102</td><td>1.198910</td><td>1.243012</td><td>1.243781</td><td>1.238435</td><td>1.300204</td><td>1.290647</td><td>1.254521</td></tr>\n",
       "\t<tr><td>1.100742</td><td>1.099653</td><td>1.108025</td><td>1.098323</td><td>1.110184</td><td>1.116213</td><td>1.126827</td><td>1.154074</td><td>1.142187</td><td>1.131889</td><td>1.144549</td><td>1.134661</td><td>1.153433</td><td>1.165431</td><td>1.172935</td><td>1.190735</td><td>1.191956</td><td>1.219190</td><td>1.228826</td></tr>\n",
       "\t<tr><td>1.135413</td><td>1.135420</td><td>1.139096</td><td>1.142831</td><td>1.143201</td><td>1.138495</td><td>1.129678</td><td>1.156092</td><td>1.165657</td><td>1.147982</td><td>1.149459</td><td>1.135756</td><td>1.153310</td><td>1.155197</td><td>1.157286</td><td>1.169773</td><td>1.189915</td><td>1.172309</td><td>1.169045</td></tr>\n",
       "\t<tr><td>1.110338</td><td>1.110492</td><td>1.117079</td><td>1.125774</td><td>1.134539</td><td>1.126117</td><td>1.130758</td><td>1.137722</td><td>1.150639</td><td>1.146992</td><td>1.142497</td><td>1.150162</td><td>1.151169</td><td>1.157751</td><td>1.163844</td><td>1.159343</td><td>1.166605</td><td>1.167993</td><td>1.158956</td></tr>\n",
       "\t<tr><td>1.025231</td><td>1.025233</td><td>1.044684</td><td>1.067291</td><td>1.084725</td><td>1.097239</td><td>1.115055</td><td>1.103877</td><td>1.120818</td><td>1.133733</td><td>1.132167</td><td>1.142714</td><td>1.139244</td><td>1.112909</td><td>1.132435</td><td>1.132045</td><td>1.145230</td><td>1.168161</td><td>1.170449</td></tr>\n",
       "\t<tr><td>1.025838</td><td>1.025722</td><td>1.028169</td><td>1.042340</td><td>1.053954</td><td>1.067494</td><td>1.080203</td><td>1.094312</td><td>1.102680</td><td>1.092178</td><td>1.075766</td><td>1.088547</td><td>1.082185</td><td>1.103092</td><td>1.115071</td><td>1.118575</td><td>1.121598</td><td>1.134962</td><td>1.145475</td></tr>\n",
       "</tbody>\n",
       "</table>\n"
      ],
      "text/latex": [
       "\\begin{tabular}{lllllllllllllllllll}\n",
       "\t 1.052653 & 1.049468 & 1.120607 & 1.103336 & 1.118390 & 1.108172 & 1.140906 & 1.140574 & 1.125438 & 1.122063 & 1.161415 & 1.198102 & 1.198910 & 1.243012 & 1.243781 & 1.238435 & 1.300204 & 1.290647 & 1.254521\\\\\n",
       "\t 1.100742 & 1.099653 & 1.108025 & 1.098323 & 1.110184 & 1.116213 & 1.126827 & 1.154074 & 1.142187 & 1.131889 & 1.144549 & 1.134661 & 1.153433 & 1.165431 & 1.172935 & 1.190735 & 1.191956 & 1.219190 & 1.228826\\\\\n",
       "\t 1.135413 & 1.135420 & 1.139096 & 1.142831 & 1.143201 & 1.138495 & 1.129678 & 1.156092 & 1.165657 & 1.147982 & 1.149459 & 1.135756 & 1.153310 & 1.155197 & 1.157286 & 1.169773 & 1.189915 & 1.172309 & 1.169045\\\\\n",
       "\t 1.110338 & 1.110492 & 1.117079 & 1.125774 & 1.134539 & 1.126117 & 1.130758 & 1.137722 & 1.150639 & 1.146992 & 1.142497 & 1.150162 & 1.151169 & 1.157751 & 1.163844 & 1.159343 & 1.166605 & 1.167993 & 1.158956\\\\\n",
       "\t 1.025231 & 1.025233 & 1.044684 & 1.067291 & 1.084725 & 1.097239 & 1.115055 & 1.103877 & 1.120818 & 1.133733 & 1.132167 & 1.142714 & 1.139244 & 1.112909 & 1.132435 & 1.132045 & 1.145230 & 1.168161 & 1.170449\\\\\n",
       "\t 1.025838 & 1.025722 & 1.028169 & 1.042340 & 1.053954 & 1.067494 & 1.080203 & 1.094312 & 1.102680 & 1.092178 & 1.075766 & 1.088547 & 1.082185 & 1.103092 & 1.115071 & 1.118575 & 1.121598 & 1.134962 & 1.145475\\\\\n",
       "\\end{tabular}\n"
      ],
      "text/markdown": [
       "\n",
       "| 1.052653 | 1.049468 | 1.120607 | 1.103336 | 1.118390 | 1.108172 | 1.140906 | 1.140574 | 1.125438 | 1.122063 | 1.161415 | 1.198102 | 1.198910 | 1.243012 | 1.243781 | 1.238435 | 1.300204 | 1.290647 | 1.254521 |\n",
       "| 1.100742 | 1.099653 | 1.108025 | 1.098323 | 1.110184 | 1.116213 | 1.126827 | 1.154074 | 1.142187 | 1.131889 | 1.144549 | 1.134661 | 1.153433 | 1.165431 | 1.172935 | 1.190735 | 1.191956 | 1.219190 | 1.228826 |\n",
       "| 1.135413 | 1.135420 | 1.139096 | 1.142831 | 1.143201 | 1.138495 | 1.129678 | 1.156092 | 1.165657 | 1.147982 | 1.149459 | 1.135756 | 1.153310 | 1.155197 | 1.157286 | 1.169773 | 1.189915 | 1.172309 | 1.169045 |\n",
       "| 1.110338 | 1.110492 | 1.117079 | 1.125774 | 1.134539 | 1.126117 | 1.130758 | 1.137722 | 1.150639 | 1.146992 | 1.142497 | 1.150162 | 1.151169 | 1.157751 | 1.163844 | 1.159343 | 1.166605 | 1.167993 | 1.158956 |\n",
       "| 1.025231 | 1.025233 | 1.044684 | 1.067291 | 1.084725 | 1.097239 | 1.115055 | 1.103877 | 1.120818 | 1.133733 | 1.132167 | 1.142714 | 1.139244 | 1.112909 | 1.132435 | 1.132045 | 1.145230 | 1.168161 | 1.170449 |\n",
       "| 1.025838 | 1.025722 | 1.028169 | 1.042340 | 1.053954 | 1.067494 | 1.080203 | 1.094312 | 1.102680 | 1.092178 | 1.075766 | 1.088547 | 1.082185 | 1.103092 | 1.115071 | 1.118575 | 1.121598 | 1.134962 | 1.145475 |\n",
       "\n"
      ],
      "text/plain": [
       "     [,1]     [,2]     [,3]     [,4]     [,5]     [,6]     [,7]     [,8]    \n",
       "[1,] 1.052653 1.049468 1.120607 1.103336 1.118390 1.108172 1.140906 1.140574\n",
       "[2,] 1.100742 1.099653 1.108025 1.098323 1.110184 1.116213 1.126827 1.154074\n",
       "[3,] 1.135413 1.135420 1.139096 1.142831 1.143201 1.138495 1.129678 1.156092\n",
       "[4,] 1.110338 1.110492 1.117079 1.125774 1.134539 1.126117 1.130758 1.137722\n",
       "[5,] 1.025231 1.025233 1.044684 1.067291 1.084725 1.097239 1.115055 1.103877\n",
       "[6,] 1.025838 1.025722 1.028169 1.042340 1.053954 1.067494 1.080203 1.094312\n",
       "     [,9]     [,10]    [,11]    [,12]    [,13]    [,14]    [,15]    [,16]   \n",
       "[1,] 1.125438 1.122063 1.161415 1.198102 1.198910 1.243012 1.243781 1.238435\n",
       "[2,] 1.142187 1.131889 1.144549 1.134661 1.153433 1.165431 1.172935 1.190735\n",
       "[3,] 1.165657 1.147982 1.149459 1.135756 1.153310 1.155197 1.157286 1.169773\n",
       "[4,] 1.150639 1.146992 1.142497 1.150162 1.151169 1.157751 1.163844 1.159343\n",
       "[5,] 1.120818 1.133733 1.132167 1.142714 1.139244 1.112909 1.132435 1.132045\n",
       "[6,] 1.102680 1.092178 1.075766 1.088547 1.082185 1.103092 1.115071 1.118575\n",
       "     [,17]    [,18]    [,19]   \n",
       "[1,] 1.300204 1.290647 1.254521\n",
       "[2,] 1.191956 1.219190 1.228826\n",
       "[3,] 1.189915 1.172309 1.169045\n",
       "[4,] 1.166605 1.167993 1.158956\n",
       "[5,] 1.145230 1.168161 1.170449\n",
       "[6,] 1.121598 1.134962 1.145475"
      ]
     },
     "metadata": {},
     "output_type": "display_data"
    }
   ],
   "source": [
    "temps_hw_sf <- matrix(holtWinters_res$fitted[,4], nrow=123)\n",
    "head(temps_hw_sf)"
   ]
  },
  {
   "cell_type": "code",
   "execution_count": 11,
   "id": "4b68dec9-d272-4a0f-8480-c4af0df19eb0",
   "metadata": {},
   "outputs": [
    {
     "data": {
      "text/html": [
       "<table>\n",
       "<tbody>\n",
       "\t<tr><th scope=row>[118,]</th><td>0.9202878</td><td>0.9167266</td><td>0.9316249</td><td>0.9483276</td><td>0.9356822</td><td>0.8960745</td><td>0.9115292</td><td>0.8880224</td><td>0.8919086</td><td>0.9016390</td><td>0.9096762</td><td>0.9076538</td><td>0.9056794</td><td>0.8805521</td><td>0.8824280</td><td>0.8730733</td><td>0.8639161</td><td>0.8614441</td><td>0.8717307</td></tr>\n",
       "\t<tr><th scope=row>[119,]</th><td>0.9203791</td><td>0.8752448</td><td>0.8890989</td><td>0.9189986</td><td>0.9279178</td><td>0.8676299</td><td>0.8817807</td><td>0.8675880</td><td>0.8778461</td><td>0.8903499</td><td>0.9073530</td><td>0.9042270</td><td>0.8709238</td><td>0.8536790</td><td>0.8396531</td><td>0.8495173</td><td>0.8266791</td><td>0.8544568</td><td>0.8598048</td></tr>\n",
       "\t<tr><th scope=row>[120,]</th><td>0.9934182</td><td>0.9493421</td><td>0.9386713</td><td>0.9343247</td><td>0.9395149</td><td>0.9269720</td><td>0.9360466</td><td>0.8945719</td><td>0.8856237</td><td>0.8857793</td><td>0.8844382</td><td>0.8961658</td><td>0.8523899</td><td>0.8794887</td><td>0.8631928</td><td>0.8499712</td><td>0.7994624</td><td>0.8024431</td><td>0.8002607</td></tr>\n",
       "\t<tr><th scope=row>[121,]</th><td>1.0052839</td><td>1.0170234</td><td>0.9947869</td><td>0.9777463</td><td>0.9568681</td><td>0.9754782</td><td>0.9685817</td><td>0.9862772</td><td>0.9533857</td><td>0.9449564</td><td>0.9580790</td><td>0.9214616</td><td>0.9301216</td><td>0.9347985</td><td>0.8985886</td><td>0.8409815</td><td>0.8223158</td><td>0.8457842</td><td>0.8257107</td></tr>\n",
       "\t<tr><th scope=row>[122,]</th><td>1.0049851</td><td>1.0160082</td><td>1.0182545</td><td>1.0152111</td><td>1.0042247</td><td>1.0293585</td><td>0.9928965</td><td>1.0143191</td><td>1.0032329</td><td>1.0049513</td><td>1.0001026</td><td>0.9921573</td><td>1.0005049</td><td>0.9591606</td><td>0.9478091</td><td>0.9185031</td><td>0.8930257</td><td>0.8944247</td><td>0.8615051</td></tr>\n",
       "\t<tr><th scope=row>[123,]</th><td>0.9920411</td><td>0.9788295</td><td>0.9796735</td><td>0.9865343</td><td>0.9910570</td><td>1.0001962</td><td>0.9651261</td><td>0.9733806</td><td>0.9879126</td><td>0.9947735</td><td>0.9800279</td><td>0.9931484</td><td>1.0024638</td><td>0.9948792</td><td>0.9941488</td><td>0.9852592</td><td>0.9909004</td><td>0.9581546</td><td>0.9137532</td></tr>\n",
       "</tbody>\n",
       "</table>\n"
      ],
      "text/latex": [
       "\\begin{tabular}{r|lllllllllllllllllll}\n",
       "\t{[}118,{]} & 0.9202878 & 0.9167266 & 0.9316249 & 0.9483276 & 0.9356822 & 0.8960745 & 0.9115292 & 0.8880224 & 0.8919086 & 0.9016390 & 0.9096762 & 0.9076538 & 0.9056794 & 0.8805521 & 0.8824280 & 0.8730733 & 0.8639161 & 0.8614441 & 0.8717307\\\\\n",
       "\t{[}119,{]} & 0.9203791 & 0.8752448 & 0.8890989 & 0.9189986 & 0.9279178 & 0.8676299 & 0.8817807 & 0.8675880 & 0.8778461 & 0.8903499 & 0.9073530 & 0.9042270 & 0.8709238 & 0.8536790 & 0.8396531 & 0.8495173 & 0.8266791 & 0.8544568 & 0.8598048\\\\\n",
       "\t{[}120,{]} & 0.9934182 & 0.9493421 & 0.9386713 & 0.9343247 & 0.9395149 & 0.9269720 & 0.9360466 & 0.8945719 & 0.8856237 & 0.8857793 & 0.8844382 & 0.8961658 & 0.8523899 & 0.8794887 & 0.8631928 & 0.8499712 & 0.7994624 & 0.8024431 & 0.8002607\\\\\n",
       "\t{[}121,{]} & 1.0052839 & 1.0170234 & 0.9947869 & 0.9777463 & 0.9568681 & 0.9754782 & 0.9685817 & 0.9862772 & 0.9533857 & 0.9449564 & 0.9580790 & 0.9214616 & 0.9301216 & 0.9347985 & 0.8985886 & 0.8409815 & 0.8223158 & 0.8457842 & 0.8257107\\\\\n",
       "\t{[}122,{]} & 1.0049851 & 1.0160082 & 1.0182545 & 1.0152111 & 1.0042247 & 1.0293585 & 0.9928965 & 1.0143191 & 1.0032329 & 1.0049513 & 1.0001026 & 0.9921573 & 1.0005049 & 0.9591606 & 0.9478091 & 0.9185031 & 0.8930257 & 0.8944247 & 0.8615051\\\\\n",
       "\t{[}123,{]} & 0.9920411 & 0.9788295 & 0.9796735 & 0.9865343 & 0.9910570 & 1.0001962 & 0.9651261 & 0.9733806 & 0.9879126 & 0.9947735 & 0.9800279 & 0.9931484 & 1.0024638 & 0.9948792 & 0.9941488 & 0.9852592 & 0.9909004 & 0.9581546 & 0.9137532\\\\\n",
       "\\end{tabular}\n"
      ],
      "text/markdown": [
       "\n",
       "| [118,] | 0.9202878 | 0.9167266 | 0.9316249 | 0.9483276 | 0.9356822 | 0.8960745 | 0.9115292 | 0.8880224 | 0.8919086 | 0.9016390 | 0.9096762 | 0.9076538 | 0.9056794 | 0.8805521 | 0.8824280 | 0.8730733 | 0.8639161 | 0.8614441 | 0.8717307 |\n",
       "| [119,] | 0.9203791 | 0.8752448 | 0.8890989 | 0.9189986 | 0.9279178 | 0.8676299 | 0.8817807 | 0.8675880 | 0.8778461 | 0.8903499 | 0.9073530 | 0.9042270 | 0.8709238 | 0.8536790 | 0.8396531 | 0.8495173 | 0.8266791 | 0.8544568 | 0.8598048 |\n",
       "| [120,] | 0.9934182 | 0.9493421 | 0.9386713 | 0.9343247 | 0.9395149 | 0.9269720 | 0.9360466 | 0.8945719 | 0.8856237 | 0.8857793 | 0.8844382 | 0.8961658 | 0.8523899 | 0.8794887 | 0.8631928 | 0.8499712 | 0.7994624 | 0.8024431 | 0.8002607 |\n",
       "| [121,] | 1.0052839 | 1.0170234 | 0.9947869 | 0.9777463 | 0.9568681 | 0.9754782 | 0.9685817 | 0.9862772 | 0.9533857 | 0.9449564 | 0.9580790 | 0.9214616 | 0.9301216 | 0.9347985 | 0.8985886 | 0.8409815 | 0.8223158 | 0.8457842 | 0.8257107 |\n",
       "| [122,] | 1.0049851 | 1.0160082 | 1.0182545 | 1.0152111 | 1.0042247 | 1.0293585 | 0.9928965 | 1.0143191 | 1.0032329 | 1.0049513 | 1.0001026 | 0.9921573 | 1.0005049 | 0.9591606 | 0.9478091 | 0.9185031 | 0.8930257 | 0.8944247 | 0.8615051 |\n",
       "| [123,] | 0.9920411 | 0.9788295 | 0.9796735 | 0.9865343 | 0.9910570 | 1.0001962 | 0.9651261 | 0.9733806 | 0.9879126 | 0.9947735 | 0.9800279 | 0.9931484 | 1.0024638 | 0.9948792 | 0.9941488 | 0.9852592 | 0.9909004 | 0.9581546 | 0.9137532 |\n",
       "\n"
      ],
      "text/plain": [
       "       [,1]      [,2]      [,3]      [,4]      [,5]      [,6]      [,7]     \n",
       "[118,] 0.9202878 0.9167266 0.9316249 0.9483276 0.9356822 0.8960745 0.9115292\n",
       "[119,] 0.9203791 0.8752448 0.8890989 0.9189986 0.9279178 0.8676299 0.8817807\n",
       "[120,] 0.9934182 0.9493421 0.9386713 0.9343247 0.9395149 0.9269720 0.9360466\n",
       "[121,] 1.0052839 1.0170234 0.9947869 0.9777463 0.9568681 0.9754782 0.9685817\n",
       "[122,] 1.0049851 1.0160082 1.0182545 1.0152111 1.0042247 1.0293585 0.9928965\n",
       "[123,] 0.9920411 0.9788295 0.9796735 0.9865343 0.9910570 1.0001962 0.9651261\n",
       "       [,8]      [,9]      [,10]     [,11]     [,12]     [,13]     [,14]    \n",
       "[118,] 0.8880224 0.8919086 0.9016390 0.9096762 0.9076538 0.9056794 0.8805521\n",
       "[119,] 0.8675880 0.8778461 0.8903499 0.9073530 0.9042270 0.8709238 0.8536790\n",
       "[120,] 0.8945719 0.8856237 0.8857793 0.8844382 0.8961658 0.8523899 0.8794887\n",
       "[121,] 0.9862772 0.9533857 0.9449564 0.9580790 0.9214616 0.9301216 0.9347985\n",
       "[122,] 1.0143191 1.0032329 1.0049513 1.0001026 0.9921573 1.0005049 0.9591606\n",
       "[123,] 0.9733806 0.9879126 0.9947735 0.9800279 0.9931484 1.0024638 0.9948792\n",
       "       [,15]     [,16]     [,17]     [,18]     [,19]    \n",
       "[118,] 0.8824280 0.8730733 0.8639161 0.8614441 0.8717307\n",
       "[119,] 0.8396531 0.8495173 0.8266791 0.8544568 0.8598048\n",
       "[120,] 0.8631928 0.8499712 0.7994624 0.8024431 0.8002607\n",
       "[121,] 0.8985886 0.8409815 0.8223158 0.8457842 0.8257107\n",
       "[122,] 0.9478091 0.9185031 0.8930257 0.8944247 0.8615051\n",
       "[123,] 0.9941488 0.9852592 0.9909004 0.9581546 0.9137532"
      ]
     },
     "metadata": {},
     "output_type": "display_data"
    }
   ],
   "source": [
    "tail(temps_hw_sf)"
   ]
  },
  {
   "cell_type": "code",
   "execution_count": 12,
   "id": "bfa6dee7-2690-4d2f-9381-d587c830a6d9",
   "metadata": {},
   "outputs": [
    {
     "data": {
      "text/html": [
       "<table>\n",
       "<tbody>\n",
       "\t<tr><td>87.23653 </td><td>65.04516 </td><td>90.29613 </td><td>83.39938 </td><td>87.68863 </td><td>78.07509 </td><td>73.10059 </td><td>87.27074 </td><td>92.29714 </td><td>78.50826 </td><td>81.58696 </td><td>84.72917 </td><td>79.51855 </td><td>86.74604 </td><td>93.88371 </td><td>82.30605 </td><td>84.88750 </td><td>102.54643</td><td>90.07756 </td></tr>\n",
       "\t<tr><td>90.42182 </td><td>84.87634 </td><td>85.44878 </td><td>86.44444 </td><td>84.78855 </td><td>86.02384 </td><td>72.13247 </td><td>85.01878 </td><td>92.85614 </td><td>88.18138 </td><td>88.52648 </td><td>80.39548 </td><td>85.65722 </td><td>81.47324 </td><td>87.43846 </td><td>92.55001 </td><td>76.18707 </td><td> 89.57468</td><td>85.16854 </td></tr>\n",
       "\t<tr><td>92.99734 </td><td>89.61560 </td><td>85.65942 </td><td>92.85774 </td><td>88.70570 </td><td>90.23022 </td><td>77.77739 </td><td>82.68648 </td><td>92.33884 </td><td>92.43570 </td><td>86.72311 </td><td>84.53380 </td><td>88.31357 </td><td>82.29310 </td><td>90.24836 </td><td>91.18746 </td><td>81.46207 </td><td> 88.15080</td><td>82.09161 </td></tr>\n",
       "\t<tr><td>90.94030 </td><td>88.47600 </td><td>84.80741 </td><td>91.55309 </td><td>86.98750 </td><td>87.27931 </td><td>83.52416 </td><td>83.37312 </td><td>87.29596 </td><td>92.69774 </td><td>83.30574 </td><td>89.62822 </td><td>88.56597 </td><td>82.90566 </td><td>93.69353 </td><td>95.13130 </td><td>76.56780 </td><td> 87.11605</td><td>79.49314 </td></tr>\n",
       "\t<tr><td>83.99917 </td><td>83.11178 </td><td>81.14293 </td><td>88.80208 </td><td>81.40681 </td><td>86.06745 </td><td>83.86090 </td><td>83.64904 </td><td>84.25223 </td><td>90.58916 </td><td>84.18954 </td><td>89.27001 </td><td>89.12501 </td><td>80.92784 </td><td>90.14667 </td><td>94.60910 </td><td>75.42085 </td><td> 85.20682</td><td>83.69666 </td></tr>\n",
       "\t<tr><td>84.04496 </td><td>88.00054 </td><td>85.21673 </td><td>91.04477 </td><td>81.83758 </td><td>87.87757 </td><td>78.93483 </td><td>86.79140 </td><td>85.75665 </td><td>86.91496 </td><td>82.21750 </td><td>84.28967 </td><td>79.32562 </td><td>84.52016 </td><td>88.67069 </td><td>96.75445 </td><td>78.42462 </td><td> 83.25423</td><td>82.08838 </td></tr>\n",
       "</tbody>\n",
       "</table>\n"
      ],
      "text/latex": [
       "\\begin{tabular}{lllllllllllllllllll}\n",
       "\t 87.23653  & 65.04516  & 90.29613  & 83.39938  & 87.68863  & 78.07509  & 73.10059  & 87.27074  & 92.29714  & 78.50826  & 81.58696  & 84.72917  & 79.51855  & 86.74604  & 93.88371  & 82.30605  & 84.88750  & 102.54643 & 90.07756 \\\\\n",
       "\t 90.42182  & 84.87634  & 85.44878  & 86.44444  & 84.78855  & 86.02384  & 72.13247  & 85.01878  & 92.85614  & 88.18138  & 88.52648  & 80.39548  & 85.65722  & 81.47324  & 87.43846  & 92.55001  & 76.18707  &  89.57468 & 85.16854 \\\\\n",
       "\t 92.99734  & 89.61560  & 85.65942  & 92.85774  & 88.70570  & 90.23022  & 77.77739  & 82.68648  & 92.33884  & 92.43570  & 86.72311  & 84.53380  & 88.31357  & 82.29310  & 90.24836  & 91.18746  & 81.46207  &  88.15080 & 82.09161 \\\\\n",
       "\t 90.94030  & 88.47600  & 84.80741  & 91.55309  & 86.98750  & 87.27931  & 83.52416  & 83.37312  & 87.29596  & 92.69774  & 83.30574  & 89.62822  & 88.56597  & 82.90566  & 93.69353  & 95.13130  & 76.56780  &  87.11605 & 79.49314 \\\\\n",
       "\t 83.99917  & 83.11178  & 81.14293  & 88.80208  & 81.40681  & 86.06745  & 83.86090  & 83.64904  & 84.25223  & 90.58916  & 84.18954  & 89.27001  & 89.12501  & 80.92784  & 90.14667  & 94.60910  & 75.42085  &  85.20682 & 83.69666 \\\\\n",
       "\t 84.04496  & 88.00054  & 85.21673  & 91.04477  & 81.83758  & 87.87757  & 78.93483  & 86.79140  & 85.75665  & 86.91496  & 82.21750  & 84.28967  & 79.32562  & 84.52016  & 88.67069  & 96.75445  & 78.42462  &  83.25423 & 82.08838 \\\\\n",
       "\\end{tabular}\n"
      ],
      "text/markdown": [
       "\n",
       "| 87.23653  | 65.04516  | 90.29613  | 83.39938  | 87.68863  | 78.07509  | 73.10059  | 87.27074  | 92.29714  | 78.50826  | 81.58696  | 84.72917  | 79.51855  | 86.74604  | 93.88371  | 82.30605  | 84.88750  | 102.54643 | 90.07756  |\n",
       "| 90.42182  | 84.87634  | 85.44878  | 86.44444  | 84.78855  | 86.02384  | 72.13247  | 85.01878  | 92.85614  | 88.18138  | 88.52648  | 80.39548  | 85.65722  | 81.47324  | 87.43846  | 92.55001  | 76.18707  |  89.57468 | 85.16854  |\n",
       "| 92.99734  | 89.61560  | 85.65942  | 92.85774  | 88.70570  | 90.23022  | 77.77739  | 82.68648  | 92.33884  | 92.43570  | 86.72311  | 84.53380  | 88.31357  | 82.29310  | 90.24836  | 91.18746  | 81.46207  |  88.15080 | 82.09161  |\n",
       "| 90.94030  | 88.47600  | 84.80741  | 91.55309  | 86.98750  | 87.27931  | 83.52416  | 83.37312  | 87.29596  | 92.69774  | 83.30574  | 89.62822  | 88.56597  | 82.90566  | 93.69353  | 95.13130  | 76.56780  |  87.11605 | 79.49314  |\n",
       "| 83.99917  | 83.11178  | 81.14293  | 88.80208  | 81.40681  | 86.06745  | 83.86090  | 83.64904  | 84.25223  | 90.58916  | 84.18954  | 89.27001  | 89.12501  | 80.92784  | 90.14667  | 94.60910  | 75.42085  |  85.20682 | 83.69666  |\n",
       "| 84.04496  | 88.00054  | 85.21673  | 91.04477  | 81.83758  | 87.87757  | 78.93483  | 86.79140  | 85.75665  | 86.91496  | 82.21750  | 84.28967  | 79.32562  | 84.52016  | 88.67069  | 96.75445  | 78.42462  |  83.25423 | 82.08838  |\n",
       "\n"
      ],
      "text/plain": [
       "     [,1]     [,2]     [,3]     [,4]     [,5]     [,6]     [,7]     [,8]    \n",
       "[1,] 87.23653 65.04516 90.29613 83.39938 87.68863 78.07509 73.10059 87.27074\n",
       "[2,] 90.42182 84.87634 85.44878 86.44444 84.78855 86.02384 72.13247 85.01878\n",
       "[3,] 92.99734 89.61560 85.65942 92.85774 88.70570 90.23022 77.77739 82.68648\n",
       "[4,] 90.94030 88.47600 84.80741 91.55309 86.98750 87.27931 83.52416 83.37312\n",
       "[5,] 83.99917 83.11178 81.14293 88.80208 81.40681 86.06745 83.86090 83.64904\n",
       "[6,] 84.04496 88.00054 85.21673 91.04477 81.83758 87.87757 78.93483 86.79140\n",
       "     [,9]     [,10]    [,11]    [,12]    [,13]    [,14]    [,15]    [,16]   \n",
       "[1,] 92.29714 78.50826 81.58696 84.72917 79.51855 86.74604 93.88371 82.30605\n",
       "[2,] 92.85614 88.18138 88.52648 80.39548 85.65722 81.47324 87.43846 92.55001\n",
       "[3,] 92.33884 92.43570 86.72311 84.53380 88.31357 82.29310 90.24836 91.18746\n",
       "[4,] 87.29596 92.69774 83.30574 89.62822 88.56597 82.90566 93.69353 95.13130\n",
       "[5,] 84.25223 90.58916 84.18954 89.27001 89.12501 80.92784 90.14667 94.60910\n",
       "[6,] 85.75665 86.91496 82.21750 84.28967 79.32562 84.52016 88.67069 96.75445\n",
       "     [,17]    [,18]     [,19]   \n",
       "[1,] 84.88750 102.54643 90.07756\n",
       "[2,] 76.18707  89.57468 85.16854\n",
       "[3,] 81.46207  88.15080 82.09161\n",
       "[4,] 76.56780  87.11605 79.49314\n",
       "[5,] 75.42085  85.20682 83.69666\n",
       "[6,] 78.42462  83.25423 82.08838"
      ]
     },
     "metadata": {},
     "output_type": "display_data"
    }
   ],
   "source": [
    "temps_hw_smoothed <- matrix(holtWinters_res$fitted[,1], nrow=123)\n",
    "head(temps_hw_smoothed)"
   ]
  },
  {
   "cell_type": "code",
   "execution_count": 13,
   "id": "eea8d609-72e6-47c5-bb11-1f03d90cc16e",
   "metadata": {},
   "outputs": [
    {
     "data": {
      "text/html": [
       "0.99547272156591"
      ],
      "text/latex": [
       "0.99547272156591"
      ],
      "text/markdown": [
       "0.99547272156591"
      ],
      "text/plain": [
       "[1] 0.9954727"
      ]
     },
     "metadata": {},
     "output_type": "display_data"
    }
   ],
   "source": [
    "#Let's add the row and column names back into the dataset for ease of use.\n",
    "colnames(temps_hw_sf) <- colnames(data[,3:21])\n",
    "rownames(temps_hw_sf) <- data[,1]\n",
    "\n",
    "colnames(temps_hw_smoothed) <- colnames(data[,3:21])\n",
    "rownames(temps_hw_smoothed) <- data[,1]\n",
    "\n",
    "# One interesting thing we could look at is the average seasonal factor for each year and for the dataset as a whole.\n",
    "meanSFAllYears <- mean(temps_hw_sf)\n",
    "meanSFAllYears"
   ]
  },
  {
   "cell_type": "code",
   "execution_count": 14,
   "id": "0682f6c0-1a11-4254-b078-f26c85a1f698",
   "metadata": {},
   "outputs": [
    {
     "data": {
      "text/html": [
       "<ol class=list-inline>\n",
       "\t<li>1</li>\n",
       "\t<li>0.998188239764246</li>\n",
       "\t<li>0.998054715314764</li>\n",
       "\t<li>0.997509537605832</li>\n",
       "\t<li>0.99712707528375</li>\n",
       "\t<li>0.99619536669899</li>\n",
       "\t<li>0.995510796087292</li>\n",
       "\t<li>0.995739269265029</li>\n",
       "\t<li>0.995636040246683</li>\n",
       "\t<li>0.994966722623022</li>\n",
       "\t<li>0.994816215672351</li>\n",
       "\t<li>0.994649516757407</li>\n",
       "\t<li>0.994330041796675</li>\n",
       "\t<li>0.994121090650838</li>\n",
       "\t<li>0.994094882764376</li>\n",
       "\t<li>0.993390716100304</li>\n",
       "\t<li>0.993247593146383</li>\n",
       "\t<li>0.993521533537252</li>\n",
       "\t<li>0.992882356437091</li>\n",
       "</ol>\n"
      ],
      "text/latex": [
       "\\begin{enumerate*}\n",
       "\\item 1\n",
       "\\item 0.998188239764246\n",
       "\\item 0.998054715314764\n",
       "\\item 0.997509537605832\n",
       "\\item 0.99712707528375\n",
       "\\item 0.99619536669899\n",
       "\\item 0.995510796087292\n",
       "\\item 0.995739269265029\n",
       "\\item 0.995636040246683\n",
       "\\item 0.994966722623022\n",
       "\\item 0.994816215672351\n",
       "\\item 0.994649516757407\n",
       "\\item 0.994330041796675\n",
       "\\item 0.994121090650838\n",
       "\\item 0.994094882764376\n",
       "\\item 0.993390716100304\n",
       "\\item 0.993247593146383\n",
       "\\item 0.993521533537252\n",
       "\\item 0.992882356437091\n",
       "\\end{enumerate*}\n"
      ],
      "text/markdown": [
       "1. 1\n",
       "2. 0.998188239764246\n",
       "3. 0.998054715314764\n",
       "4. 0.997509537605832\n",
       "5. 0.99712707528375\n",
       "6. 0.99619536669899\n",
       "7. 0.995510796087292\n",
       "8. 0.995739269265029\n",
       "9. 0.995636040246683\n",
       "10. 0.994966722623022\n",
       "11. 0.994816215672351\n",
       "12. 0.994649516757407\n",
       "13. 0.994330041796675\n",
       "14. 0.994121090650838\n",
       "15. 0.994094882764376\n",
       "16. 0.993390716100304\n",
       "17. 0.993247593146383\n",
       "18. 0.993521533537252\n",
       "19. 0.992882356437091\n",
       "\n",
       "\n"
      ],
      "text/plain": [
       " [1] 1.0000000 0.9981882 0.9980547 0.9975095 0.9971271 0.9961954 0.9955108\n",
       " [8] 0.9957393 0.9956360 0.9949667 0.9948162 0.9946495 0.9943300 0.9941211\n",
       "[15] 0.9940949 0.9933907 0.9932476 0.9935215 0.9928824"
      ]
     },
     "metadata": {},
     "output_type": "display_data"
    }
   ],
   "source": [
    "meanSFEachYear <- vector()\n",
    "for (i in 1:ncol(temps_hw_sf)){\n",
    "  meanSFEachYear[i] = mean(temps_hw_sf[,i])\n",
    "}\n",
    "meanSFEachYear"
   ]
  },
  {
   "cell_type": "code",
   "execution_count": 15,
   "id": "96cc91d7-4675-4339-98eb-173bf4a00a9e",
   "metadata": {},
   "outputs": [
    {
     "data": {
      "text/html": [
       "93"
      ],
      "text/latex": [
       "93"
      ],
      "text/markdown": [
       "93"
      ],
      "text/plain": [
       "[1] 93"
      ]
     },
     "metadata": {},
     "output_type": "display_data"
    }
   ],
   "source": [
    "# Let pick Oct 1st is the first day of Fall\n",
    "which(data$DAY==\"1-Oct\")"
   ]
  },
  {
   "cell_type": "code",
   "execution_count": 16,
   "id": "2784e409-38e5-4a09-bad1-967aa96880de",
   "metadata": {},
   "outputs": [
    {
     "data": {
      "text/html": [
       "0.875109751758792"
      ],
      "text/latex": [
       "0.875109751758792"
      ],
      "text/markdown": [
       "0.875109751758792"
      ],
      "text/plain": [
       "[1] 0.8751098"
      ]
     },
     "metadata": {},
     "output_type": "display_data"
    }
   ],
   "source": [
    "mean(temps_hw_sf[93:123,])"
   ]
  },
  {
   "cell_type": "code",
   "execution_count": 17,
   "id": "fc957fe9-84f1-4c46-b022-f205aa3426ee",
   "metadata": {},
   "outputs": [
    {
     "data": {
      "text/html": [
       "1"
      ],
      "text/latex": [
       "1"
      ],
      "text/markdown": [
       "1"
      ],
      "text/plain": [
       "[1] 1"
      ]
     },
     "metadata": {},
     "output_type": "display_data"
    }
   ],
   "source": [
    "meanSF_firstYear <- mean(temps_hw_sf[,1])\n",
    "meanSF_firstYear"
   ]
  },
  {
   "cell_type": "code",
   "execution_count": 18,
   "id": "7f750eb9-32d5-4195-ad03-35411d13d85e",
   "metadata": {},
   "outputs": [
    {
     "data": {
      "text/html": [
       "<table>\n",
       "<thead><tr><th scope=col>Year</th><th scope=col>Day</th></tr></thead>\n",
       "<tbody>\n",
       "\t<tr><td>X1997 </td><td>30-Sep</td></tr>\n",
       "\t<tr><td>X1998 </td><td>1-Oct </td></tr>\n",
       "\t<tr><td>X1999 </td><td>1-Oct </td></tr>\n",
       "\t<tr><td>X2000 </td><td>1-Oct </td></tr>\n",
       "\t<tr><td>X2001 </td><td>2-Oct </td></tr>\n",
       "\t<tr><td>X2002 </td><td>2-Oct </td></tr>\n",
       "\t<tr><td>X2003 </td><td>3-Oct </td></tr>\n",
       "\t<tr><td>X2004 </td><td>3-Oct </td></tr>\n",
       "\t<tr><td>X2005 </td><td>4-Oct </td></tr>\n",
       "\t<tr><td>X2006 </td><td>4-Oct </td></tr>\n",
       "\t<tr><td>X2007 </td><td>5-Oct </td></tr>\n",
       "\t<tr><td>X2008 </td><td>5-Oct </td></tr>\n",
       "\t<tr><td>X2009 </td><td>5-Oct </td></tr>\n",
       "\t<tr><td>X2010 </td><td>5-Oct </td></tr>\n",
       "\t<tr><td>X2011 </td><td>3-Oct </td></tr>\n",
       "\t<tr><td>X2012 </td><td>3-Oct </td></tr>\n",
       "\t<tr><td>X2013 </td><td>3-Oct </td></tr>\n",
       "\t<tr><td>X2014 </td><td>4-Oct </td></tr>\n",
       "\t<tr><td>X2015 </td><td>4-Oct </td></tr>\n",
       "</tbody>\n",
       "</table>\n"
      ],
      "text/latex": [
       "\\begin{tabular}{r|ll}\n",
       " Year & Day\\\\\n",
       "\\hline\n",
       "\t X1997  & 30-Sep\\\\\n",
       "\t X1998  & 1-Oct \\\\\n",
       "\t X1999  & 1-Oct \\\\\n",
       "\t X2000  & 1-Oct \\\\\n",
       "\t X2001  & 2-Oct \\\\\n",
       "\t X2002  & 2-Oct \\\\\n",
       "\t X2003  & 3-Oct \\\\\n",
       "\t X2004  & 3-Oct \\\\\n",
       "\t X2005  & 4-Oct \\\\\n",
       "\t X2006  & 4-Oct \\\\\n",
       "\t X2007  & 5-Oct \\\\\n",
       "\t X2008  & 5-Oct \\\\\n",
       "\t X2009  & 5-Oct \\\\\n",
       "\t X2010  & 5-Oct \\\\\n",
       "\t X2011  & 3-Oct \\\\\n",
       "\t X2012  & 3-Oct \\\\\n",
       "\t X2013  & 3-Oct \\\\\n",
       "\t X2014  & 4-Oct \\\\\n",
       "\t X2015  & 4-Oct \\\\\n",
       "\\end{tabular}\n"
      ],
      "text/markdown": [
       "\n",
       "| Year | Day |\n",
       "|---|---|\n",
       "| X1997  | 30-Sep |\n",
       "| X1998  | 1-Oct  |\n",
       "| X1999  | 1-Oct  |\n",
       "| X2000  | 1-Oct  |\n",
       "| X2001  | 2-Oct  |\n",
       "| X2002  | 2-Oct  |\n",
       "| X2003  | 3-Oct  |\n",
       "| X2004  | 3-Oct  |\n",
       "| X2005  | 4-Oct  |\n",
       "| X2006  | 4-Oct  |\n",
       "| X2007  | 5-Oct  |\n",
       "| X2008  | 5-Oct  |\n",
       "| X2009  | 5-Oct  |\n",
       "| X2010  | 5-Oct  |\n",
       "| X2011  | 3-Oct  |\n",
       "| X2012  | 3-Oct  |\n",
       "| X2013  | 3-Oct  |\n",
       "| X2014  | 4-Oct  |\n",
       "| X2015  | 4-Oct  |\n",
       "\n"
      ],
      "text/plain": [
       "   Year  Day   \n",
       "1  X1997 30-Sep\n",
       "2  X1998 1-Oct \n",
       "3  X1999 1-Oct \n",
       "4  X2000 1-Oct \n",
       "5  X2001 2-Oct \n",
       "6  X2002 2-Oct \n",
       "7  X2003 3-Oct \n",
       "8  X2004 3-Oct \n",
       "9  X2005 4-Oct \n",
       "10 X2006 4-Oct \n",
       "11 X2007 5-Oct \n",
       "12 X2008 5-Oct \n",
       "13 X2009 5-Oct \n",
       "14 X2010 5-Oct \n",
       "15 X2011 3-Oct \n",
       "16 X2012 3-Oct \n",
       "17 X2013 3-Oct \n",
       "18 X2014 4-Oct \n",
       "19 X2015 4-Oct "
      ]
     },
     "metadata": {},
     "output_type": "display_data"
    }
   ],
   "source": [
    "# Using cusum to define last day of summer each year. \n",
    "cusum_decrease = function(data, mean, T, C){\n",
    "  results = list()\n",
    "  cusum = 0\n",
    "  rowCounter = 1\n",
    "  while (rowCounter <= nrow(data)){\n",
    "    current = data[rowCounter,]\n",
    "    cusum = max(0, cusum + (mean - current - C))\n",
    "    if (cusum >= T) {\n",
    "      results = rowCounter\n",
    "      break\n",
    "    }\n",
    "    rowCounter = rowCounter + 1\n",
    "    if (rowCounter >= nrow(data)){\n",
    "      results = NA\n",
    "      break\n",
    "    }\n",
    "  }\n",
    "  return(results)\n",
    "}\n",
    "\n",
    "C_var = sd(temps_hw_sf[,1])*0.5\n",
    "T_var = sd(temps_hw_sf[,1])*3\n",
    "\n",
    "result_vector = vector()\n",
    "for (col in 1:ncol(temps_hw_sf)){\n",
    "  result_vector[col] = cusum_decrease(data = as.matrix(temps_hw_sf[,col]), mean = 1,T = T_var, C = C_var)\n",
    "}\n",
    "\n",
    "result_df = data.frame(Year = colnames(temps_hw_sf),Day = data[result_vector,1])\n",
    "result_df"
   ]
  },
  {
   "cell_type": "markdown",
   "id": "77cd6422-5480-4da3-b591-3741ac38fc32",
   "metadata": {},
   "source": [
    "#### From this output, it looks like summer temperatures lasted longer into the year as time went on."
   ]
  },
  {
   "cell_type": "code",
   "execution_count": null,
   "id": "5c56d0c0-66c0-462d-a93f-1522031e252b",
   "metadata": {},
   "outputs": [],
   "source": []
  }
 ],
 "metadata": {
  "kernelspec": {
   "display_name": "Python 3 (ipykernel)",
   "language": "python",
   "name": "python3"
  },
  "language_info": {
   "codemirror_mode": {
    "name": "ipython",
    "version": 3
   },
   "file_extension": ".py",
   "mimetype": "text/x-python",
   "name": "python",
   "nbconvert_exporter": "python",
   "pygments_lexer": "ipython3",
   "version": "3.8.18"
  }
 },
 "nbformat": 4,
 "nbformat_minor": 5
}
