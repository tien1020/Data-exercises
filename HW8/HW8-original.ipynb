{
 "cells": [
  {
   "cell_type": "code",
   "execution_count": null,
   "metadata": {},
   "outputs": [],
   "source": [
    "# library(glmnet)"
   ]
  },
  {
   "cell_type": "code",
   "execution_count": null,
   "metadata": {},
   "outputs": [],
   "source": [
    "crime_data <- read.table(\"./data 11.1/uscrime.txt\", header = TRUE)"
   ]
  },
  {
   "cell_type": "code",
   "execution_count": null,
   "metadata": {},
   "outputs": [],
   "source": [
    "head(crime_data)"
   ]
  },
  {
   "cell_type": "code",
   "execution_count": null,
   "metadata": {},
   "outputs": [],
   "source": [
    "model <- lm(Crime~., data = crime_data)\n",
    "summary(model)"
   ]
  },
  {
   "cell_type": "markdown",
   "metadata": {},
   "source": [
    "#### R-squared is 0.8031 and adjusted R-squared is 0.7078"
   ]
  },
  {
   "cell_type": "code",
   "execution_count": null,
   "metadata": {},
   "outputs": [],
   "source": [
    "# Stepwise Regression\n",
    "stepwise_model <- step(lm(Crime ~ ., data = crime_data))"
   ]
  },
  {
   "cell_type": "code",
   "execution_count": null,
   "metadata": {},
   "outputs": [],
   "source": [
    "# Summary of the model\n",
    "summary(stepwise_model)"
   ]
  },
  {
   "cell_type": "markdown",
   "metadata": {},
   "source": [
    "#### With the new model after performing stepwise regression we get a slightly lower R-squared value of 0.7888, but a slightly higher adjusted R-squared value of 0.7444. "
   ]
  },
  {
   "cell_type": "code",
   "execution_count": null,
   "metadata": {},
   "outputs": [],
   "source": []
  },
  {
   "cell_type": "code",
   "execution_count": null,
   "metadata": {},
   "outputs": [],
   "source": [
    "\n",
    "uscrime_scale <- cbind(as.data.frame(scale(crime_data[,1])), \n",
    "                      as.data.frame(crime_data[,2]), \n",
    "                      as.data.frame(scale(crime_data[,c(3,4,5,6,7,8,9,10,11,12,13,14,15)])),\n",
    "                      as.data.frame(crime_data[,16]))\n",
    " \n",
    "# Fix the column names\n",
    "colnames(uscrime_scale) <- colnames(crime_data)\n",
    "# Display scaled data\n",
    "head(uscrime_scale)"
   ]
  },
  {
   "cell_type": "code",
   "execution_count": null,
   "metadata": {},
   "outputs": [],
   "source": [
    "# Run lasso \n",
    "uscrime_lasso <- cv.glmnet(x=as.matrix(uscrime_scale[,-16]), y=as.matrix(uscrime_scale$Crime), \n",
    "                      alpha=1, nfolds = 5, type.measure=\"mse\", family=\"gaussian\")\n",
    "\n",
    "# Find the lamba with the smallest cvm\n",
    "x <- uscrime_lasso$cvm\n",
    "which(x == min(x))"
   ]
  },
  {
   "cell_type": "code",
   "execution_count": null,
   "metadata": {},
   "outputs": [],
   "source": [
    "# The lamba for the smallest cvm\n",
    "uscrime_lasso$lambda[which(x == min(x))]"
   ]
  },
  {
   "cell_type": "code",
   "execution_count": null,
   "metadata": {},
   "outputs": [],
   "source": [
    "# or\n",
    "uscrime_lasso$lambda.min"
   ]
  },
  {
   "cell_type": "code",
   "execution_count": null,
   "metadata": {},
   "outputs": [],
   "source": [
    "coefficients(uscrime_lasso, s=uscrime_lasso$lambda.min)\n"
   ]
  },
  {
   "cell_type": "code",
   "execution_count": null,
   "metadata": {},
   "outputs": [],
   "source": [
    "# Now lets make a model with these coefficients \n",
    "uscrime_lasso_lm <- lm(Crime ~M+So+Ed+Po1+M.F+Pop+NW+U1+U2+Wealth+Ineq+Prob, \n",
    "                    data = uscrime_scale)\n",
    "summary(uscrime_lasso_lm)"
   ]
  },
  {
   "cell_type": "code",
   "execution_count": null,
   "metadata": {},
   "outputs": [],
   "source": [
    "# Let's remove factor which p>0.05 and show the new model. \n",
    "uscrime_lasso_lm2 <- lm(Crime ~M+ Ed+ Po1+ U2+ Ineq+Prob, data = uscrime_scale)\n",
    "summary(uscrime_lasso_lm2)"
   ]
  },
  {
   "cell_type": "code",
   "execution_count": null,
   "metadata": {},
   "outputs": [],
   "source": [
    "# Elastic net model\n",
    "\n",
    "r2=c()\n",
    "for (i in 0:10) {\n",
    "  mod_uscrime_elastic <- cv.glmnet(x=as.matrix(uscrime_scale[,-16]),y=as.matrix(uscrime_scale$Crime),\n",
    "                            alpha=i/10, nfolds = 5, type.measure=\"mse\",\n",
    "                            family=\"gaussian\")\n",
    "  #dev.ratio is the percentage of deviance explained\n",
    "  #min index for the dev.ratio of the model\n",
    "  r2 = cbind(r2, mod_uscrime_elastic$glmnet.fit$dev.ratio[which(mod_uscrime_elastic$glmnet.fit$lambda == mod_uscrime_elastic$lambda.min)])\n",
    "}\n",
    "\n",
    "#get the best alpha\n",
    "alpha <- (which.max(r2)-1)/10\n",
    "\n",
    "\n",
    "#get model with alphas = 0.05\n",
    "uscrime_elastic <- cv.glmnet(x=as.matrix(uscrime_scale[,-16]), \n",
    "                             y=as.matrix(uscrime_scale$Crime), alpha=0.05, \n",
    "                             nfolds = 5, type.measure=\"mse\", family=\"gaussian\")\n",
    "\n",
    "uscrime_elastic_lm = lm(Crime ~M+So+Ed+Po1+Po2+LF+M.F+NW+U1+U2+Wealth+Ineq+Prob\n",
    "+Time, data = uscrime_scale)\n",
    "summary(uscrime_elastic_lm)"
   ]
  },
  {
   "cell_type": "code",
   "execution_count": null,
   "metadata": {},
   "outputs": [],
   "source": [
    "uscrime_elastic_lm2 = lm(Crime ~M+Ed+U2+Ineq+Prob, data = uscrime_scale)\n",
    "summary(uscrime_elastic_lm2)"
   ]
  },
  {
   "cell_type": "code",
   "execution_count": null,
   "metadata": {},
   "outputs": [],
   "source": []
  },
  {
   "cell_type": "code",
   "execution_count": null,
   "metadata": {},
   "outputs": [],
   "source": []
  },
  {
   "cell_type": "code",
   "execution_count": null,
   "metadata": {},
   "outputs": [],
   "source": []
  },
  {
   "cell_type": "code",
   "execution_count": null,
   "metadata": {},
   "outputs": [],
   "source": []
  }
 ],
 "metadata": {
  "kernelspec": {
   "display_name": "R",
   "language": "R",
   "name": "ir"
  },
  "language_info": {
   "codemirror_mode": "r",
   "file_extension": ".r",
   "mimetype": "text/x-r-source",
   "name": "R",
   "pygments_lexer": "r",
   "version": "3.6.1"
  }
 },
 "nbformat": 4,
 "nbformat_minor": 4
}
