{
 "cells": [
  {
   "cell_type": "code",
   "execution_count": 1,
   "metadata": {},
   "outputs": [
    {
     "name": "stderr",
     "output_type": "stream",
     "text": [
      "Loading required package: Matrix\n",
      "Loading required package: foreach\n",
      "Loaded glmnet 2.0-16\n",
      "\n"
     ]
    }
   ],
   "source": [
    "library(glmnet)"
   ]
  },
  {
   "cell_type": "code",
   "execution_count": 2,
   "metadata": {},
   "outputs": [],
   "source": [
    "crime_data <- read.table(\"./data 11.1/uscrime.txt\", header = TRUE)"
   ]
  },
  {
   "cell_type": "code",
   "execution_count": 3,
   "metadata": {},
   "outputs": [
    {
     "data": {
      "text/html": [
       "<table>\n",
       "<thead><tr><th scope=col>M</th><th scope=col>So</th><th scope=col>Ed</th><th scope=col>Po1</th><th scope=col>Po2</th><th scope=col>LF</th><th scope=col>M.F</th><th scope=col>Pop</th><th scope=col>NW</th><th scope=col>U1</th><th scope=col>U2</th><th scope=col>Wealth</th><th scope=col>Ineq</th><th scope=col>Prob</th><th scope=col>Time</th><th scope=col>Crime</th></tr></thead>\n",
       "<tbody>\n",
       "\t<tr><td>15.1    </td><td>1       </td><td> 9.1    </td><td> 5.8    </td><td> 5.6    </td><td>0.510   </td><td> 95.0   </td><td> 33     </td><td>30.1    </td><td>0.108   </td><td>4.1     </td><td>3940    </td><td>26.1    </td><td>0.084602</td><td>26.2011 </td><td> 791    </td></tr>\n",
       "\t<tr><td>14.3    </td><td>0       </td><td>11.3    </td><td>10.3    </td><td> 9.5    </td><td>0.583   </td><td>101.2   </td><td> 13     </td><td>10.2    </td><td>0.096   </td><td>3.6     </td><td>5570    </td><td>19.4    </td><td>0.029599</td><td>25.2999 </td><td>1635    </td></tr>\n",
       "\t<tr><td>14.2    </td><td>1       </td><td> 8.9    </td><td> 4.5    </td><td> 4.4    </td><td>0.533   </td><td> 96.9   </td><td> 18     </td><td>21.9    </td><td>0.094   </td><td>3.3     </td><td>3180    </td><td>25.0    </td><td>0.083401</td><td>24.3006 </td><td> 578    </td></tr>\n",
       "\t<tr><td>13.6    </td><td>0       </td><td>12.1    </td><td>14.9    </td><td>14.1    </td><td>0.577   </td><td> 99.4   </td><td>157     </td><td> 8.0    </td><td>0.102   </td><td>3.9     </td><td>6730    </td><td>16.7    </td><td>0.015801</td><td>29.9012 </td><td>1969    </td></tr>\n",
       "\t<tr><td>14.1    </td><td>0       </td><td>12.1    </td><td>10.9    </td><td>10.1    </td><td>0.591   </td><td> 98.5   </td><td> 18     </td><td> 3.0    </td><td>0.091   </td><td>2.0     </td><td>5780    </td><td>17.4    </td><td>0.041399</td><td>21.2998 </td><td>1234    </td></tr>\n",
       "\t<tr><td>12.1    </td><td>0       </td><td>11.0    </td><td>11.8    </td><td>11.5    </td><td>0.547   </td><td> 96.4   </td><td> 25     </td><td> 4.4    </td><td>0.084   </td><td>2.9     </td><td>6890    </td><td>12.6    </td><td>0.034201</td><td>20.9995 </td><td> 682    </td></tr>\n",
       "</tbody>\n",
       "</table>\n"
      ],
      "text/latex": [
       "\\begin{tabular}{r|llllllllllllllll}\n",
       " M & So & Ed & Po1 & Po2 & LF & M.F & Pop & NW & U1 & U2 & Wealth & Ineq & Prob & Time & Crime\\\\\n",
       "\\hline\n",
       "\t 15.1     & 1        &  9.1     &  5.8     &  5.6     & 0.510    &  95.0    &  33      & 30.1     & 0.108    & 4.1      & 3940     & 26.1     & 0.084602 & 26.2011  &  791    \\\\\n",
       "\t 14.3     & 0        & 11.3     & 10.3     &  9.5     & 0.583    & 101.2    &  13      & 10.2     & 0.096    & 3.6      & 5570     & 19.4     & 0.029599 & 25.2999  & 1635    \\\\\n",
       "\t 14.2     & 1        &  8.9     &  4.5     &  4.4     & 0.533    &  96.9    &  18      & 21.9     & 0.094    & 3.3      & 3180     & 25.0     & 0.083401 & 24.3006  &  578    \\\\\n",
       "\t 13.6     & 0        & 12.1     & 14.9     & 14.1     & 0.577    &  99.4    & 157      &  8.0     & 0.102    & 3.9      & 6730     & 16.7     & 0.015801 & 29.9012  & 1969    \\\\\n",
       "\t 14.1     & 0        & 12.1     & 10.9     & 10.1     & 0.591    &  98.5    &  18      &  3.0     & 0.091    & 2.0      & 5780     & 17.4     & 0.041399 & 21.2998  & 1234    \\\\\n",
       "\t 12.1     & 0        & 11.0     & 11.8     & 11.5     & 0.547    &  96.4    &  25      &  4.4     & 0.084    & 2.9      & 6890     & 12.6     & 0.034201 & 20.9995  &  682    \\\\\n",
       "\\end{tabular}\n"
      ],
      "text/markdown": [
       "\n",
       "| M | So | Ed | Po1 | Po2 | LF | M.F | Pop | NW | U1 | U2 | Wealth | Ineq | Prob | Time | Crime |\n",
       "|---|---|---|---|---|---|---|---|---|---|---|---|---|---|---|---|\n",
       "| 15.1     | 1        |  9.1     |  5.8     |  5.6     | 0.510    |  95.0    |  33      | 30.1     | 0.108    | 4.1      | 3940     | 26.1     | 0.084602 | 26.2011  |  791     |\n",
       "| 14.3     | 0        | 11.3     | 10.3     |  9.5     | 0.583    | 101.2    |  13      | 10.2     | 0.096    | 3.6      | 5570     | 19.4     | 0.029599 | 25.2999  | 1635     |\n",
       "| 14.2     | 1        |  8.9     |  4.5     |  4.4     | 0.533    |  96.9    |  18      | 21.9     | 0.094    | 3.3      | 3180     | 25.0     | 0.083401 | 24.3006  |  578     |\n",
       "| 13.6     | 0        | 12.1     | 14.9     | 14.1     | 0.577    |  99.4    | 157      |  8.0     | 0.102    | 3.9      | 6730     | 16.7     | 0.015801 | 29.9012  | 1969     |\n",
       "| 14.1     | 0        | 12.1     | 10.9     | 10.1     | 0.591    |  98.5    |  18      |  3.0     | 0.091    | 2.0      | 5780     | 17.4     | 0.041399 | 21.2998  | 1234     |\n",
       "| 12.1     | 0        | 11.0     | 11.8     | 11.5     | 0.547    |  96.4    |  25      |  4.4     | 0.084    | 2.9      | 6890     | 12.6     | 0.034201 | 20.9995  |  682     |\n",
       "\n"
      ],
      "text/plain": [
       "  M    So Ed   Po1  Po2  LF    M.F   Pop NW   U1    U2  Wealth Ineq Prob    \n",
       "1 15.1 1   9.1  5.8  5.6 0.510  95.0  33 30.1 0.108 4.1 3940   26.1 0.084602\n",
       "2 14.3 0  11.3 10.3  9.5 0.583 101.2  13 10.2 0.096 3.6 5570   19.4 0.029599\n",
       "3 14.2 1   8.9  4.5  4.4 0.533  96.9  18 21.9 0.094 3.3 3180   25.0 0.083401\n",
       "4 13.6 0  12.1 14.9 14.1 0.577  99.4 157  8.0 0.102 3.9 6730   16.7 0.015801\n",
       "5 14.1 0  12.1 10.9 10.1 0.591  98.5  18  3.0 0.091 2.0 5780   17.4 0.041399\n",
       "6 12.1 0  11.0 11.8 11.5 0.547  96.4  25  4.4 0.084 2.9 6890   12.6 0.034201\n",
       "  Time    Crime\n",
       "1 26.2011  791 \n",
       "2 25.2999 1635 \n",
       "3 24.3006  578 \n",
       "4 29.9012 1969 \n",
       "5 21.2998 1234 \n",
       "6 20.9995  682 "
      ]
     },
     "metadata": {},
     "output_type": "display_data"
    }
   ],
   "source": [
    "head(crime_data)"
   ]
  },
  {
   "cell_type": "code",
   "execution_count": 4,
   "metadata": {},
   "outputs": [
    {
     "data": {
      "text/plain": [
       "\n",
       "Call:\n",
       "lm(formula = Crime ~ ., data = crime_data)\n",
       "\n",
       "Residuals:\n",
       "    Min      1Q  Median      3Q     Max \n",
       "-395.74  -98.09   -6.69  112.99  512.67 \n",
       "\n",
       "Coefficients:\n",
       "              Estimate Std. Error t value Pr(>|t|)    \n",
       "(Intercept) -5.984e+03  1.628e+03  -3.675 0.000893 ***\n",
       "M            8.783e+01  4.171e+01   2.106 0.043443 *  \n",
       "So          -3.803e+00  1.488e+02  -0.026 0.979765    \n",
       "Ed           1.883e+02  6.209e+01   3.033 0.004861 ** \n",
       "Po1          1.928e+02  1.061e+02   1.817 0.078892 .  \n",
       "Po2         -1.094e+02  1.175e+02  -0.931 0.358830    \n",
       "LF          -6.638e+02  1.470e+03  -0.452 0.654654    \n",
       "M.F          1.741e+01  2.035e+01   0.855 0.398995    \n",
       "Pop         -7.330e-01  1.290e+00  -0.568 0.573845    \n",
       "NW           4.204e+00  6.481e+00   0.649 0.521279    \n",
       "U1          -5.827e+03  4.210e+03  -1.384 0.176238    \n",
       "U2           1.678e+02  8.234e+01   2.038 0.050161 .  \n",
       "Wealth       9.617e-02  1.037e-01   0.928 0.360754    \n",
       "Ineq         7.067e+01  2.272e+01   3.111 0.003983 ** \n",
       "Prob        -4.855e+03  2.272e+03  -2.137 0.040627 *  \n",
       "Time        -3.479e+00  7.165e+00  -0.486 0.630708    \n",
       "---\n",
       "Signif. codes:  0 '***' 0.001 '**' 0.01 '*' 0.05 '.' 0.1 ' ' 1\n",
       "\n",
       "Residual standard error: 209.1 on 31 degrees of freedom\n",
       "Multiple R-squared:  0.8031,\tAdjusted R-squared:  0.7078 \n",
       "F-statistic: 8.429 on 15 and 31 DF,  p-value: 3.539e-07\n"
      ]
     },
     "metadata": {},
     "output_type": "display_data"
    }
   ],
   "source": [
    "model <- lm(Crime~., data = crime_data)\n",
    "summary(model)"
   ]
  },
  {
   "cell_type": "markdown",
   "metadata": {},
   "source": [
    "#### R-squared is 0.8031 and adjusted R-squared is 0.7078"
   ]
  },
  {
   "cell_type": "code",
   "execution_count": 5,
   "metadata": {},
   "outputs": [
    {
     "name": "stdout",
     "output_type": "stream",
     "text": [
      "Start:  AIC=514.65\n",
      "Crime ~ M + So + Ed + Po1 + Po2 + LF + M.F + Pop + NW + U1 + \n",
      "    U2 + Wealth + Ineq + Prob + Time\n",
      "\n",
      "         Df Sum of Sq     RSS    AIC\n",
      "- So      1        29 1354974 512.65\n",
      "- LF      1      8917 1363862 512.96\n",
      "- Time    1     10304 1365250 513.00\n",
      "- Pop     1     14122 1369068 513.14\n",
      "- NW      1     18395 1373341 513.28\n",
      "- M.F     1     31967 1386913 513.74\n",
      "- Wealth  1     37613 1392558 513.94\n",
      "- Po2     1     37919 1392865 513.95\n",
      "<none>                1354946 514.65\n",
      "- U1      1     83722 1438668 515.47\n",
      "- Po1     1    144306 1499252 517.41\n",
      "- U2      1    181536 1536482 518.56\n",
      "- M       1    193770 1548716 518.93\n",
      "- Prob    1    199538 1554484 519.11\n",
      "- Ed      1    402117 1757063 524.86\n",
      "- Ineq    1    423031 1777977 525.42\n",
      "\n",
      "Step:  AIC=512.65\n",
      "Crime ~ M + Ed + Po1 + Po2 + LF + M.F + Pop + NW + U1 + U2 + \n",
      "    Wealth + Ineq + Prob + Time\n",
      "\n",
      "         Df Sum of Sq     RSS    AIC\n",
      "- Time    1     10341 1365315 511.01\n",
      "- LF      1     10878 1365852 511.03\n",
      "- Pop     1     14127 1369101 511.14\n",
      "- NW      1     21626 1376600 511.39\n",
      "- M.F     1     32449 1387423 511.76\n",
      "- Po2     1     37954 1392929 511.95\n",
      "- Wealth  1     39223 1394197 511.99\n",
      "<none>                1354974 512.65\n",
      "- U1      1     96420 1451395 513.88\n",
      "- Po1     1    144302 1499277 515.41\n",
      "- U2      1    189859 1544834 516.81\n",
      "- M       1    195084 1550059 516.97\n",
      "- Prob    1    204463 1559437 517.26\n",
      "- Ed      1    403140 1758114 522.89\n",
      "- Ineq    1    488834 1843808 525.13\n",
      "\n",
      "Step:  AIC=511.01\n",
      "Crime ~ M + Ed + Po1 + Po2 + LF + M.F + Pop + NW + U1 + U2 + \n",
      "    Wealth + Ineq + Prob\n",
      "\n",
      "         Df Sum of Sq     RSS    AIC\n",
      "- LF      1     10533 1375848 509.37\n",
      "- NW      1     15482 1380797 509.54\n",
      "- Pop     1     21846 1387161 509.75\n",
      "- Po2     1     28932 1394247 509.99\n",
      "- Wealth  1     36070 1401385 510.23\n",
      "- M.F     1     41784 1407099 510.42\n",
      "<none>                1365315 511.01\n",
      "- U1      1     91420 1456735 512.05\n",
      "- Po1     1    134137 1499452 513.41\n",
      "- U2      1    184143 1549458 514.95\n",
      "- M       1    186110 1551425 515.01\n",
      "- Prob    1    237493 1602808 516.54\n",
      "- Ed      1    409448 1774763 521.33\n",
      "- Ineq    1    502909 1868224 523.75\n",
      "\n",
      "Step:  AIC=509.37\n",
      "Crime ~ M + Ed + Po1 + Po2 + M.F + Pop + NW + U1 + U2 + Wealth + \n",
      "    Ineq + Prob\n",
      "\n",
      "         Df Sum of Sq     RSS    AIC\n",
      "- NW      1     11675 1387523 507.77\n",
      "- Po2     1     21418 1397266 508.09\n",
      "- Pop     1     27803 1403651 508.31\n",
      "- M.F     1     31252 1407100 508.42\n",
      "- Wealth  1     35035 1410883 508.55\n",
      "<none>                1375848 509.37\n",
      "- U1      1     80954 1456802 510.06\n",
      "- Po1     1    123896 1499744 511.42\n",
      "- U2      1    190746 1566594 513.47\n",
      "- M       1    217716 1593564 514.27\n",
      "- Prob    1    226971 1602819 514.54\n",
      "- Ed      1    413254 1789103 519.71\n",
      "- Ineq    1    500944 1876792 521.96\n",
      "\n",
      "Step:  AIC=507.77\n",
      "Crime ~ M + Ed + Po1 + Po2 + M.F + Pop + U1 + U2 + Wealth + Ineq + \n",
      "    Prob\n",
      "\n",
      "         Df Sum of Sq     RSS    AIC\n",
      "- Po2     1     16706 1404229 506.33\n",
      "- Pop     1     25793 1413315 506.63\n",
      "- M.F     1     26785 1414308 506.66\n",
      "- Wealth  1     31551 1419073 506.82\n",
      "<none>                1387523 507.77\n",
      "- U1      1     83881 1471404 508.52\n",
      "- Po1     1    118348 1505871 509.61\n",
      "- U2      1    201453 1588976 512.14\n",
      "- Prob    1    216760 1604282 512.59\n",
      "- M       1    309214 1696737 515.22\n",
      "- Ed      1    402754 1790276 517.74\n",
      "- Ineq    1    589736 1977259 522.41\n",
      "\n",
      "Step:  AIC=506.33\n",
      "Crime ~ M + Ed + Po1 + M.F + Pop + U1 + U2 + Wealth + Ineq + \n",
      "    Prob\n",
      "\n",
      "         Df Sum of Sq     RSS    AIC\n",
      "- Pop     1     22345 1426575 505.07\n",
      "- Wealth  1     32142 1436371 505.39\n",
      "- M.F     1     36808 1441037 505.54\n",
      "<none>                1404229 506.33\n",
      "- U1      1     86373 1490602 507.13\n",
      "- U2      1    205814 1610043 510.76\n",
      "- Prob    1    218607 1622836 511.13\n",
      "- M       1    307001 1711230 513.62\n",
      "- Ed      1    389502 1793731 515.83\n",
      "- Ineq    1    608627 2012856 521.25\n",
      "- Po1     1   1050202 2454432 530.57\n",
      "\n",
      "Step:  AIC=505.07\n",
      "Crime ~ M + Ed + Po1 + M.F + U1 + U2 + Wealth + Ineq + Prob\n",
      "\n",
      "         Df Sum of Sq     RSS    AIC\n",
      "- Wealth  1     26493 1453068 503.93\n",
      "<none>                1426575 505.07\n",
      "- M.F     1     84491 1511065 505.77\n",
      "- U1      1     99463 1526037 506.24\n",
      "- Prob    1    198571 1625145 509.20\n",
      "- U2      1    208880 1635455 509.49\n",
      "- M       1    320926 1747501 512.61\n",
      "- Ed      1    386773 1813348 514.35\n",
      "- Ineq    1    594779 2021354 519.45\n",
      "- Po1     1   1127277 2553852 530.44\n",
      "\n",
      "Step:  AIC=503.93\n",
      "Crime ~ M + Ed + Po1 + M.F + U1 + U2 + Ineq + Prob\n",
      "\n",
      "       Df Sum of Sq     RSS    AIC\n",
      "<none>              1453068 503.93\n",
      "- M.F   1    103159 1556227 505.16\n",
      "- U1    1    127044 1580112 505.87\n",
      "- Prob  1    247978 1701046 509.34\n",
      "- U2    1    255443 1708511 509.55\n",
      "- M     1    296790 1749858 510.67\n",
      "- Ed    1    445788 1898855 514.51\n",
      "- Ineq  1    738244 2191312 521.24\n",
      "- Po1   1   1672038 3125105 537.93\n"
     ]
    }
   ],
   "source": [
    "# Stepwise Regression\n",
    "stepwise_model <- step(lm(Crime ~ ., data = crime_data))"
   ]
  },
  {
   "cell_type": "code",
   "execution_count": 6,
   "metadata": {},
   "outputs": [
    {
     "data": {
      "text/plain": [
       "\n",
       "Call:\n",
       "lm(formula = Crime ~ M + Ed + Po1 + M.F + U1 + U2 + Ineq + Prob, \n",
       "    data = crime_data)\n",
       "\n",
       "Residuals:\n",
       "    Min      1Q  Median      3Q     Max \n",
       "-444.70 -111.07    3.03  122.15  483.30 \n",
       "\n",
       "Coefficients:\n",
       "            Estimate Std. Error t value Pr(>|t|)    \n",
       "(Intercept) -6426.10    1194.61  -5.379 4.04e-06 ***\n",
       "M              93.32      33.50   2.786  0.00828 ** \n",
       "Ed            180.12      52.75   3.414  0.00153 ** \n",
       "Po1           102.65      15.52   6.613 8.26e-08 ***\n",
       "M.F            22.34      13.60   1.642  0.10874    \n",
       "U1          -6086.63    3339.27  -1.823  0.07622 .  \n",
       "U2            187.35      72.48   2.585  0.01371 *  \n",
       "Ineq           61.33      13.96   4.394 8.63e-05 ***\n",
       "Prob        -3796.03    1490.65  -2.547  0.01505 *  \n",
       "---\n",
       "Signif. codes:  0 '***' 0.001 '**' 0.01 '*' 0.05 '.' 0.1 ' ' 1\n",
       "\n",
       "Residual standard error: 195.5 on 38 degrees of freedom\n",
       "Multiple R-squared:  0.7888,\tAdjusted R-squared:  0.7444 \n",
       "F-statistic: 17.74 on 8 and 38 DF,  p-value: 1.159e-10\n"
      ]
     },
     "metadata": {},
     "output_type": "display_data"
    }
   ],
   "source": [
    "# Summary of the model\n",
    "summary(stepwise_model)"
   ]
  },
  {
   "cell_type": "markdown",
   "metadata": {},
   "source": [
    "#### With the new model after performing stepwise regression we get a slightly lower R-squared value of 0.7888, but a slightly higher adjusted R-squared value of 0.7444. "
   ]
  },
  {
   "cell_type": "code",
   "execution_count": null,
   "metadata": {},
   "outputs": [],
   "source": []
  },
  {
   "cell_type": "code",
   "execution_count": 7,
   "metadata": {},
   "outputs": [
    {
     "data": {
      "text/html": [
       "<table>\n",
       "<thead><tr><th scope=col>M</th><th scope=col>So</th><th scope=col>Ed</th><th scope=col>Po1</th><th scope=col>Po2</th><th scope=col>LF</th><th scope=col>M.F</th><th scope=col>Pop</th><th scope=col>NW</th><th scope=col>U1</th><th scope=col>U2</th><th scope=col>Wealth</th><th scope=col>Ineq</th><th scope=col>Prob</th><th scope=col>Time</th><th scope=col>Crime</th></tr></thead>\n",
       "<tbody>\n",
       "\t<tr><td> 0.9886930  </td><td>1           </td><td>-1.3085099  </td><td>-0.9085105  </td><td>-0.8666988  </td><td>-1.2667456  </td><td>-1.12060499 </td><td>-0.09500679 </td><td> 1.943738564</td><td> 0.69510600 </td><td> 0.8313680  </td><td>-1.3616094  </td><td> 1.6793638  </td><td> 1.6497631  </td><td>-0.05599367 </td><td> 791        </td></tr>\n",
       "\t<tr><td> 0.3521372  </td><td>0           </td><td> 0.6580587  </td><td> 0.6056737  </td><td> 0.5280852  </td><td> 0.5396568  </td><td> 0.98341752 </td><td>-0.62033844 </td><td> 0.008483424</td><td> 0.02950365 </td><td> 0.2393332  </td><td> 0.3276683  </td><td> 0.0000000  </td><td>-0.7693365  </td><td>-0.18315796 </td><td>1635        </td></tr>\n",
       "\t<tr><td> 0.2725678  </td><td>1           </td><td>-1.4872888  </td><td>-1.3459415  </td><td>-1.2958632  </td><td>-0.6976051  </td><td>-0.47582390 </td><td>-0.48900552 </td><td> 1.146296747</td><td>-0.08143007 </td><td>-0.1158877  </td><td>-2.1492481  </td><td> 1.4036474  </td><td> 1.5969416  </td><td>-0.32416470 </td><td> 578        </td></tr>\n",
       "\t<tr><td>-0.2048491  </td><td>0           </td><td> 1.3731746  </td><td> 2.1535064  </td><td> 2.1732150  </td><td> 0.3911854  </td><td> 0.37257228 </td><td> 3.16204944 </td><td>-0.205464381</td><td> 0.36230482 </td><td> 0.5945541  </td><td> 1.5298536  </td><td>-0.6767585  </td><td>-1.3761895  </td><td> 0.46611085 </td><td>1969        </td></tr>\n",
       "\t<tr><td> 0.1929983  </td><td>0           </td><td> 1.3731746  </td><td> 0.8075649  </td><td> 0.7426673  </td><td> 0.7376187  </td><td> 0.06714965 </td><td>-0.48900552 </td><td>-0.691709391</td><td>-0.24783066 </td><td>-1.6551781  </td><td> 0.5453053  </td><td>-0.5013026  </td><td>-0.2503580  </td><td>-0.74759413 </td><td>1234        </td></tr>\n",
       "\t<tr><td>-1.3983912  </td><td>0           </td><td> 0.3898903  </td><td> 1.1104017  </td><td> 1.2433590  </td><td>-0.3511718  </td><td>-0.64550313 </td><td>-0.30513945 </td><td>-0.555560788</td><td>-0.63609870 </td><td>-0.5895155  </td><td> 1.6956723  </td><td>-1.7044289  </td><td>-0.5669349  </td><td>-0.78996812 </td><td> 682        </td></tr>\n",
       "</tbody>\n",
       "</table>\n"
      ],
      "text/latex": [
       "\\begin{tabular}{r|llllllllllllllll}\n",
       " M & So & Ed & Po1 & Po2 & LF & M.F & Pop & NW & U1 & U2 & Wealth & Ineq & Prob & Time & Crime\\\\\n",
       "\\hline\n",
       "\t  0.9886930   & 1            & -1.3085099   & -0.9085105   & -0.8666988   & -1.2667456   & -1.12060499  & -0.09500679  &  1.943738564 &  0.69510600  &  0.8313680   & -1.3616094   &  1.6793638   &  1.6497631   & -0.05599367  &  791        \\\\\n",
       "\t  0.3521372   & 0            &  0.6580587   &  0.6056737   &  0.5280852   &  0.5396568   &  0.98341752  & -0.62033844  &  0.008483424 &  0.02950365  &  0.2393332   &  0.3276683   &  0.0000000   & -0.7693365   & -0.18315796  & 1635        \\\\\n",
       "\t  0.2725678   & 1            & -1.4872888   & -1.3459415   & -1.2958632   & -0.6976051   & -0.47582390  & -0.48900552  &  1.146296747 & -0.08143007  & -0.1158877   & -2.1492481   &  1.4036474   &  1.5969416   & -0.32416470  &  578        \\\\\n",
       "\t -0.2048491   & 0            &  1.3731746   &  2.1535064   &  2.1732150   &  0.3911854   &  0.37257228  &  3.16204944  & -0.205464381 &  0.36230482  &  0.5945541   &  1.5298536   & -0.6767585   & -1.3761895   &  0.46611085  & 1969        \\\\\n",
       "\t  0.1929983   & 0            &  1.3731746   &  0.8075649   &  0.7426673   &  0.7376187   &  0.06714965  & -0.48900552  & -0.691709391 & -0.24783066  & -1.6551781   &  0.5453053   & -0.5013026   & -0.2503580   & -0.74759413  & 1234        \\\\\n",
       "\t -1.3983912   & 0            &  0.3898903   &  1.1104017   &  1.2433590   & -0.3511718   & -0.64550313  & -0.30513945  & -0.555560788 & -0.63609870  & -0.5895155   &  1.6956723   & -1.7044289   & -0.5669349   & -0.78996812  &  682        \\\\\n",
       "\\end{tabular}\n"
      ],
      "text/markdown": [
       "\n",
       "| M | So | Ed | Po1 | Po2 | LF | M.F | Pop | NW | U1 | U2 | Wealth | Ineq | Prob | Time | Crime |\n",
       "|---|---|---|---|---|---|---|---|---|---|---|---|---|---|---|---|\n",
       "|  0.9886930   | 1            | -1.3085099   | -0.9085105   | -0.8666988   | -1.2667456   | -1.12060499  | -0.09500679  |  1.943738564 |  0.69510600  |  0.8313680   | -1.3616094   |  1.6793638   |  1.6497631   | -0.05599367  |  791         |\n",
       "|  0.3521372   | 0            |  0.6580587   |  0.6056737   |  0.5280852   |  0.5396568   |  0.98341752  | -0.62033844  |  0.008483424 |  0.02950365  |  0.2393332   |  0.3276683   |  0.0000000   | -0.7693365   | -0.18315796  | 1635         |\n",
       "|  0.2725678   | 1            | -1.4872888   | -1.3459415   | -1.2958632   | -0.6976051   | -0.47582390  | -0.48900552  |  1.146296747 | -0.08143007  | -0.1158877   | -2.1492481   |  1.4036474   |  1.5969416   | -0.32416470  |  578         |\n",
       "| -0.2048491   | 0            |  1.3731746   |  2.1535064   |  2.1732150   |  0.3911854   |  0.37257228  |  3.16204944  | -0.205464381 |  0.36230482  |  0.5945541   |  1.5298536   | -0.6767585   | -1.3761895   |  0.46611085  | 1969         |\n",
       "|  0.1929983   | 0            |  1.3731746   |  0.8075649   |  0.7426673   |  0.7376187   |  0.06714965  | -0.48900552  | -0.691709391 | -0.24783066  | -1.6551781   |  0.5453053   | -0.5013026   | -0.2503580   | -0.74759413  | 1234         |\n",
       "| -1.3983912   | 0            |  0.3898903   |  1.1104017   |  1.2433590   | -0.3511718   | -0.64550313  | -0.30513945  | -0.555560788 | -0.63609870  | -0.5895155   |  1.6956723   | -1.7044289   | -0.5669349   | -0.78996812  |  682         |\n",
       "\n"
      ],
      "text/plain": [
       "  M          So Ed         Po1        Po2        LF         M.F        \n",
       "1  0.9886930 1  -1.3085099 -0.9085105 -0.8666988 -1.2667456 -1.12060499\n",
       "2  0.3521372 0   0.6580587  0.6056737  0.5280852  0.5396568  0.98341752\n",
       "3  0.2725678 1  -1.4872888 -1.3459415 -1.2958632 -0.6976051 -0.47582390\n",
       "4 -0.2048491 0   1.3731746  2.1535064  2.1732150  0.3911854  0.37257228\n",
       "5  0.1929983 0   1.3731746  0.8075649  0.7426673  0.7376187  0.06714965\n",
       "6 -1.3983912 0   0.3898903  1.1104017  1.2433590 -0.3511718 -0.64550313\n",
       "  Pop         NW           U1          U2         Wealth     Ineq      \n",
       "1 -0.09500679  1.943738564  0.69510600  0.8313680 -1.3616094  1.6793638\n",
       "2 -0.62033844  0.008483424  0.02950365  0.2393332  0.3276683  0.0000000\n",
       "3 -0.48900552  1.146296747 -0.08143007 -0.1158877 -2.1492481  1.4036474\n",
       "4  3.16204944 -0.205464381  0.36230482  0.5945541  1.5298536 -0.6767585\n",
       "5 -0.48900552 -0.691709391 -0.24783066 -1.6551781  0.5453053 -0.5013026\n",
       "6 -0.30513945 -0.555560788 -0.63609870 -0.5895155  1.6956723 -1.7044289\n",
       "  Prob       Time        Crime\n",
       "1  1.6497631 -0.05599367  791 \n",
       "2 -0.7693365 -0.18315796 1635 \n",
       "3  1.5969416 -0.32416470  578 \n",
       "4 -1.3761895  0.46611085 1969 \n",
       "5 -0.2503580 -0.74759413 1234 \n",
       "6 -0.5669349 -0.78996812  682 "
      ]
     },
     "metadata": {},
     "output_type": "display_data"
    }
   ],
   "source": [
    "\n",
    "uscrime_scale <- cbind(as.data.frame(scale(crime_data[,1])), \n",
    "                      as.data.frame(crime_data[,2]), \n",
    "                      as.data.frame(scale(crime_data[,c(3,4,5,6,7,8,9,10,11,12,13,14,15)])),\n",
    "                      as.data.frame(crime_data[,16]))\n",
    " \n",
    "# Fix the column names\n",
    "colnames(uscrime_scale) <- colnames(crime_data)\n",
    "# Display scaled data\n",
    "head(uscrime_scale)"
   ]
  },
  {
   "cell_type": "code",
   "execution_count": 8,
   "metadata": {},
   "outputs": [
    {
     "data": {
      "text/html": [
       "48"
      ],
      "text/latex": [
       "48"
      ],
      "text/markdown": [
       "48"
      ],
      "text/plain": [
       "[1] 48"
      ]
     },
     "metadata": {},
     "output_type": "display_data"
    }
   ],
   "source": [
    "# Run lasso \n",
    "uscrime_lasso <- cv.glmnet(x=as.matrix(uscrime_scale[,-16]), y=as.matrix(uscrime_scale$Crime), \n",
    "                      alpha=1, nfolds = 5, type.measure=\"mse\", family=\"gaussian\")\n",
    "\n",
    "# Find the lamba with the smallest cvm\n",
    "x <- uscrime_lasso$cvm\n",
    "which(x == min(x))"
   ]
  },
  {
   "cell_type": "code",
   "execution_count": 9,
   "metadata": {},
   "outputs": [
    {
     "data": {
      "text/html": [
       "3.3198873850202"
      ],
      "text/latex": [
       "3.3198873850202"
      ],
      "text/markdown": [
       "3.3198873850202"
      ],
      "text/plain": [
       "[1] 3.319887"
      ]
     },
     "metadata": {},
     "output_type": "display_data"
    }
   ],
   "source": [
    "# The lamba for the smallest cvm\n",
    "uscrime_lasso$lambda[which(x == min(x))]"
   ]
  },
  {
   "cell_type": "code",
   "execution_count": 10,
   "metadata": {},
   "outputs": [
    {
     "data": {
      "text/html": [
       "3.3198873850202"
      ],
      "text/latex": [
       "3.3198873850202"
      ],
      "text/markdown": [
       "3.3198873850202"
      ],
      "text/plain": [
       "[1] 3.319887"
      ]
     },
     "metadata": {},
     "output_type": "display_data"
    }
   ],
   "source": [
    "# or\n",
    "uscrime_lasso$lambda.min"
   ]
  },
  {
   "cell_type": "code",
   "execution_count": 11,
   "metadata": {},
   "outputs": [
    {
     "data": {
      "text/plain": [
       "16 x 1 sparse Matrix of class \"dgCMatrix\"\n",
       "                    1\n",
       "(Intercept) 894.31532\n",
       "M           104.46095\n",
       "So           31.63626\n",
       "Ed          175.11702\n",
       "Po1         296.32198\n",
       "Po2           .      \n",
       "LF            .      \n",
       "M.F          52.34557\n",
       "Pop         -18.94369\n",
       "NW           14.32038\n",
       "U1          -71.07987\n",
       "U2          116.24494\n",
       "Wealth       53.72200\n",
       "Ineq        250.17012\n",
       "Prob        -89.19999\n",
       "Time          .      "
      ]
     },
     "metadata": {},
     "output_type": "display_data"
    }
   ],
   "source": [
    "coefficients(uscrime_lasso, s=uscrime_lasso$lambda.min)\n"
   ]
  },
  {
   "cell_type": "code",
   "execution_count": 12,
   "metadata": {},
   "outputs": [
    {
     "data": {
      "text/plain": [
       "\n",
       "Call:\n",
       "lm(formula = Crime ~ M + So + Ed + Po1 + M.F + Pop + NW + U1 + \n",
       "    U2 + Wealth + Ineq + Prob, data = uscrime_scale)\n",
       "\n",
       "Residuals:\n",
       "    Min      1Q  Median      3Q     Max \n",
       "-434.18 -107.01   18.55  115.88  470.32 \n",
       "\n",
       "Coefficients:\n",
       "            Estimate Std. Error t value Pr(>|t|)    \n",
       "(Intercept)   897.29      51.91  17.286  < 2e-16 ***\n",
       "M             112.71      49.35   2.284  0.02876 *  \n",
       "So             22.89     125.35   0.183  0.85621    \n",
       "Ed            195.70      62.94   3.109  0.00378 ** \n",
       "Po1           293.18      64.99   4.511 7.32e-05 ***\n",
       "M.F            48.92      48.12   1.017  0.31656    \n",
       "Pop           -33.25      45.63  -0.729  0.47113    \n",
       "NW             19.16      57.71   0.332  0.74195    \n",
       "U1            -89.76      65.68  -1.367  0.18069    \n",
       "U2            140.78      66.77   2.108  0.04245 *  \n",
       "Wealth         83.30      95.53   0.872  0.38932    \n",
       "Ineq          285.77      85.19   3.355  0.00196 ** \n",
       "Prob          -92.75      41.12  -2.255  0.03065 *  \n",
       "---\n",
       "Signif. codes:  0 '***' 0.001 '**' 0.01 '*' 0.05 '.' 0.1 ' ' 1\n",
       "\n",
       "Residual standard error: 202.6 on 34 degrees of freedom\n",
       "Multiple R-squared:  0.7971,\tAdjusted R-squared:  0.7255 \n",
       "F-statistic: 11.13 on 12 and 34 DF,  p-value: 1.52e-08\n"
      ]
     },
     "metadata": {},
     "output_type": "display_data"
    }
   ],
   "source": [
    "# Now lets make a model with these coefficients \n",
    "uscrime_lasso_lm <- lm(Crime ~M+So+Ed+Po1+M.F+Pop+NW+U1+U2+Wealth+Ineq+Prob, \n",
    "                    data = uscrime_scale)\n",
    "summary(uscrime_lasso_lm)"
   ]
  },
  {
   "cell_type": "code",
   "execution_count": 13,
   "metadata": {},
   "outputs": [
    {
     "data": {
      "text/plain": [
       "\n",
       "Call:\n",
       "lm(formula = Crime ~ M + Ed + Po1 + U2 + Ineq + Prob, data = uscrime_scale)\n",
       "\n",
       "Residuals:\n",
       "    Min      1Q  Median      3Q     Max \n",
       "-470.68  -78.41  -19.68  133.12  556.23 \n",
       "\n",
       "Coefficients:\n",
       "            Estimate Std. Error t value Pr(>|t|)    \n",
       "(Intercept)   905.09      29.27  30.918  < 2e-16 ***\n",
       "M             131.98      41.85   3.154  0.00305 ** \n",
       "Ed            219.79      50.07   4.390 8.07e-05 ***\n",
       "Po1           341.84      40.87   8.363 2.56e-10 ***\n",
       "U2             75.47      34.55   2.185  0.03483 *  \n",
       "Ineq          269.91      55.60   4.855 1.88e-05 ***\n",
       "Prob          -86.44      34.74  -2.488  0.01711 *  \n",
       "---\n",
       "Signif. codes:  0 '***' 0.001 '**' 0.01 '*' 0.05 '.' 0.1 ' ' 1\n",
       "\n",
       "Residual standard error: 200.7 on 40 degrees of freedom\n",
       "Multiple R-squared:  0.7659,\tAdjusted R-squared:  0.7307 \n",
       "F-statistic: 21.81 on 6 and 40 DF,  p-value: 3.418e-11\n"
      ]
     },
     "metadata": {},
     "output_type": "display_data"
    }
   ],
   "source": [
    "# Let's remove factor which p>0.05 and show the new model. \n",
    "uscrime_lasso_lm2 <- lm(Crime ~M+ Ed+ Po1+ U2+ Ineq+Prob, data = uscrime_scale)\n",
    "summary(uscrime_lasso_lm2)"
   ]
  },
  {
   "cell_type": "code",
   "execution_count": 14,
   "metadata": {},
   "outputs": [
    {
     "data": {
      "text/plain": [
       "\n",
       "Call:\n",
       "lm(formula = Crime ~ M + So + Ed + Po1 + Po2 + LF + M.F + NW + \n",
       "    U1 + U2 + Wealth + Ineq + Prob + Time, data = uscrime_scale)\n",
       "\n",
       "Residuals:\n",
       "    Min      1Q  Median      3Q     Max \n",
       "-380.91 -101.89  -14.77  110.87  505.40 \n",
       "\n",
       "Coefficients:\n",
       "            Estimate Std. Error t value Pr(>|t|)    \n",
       "(Intercept)  906.483     58.484  15.500  < 2e-16 ***\n",
       "M            112.837     51.691   2.183  0.03649 *  \n",
       "So            -4.105    147.172  -0.028  0.97792    \n",
       "Ed           211.246     68.713   3.074  0.00429 ** \n",
       "Po1          563.337    311.541   1.808  0.07998 .  \n",
       "Po2         -313.824    324.701  -0.966  0.34104    \n",
       "LF           -31.702     58.147  -0.545  0.58939    \n",
       "M.F           64.479     54.722   1.178  0.24737    \n",
       "NW            44.572     65.892   0.676  0.50362    \n",
       "U1          -112.728     73.902  -1.525  0.13699    \n",
       "U2           143.186     68.749   2.083  0.04535 *  \n",
       "Wealth        87.836     98.588   0.891  0.37961    \n",
       "Ineq         269.086     86.824   3.099  0.00403 ** \n",
       "Prob        -110.457     51.117  -2.161  0.03830 *  \n",
       "Time         -31.582     48.772  -0.648  0.52189    \n",
       "---\n",
       "Signif. codes:  0 '***' 0.001 '**' 0.01 '*' 0.05 '.' 0.1 ' ' 1\n",
       "\n",
       "Residual standard error: 206.8 on 32 degrees of freedom\n",
       "Multiple R-squared:  0.801,\tAdjusted R-squared:  0.714 \n",
       "F-statistic: 9.202 on 14 and 32 DF,  p-value: 1.301e-07\n"
      ]
     },
     "metadata": {},
     "output_type": "display_data"
    }
   ],
   "source": [
    "# Elastic net model\n",
    "\n",
    "r2=c()\n",
    "for (i in 0:10) {\n",
    "  mod_uscrime_elastic <- cv.glmnet(x=as.matrix(uscrime_scale[,-16]),y=as.matrix(uscrime_scale$Crime),\n",
    "                            alpha=i/10, nfolds = 5, type.measure=\"mse\",\n",
    "                            family=\"gaussian\")\n",
    "  #dev.ratio is the percentage of deviance explained\n",
    "  #min index for the dev.ratio of the model\n",
    "  r2 = cbind(r2, mod_uscrime_elastic$glmnet.fit$dev.ratio[which(mod_uscrime_elastic$glmnet.fit$lambda == mod_uscrime_elastic$lambda.min)])\n",
    "}\n",
    "\n",
    "#get the best alpha\n",
    "alpha <- (which.max(r2)-1)/10\n",
    "\n",
    "\n",
    "#get model with alphas = 0.05\n",
    "uscrime_elastic <- cv.glmnet(x=as.matrix(uscrime_scale[,-16]), \n",
    "                             y=as.matrix(uscrime_scale$Crime), alpha=0.05, \n",
    "                             nfolds = 5, type.measure=\"mse\", family=\"gaussian\")\n",
    "\n",
    "uscrime_elastic_lm = lm(Crime ~M+So+Ed+Po1+Po2+LF+M.F+NW+U1+U2+Wealth+Ineq+Prob\n",
    "+Time, data = uscrime_scale)\n",
    "summary(uscrime_elastic_lm)"
   ]
  },
  {
   "cell_type": "code",
   "execution_count": 15,
   "metadata": {},
   "outputs": [
    {
     "data": {
      "text/plain": [
       "\n",
       "Call:\n",
       "lm(formula = Crime ~ M + Ed + U2 + Ineq + Prob, data = uscrime_scale)\n",
       "\n",
       "Residuals:\n",
       "   Min     1Q Median     3Q    Max \n",
       "-478.8 -233.6  -46.5  143.2  797.1 \n",
       "\n",
       "Coefficients:\n",
       "            Estimate Std. Error t value Pr(>|t|)    \n",
       "(Intercept)   905.09      47.94  18.881  < 2e-16 ***\n",
       "M             107.25      68.36   1.569  0.12437    \n",
       "Ed            240.18      81.89   2.933  0.00547 ** \n",
       "U2            135.14      55.35   2.441  0.01903 *  \n",
       "Ineq          117.68      86.03   1.368  0.17880    \n",
       "Prob         -156.82      55.20  -2.841  0.00697 ** \n",
       "---\n",
       "Signif. codes:  0 '***' 0.001 '**' 0.01 '*' 0.05 '.' 0.1 ' ' 1\n",
       "\n",
       "Residual standard error: 328.6 on 41 degrees of freedom\n",
       "Multiple R-squared:  0.3565,\tAdjusted R-squared:  0.278 \n",
       "F-statistic: 4.542 on 5 and 41 DF,  p-value: 0.002186\n"
      ]
     },
     "metadata": {},
     "output_type": "display_data"
    }
   ],
   "source": [
    "uscrime_elastic_lm2 = lm(Crime ~M+Ed+U2+Ineq+Prob, data = uscrime_scale)\n",
    "summary(uscrime_elastic_lm2)"
   ]
  },
  {
   "cell_type": "code",
   "execution_count": null,
   "metadata": {},
   "outputs": [],
   "source": []
  },
  {
   "cell_type": "code",
   "execution_count": null,
   "metadata": {},
   "outputs": [],
   "source": []
  },
  {
   "cell_type": "code",
   "execution_count": null,
   "metadata": {},
   "outputs": [],
   "source": []
  },
  {
   "cell_type": "code",
   "execution_count": null,
   "metadata": {},
   "outputs": [],
   "source": []
  }
 ],
 "metadata": {
  "kernelspec": {
   "display_name": "R",
   "language": "R",
   "name": "ir"
  },
  "language_info": {
   "codemirror_mode": "r",
   "file_extension": ".r",
   "mimetype": "text/x-r-source",
   "name": "R",
   "pygments_lexer": "r",
   "version": "3.6.1"
  }
 },
 "nbformat": 4,
 "nbformat_minor": 4
}
